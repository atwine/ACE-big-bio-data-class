{
 "cells": [
  {
   "cell_type": "markdown",
   "metadata": {
    "id": "aTz0cvx7Iex3"
   },
   "source": [
    "## Numpy Assignment\n",
    "Student Name: KAKANDE Paul\n",
    "\n",
    "Reg No: 2022/HD07/2044U\n",
    "\n",
    "## Instructions:\n",
    "- Please complete the questions below.\n",
    "- Please comment your code indicating how you approached the problem"
   ]
  },
  {
   "cell_type": "code",
   "execution_count": 1,
   "metadata": {},
   "outputs": [],
   "source": [
    "# Importing numpy package and aliasing it as np\n",
    "import numpy as np"
   ]
  },
  {
   "cell_type": "code",
   "execution_count": 2,
   "metadata": {
    "id": "NwKEk4skG5c2"
   },
   "outputs": [],
   "source": [
    "# What is NumPy, and what are some of its key features?"
   ]
  },
  {
   "cell_type": "markdown",
   "metadata": {},
   "source": [
    "#### Defining NumPy and its key features.\n",
    "\n",
    "Numpy short for _Numerical Python_, is one of the foundational packages for numerical computing in python.\n",
    "\n",
    "**Features**\n",
    "- ndarray, an efficient multidimensional array that provides fast array-oriented arithmetic operations and flexible broadcasting capabilities.\n",
    "- Mathematical functions for fast operations on entire arrays of data without having to write loops, that is vectorisation.\n",
    "- Tools for reading and writing array data to disk and working with memory-mapped files.\n",
    "- Linear algebra, random number generation, and Fourier transform capabilities.\n",
    "- A C API for connecting NumPy with libraries written in C, C++, or FORTRA"
   ]
  },
  {
   "cell_type": "code",
   "execution_count": 3,
   "metadata": {
    "id": "OMqoIR7oJD0i"
   },
   "outputs": [],
   "source": [
    "#How do you create a NumPy array using Python's built-in range() function?"
   ]
  },
  {
   "cell_type": "markdown",
   "metadata": {},
   "source": [
    "#### Creating a NumPy array using Python's built-in range() function.\n",
    "\n",
    "Python's built-in `range()` returns a range object, a sequence of integers.\n",
    "\n",
    "Use case: <br/>\n",
    "`range(stop)` <br/>\n",
    "`range(start, stop \\[,step\\])` <br/>\n",
    "where in the first instance start defaults to zero. In both, it returns a range object that produces a sequence ranging from start inclusive to stop exclusive by step as the increment or decrement from the start. Start, Stop and Step should be integers.\n",
    "\n",
    "\n",
    "To create a NumPy array from the returned object;\n",
    "- Convert the `range()` iterable to a list using `list(range())`\n",
    "- Convert the created list to NumPy array using the array function of numpy as `numpy.array(list [,dtype=dtype])`\n",
    "\n",
    "The use case is shown in the next code block.\n",
    "\n",
    "**Note**<br/>\n",
    "The parameters in square brackets \"`[]`\" are not mandatory.<br/>\n",
    "dtype specifies the datatype to be used for the array."
   ]
  },
  {
   "cell_type": "code",
   "execution_count": 4,
   "metadata": {},
   "outputs": [
    {
     "data": {
      "text/plain": [
       "array([0, 1, 2, 3, 4, 5, 6, 7, 8, 9])"
      ]
     },
     "execution_count": 4,
     "metadata": {},
     "output_type": "execute_result"
    }
   ],
   "source": [
    "# Creating the NumPy array from the range built-in function\n",
    "arr_from_range = np.array(list(range(10)))\n",
    "\n",
    "# Displaying the created array\n",
    "arr_from_range"
   ]
  },
  {
   "cell_type": "code",
   "execution_count": 5,
   "metadata": {
    "id": "DRVy8tPoJHQr"
   },
   "outputs": [],
   "source": [
    "#What is the difference between a scalar value and a vector in NumPy?"
   ]
  },
  {
   "cell_type": "markdown",
   "metadata": {},
   "source": [
    "#### Difference between a scalar and a vector in NumPy.\n",
    "\n",
    "A scalar is a single value; these can be obtained using the `np.ScalarType` function. Examples are:\n",
    "- int\n",
    "- float64\n",
    "among others. These form the individual units of the NumPy arrays.\n",
    "\n",
    "A vector is an array with one dimension. It could be a column vector or a row vector.\n",
    "\n",
    "The code block below shows the distinction."
   ]
  },
  {
   "cell_type": "code",
   "execution_count": 6,
   "metadata": {},
   "outputs": [
    {
     "name": "stdout",
     "output_type": "stream",
     "text": [
      "NumPy Scalar types:\n",
      " (<class 'int'>, <class 'float'>, <class 'complex'>, <class 'int'>, <class 'bool'>, <class 'bytes'>, <class 'str'>, <class 'memoryview'>, <class 'numpy.bool_'>, <class 'numpy.complex64'>, <class 'numpy.clongdouble'>, <class 'numpy.complex128'>, <class 'numpy.float16'>, <class 'numpy.float32'>, <class 'numpy.longdouble'>, <class 'numpy.float64'>, <class 'numpy.int8'>, <class 'numpy.int16'>, <class 'numpy.int32'>, <class 'numpy.intc'>, <class 'numpy.int64'>, <class 'numpy.timedelta64'>, <class 'numpy.datetime64'>, <class 'numpy.object_'>, <class 'numpy.bytes_'>, <class 'numpy.str_'>, <class 'numpy.uint8'>, <class 'numpy.uint16'>, <class 'numpy.uintc'>, <class 'numpy.uint32'>, <class 'numpy.uint64'>, <class 'numpy.void'>)\n",
      "Column Vector:\n",
      " (4, 1)\n",
      "Row Vector:\n",
      " [1 2 3 4]\n"
     ]
    }
   ],
   "source": [
    "# printing out the scalar types in NumPy\n",
    "print(\"NumPy Scalar types:\\n\",np.ScalarType)\n",
    "\n",
    "# printing a column vector\n",
    "print(\"Column Vector:\\n\", np.array([[1],[2],[3],[4]]).shape)\n",
    "\n",
    "# printing a row vector\n",
    "print(\"Row Vector:\\n\",np.array([1,2,3,4]))"
   ]
  },
  {
   "cell_type": "code",
   "execution_count": 7,
   "metadata": {
    "id": "lHa-pHerJKd0"
   },
   "outputs": [],
   "source": [
    "#How do you calculate the mean of a NumPy array using the mean() function?"
   ]
  },
  {
   "cell_type": "markdown",
   "metadata": {},
   "source": [
    "#### Calculating the mean of a NumPy array using the mean() function\n",
    "\n",
    "For an array `arr`, the mean can be calculated using `np.mean(arr)`<br/>\n",
    "If the array `arr_nan` with one or more _not a number_ (`np.nan`) values, the mean can be calculated using the **Nan**-aware function `np.nanmean(arr_nan)`. <br/>\n",
    "\n",
    "Usage of `np.mean` is shown in the code block below:"
   ]
  },
  {
   "cell_type": "code",
   "execution_count": 8,
   "metadata": {},
   "outputs": [
    {
     "name": "stdout",
     "output_type": "stream",
     "text": [
      "Array:  [0 1 2 3 4 5 6 7 8 9]\n",
      "Mean:  4.5\n"
     ]
    }
   ],
   "source": [
    "# Creating the array, arr\n",
    "arr = np.arange(10)\n",
    "\n",
    "# Calculating mean of the array arr\n",
    "arr_mean = np.mean(arr)\n",
    "\n",
    "# Displaying the results\n",
    "print(\"Array: \", arr)\n",
    "print(\"Mean: \", arr_mean)"
   ]
  },
  {
   "cell_type": "code",
   "execution_count": 9,
   "metadata": {
    "id": "EqpLGTh8JON9"
   },
   "outputs": [],
   "source": [
    "#What is broadcasting in NumPy, and how can it be useful?"
   ]
  },
  {
   "cell_type": "markdown",
   "metadata": {},
   "source": [
    "#### Broadcasting in Numpy\n",
    "\n",
    "Broadcasting provides for the performance of arithmetic calculations between arrays of different shapes.\n",
    "\n",
    "Rules:<br/>\n",
    "- If the two arrays differ in their number of dimensions, the shape of the one with fewer dimensions is *padded* with ones on its leading (left) side.\n",
    "- If the shape of the two arrays does not match in any dimension, the array with shape equal to 1 in that dimension is stretched to match the other shape.\n",
    "- If in any dimension the sizes disagree and neither is equal to 1, an error is raised.\n",
    "\n",
    "Use:\n",
    "- It is used in centering arrays.\n",
    "- It is used to plot two dimensional functions."
   ]
  },
  {
   "cell_type": "code",
   "execution_count": 10,
   "metadata": {
    "id": "h0cD5yNcJQkm"
   },
   "outputs": [],
   "source": [
    "#How do you create a 2D array in NumPy using Python's built-in list of lists?"
   ]
  },
  {
   "cell_type": "markdown",
   "metadata": {},
   "source": [
    "#### Creating a 2D array in NumPy using Python's built-in list of lists\n",
    "\n",
    "To create a 2d array:\n",
    "- A lists of lists nested to only depth 2 is needed.\n",
    "- The list is then converted to a NumPy array using `np.array(List)`\n",
    "\n",
    "The code block below show the process:"
   ]
  },
  {
   "cell_type": "code",
   "execution_count": 11,
   "metadata": {},
   "outputs": [
    {
     "name": "stdout",
     "output_type": "stream",
     "text": [
      "list of lists:   [[0, 1], [1, 1]]\n",
      "Numpy 2D array: \n"
     ]
    },
    {
     "data": {
      "text/plain": [
       "array([[0, 1],\n",
       "       [1, 1]])"
      ]
     },
     "execution_count": 11,
     "metadata": {},
     "output_type": "execute_result"
    }
   ],
   "source": [
    "# Creating the list of lists nested to 2 depths.\n",
    "list_2D = [[0,1],[1,1]]\n",
    "\n",
    "# Converting the list to a NumPy 2D array\n",
    "np_2D_arr = np.array(list_2D)\n",
    "\n",
    "# Displaying the results\n",
    "print(\"list of lists:  \", list_2D)\n",
    "print(\"Numpy 2D array: \")\n",
    "np_2D_arr"
   ]
  },
  {
   "cell_type": "code",
   "execution_count": 12,
   "metadata": {
    "id": "bbLfBXwCJVwX"
   },
   "outputs": [],
   "source": [
    "#How can you slice a NumPy array to extract a subarray?"
   ]
  },
  {
   "cell_type": "markdown",
   "metadata": {},
   "source": [
    "#### Slicing a Numpy array to extract a subarray.\n",
    "\n",
    "Use case:<br/>\n",
    "For a one dimensional array arr;<br/>\n",
    "`arr[[start]:[stop]:[step]]` is used where;\n",
    "- `[start]` is an integer stating the index of the first element of the slice. Leaving this out defaults the `[start]` parameter to 0\n",
    "- `[stop]` is an integer stating the index of the element after the last element to be sliced. Leaving this out defaults the `[stop]` parameter to the index of the last element in the array plus one.\n",
    "- `[step]` indicates the count to the next index to include in the splice. It defaults to 1.\n",
    "\n",
    "For multidimensional arrays, the multiple slices are separated by commas as; <br/>\n",
    "For a 2-dimensional array, arr2D, the splices occurs as `arr2D[(row_splice_indices),(column_splice_indices)]` or `arr2D[(first_dimension_splice_indices),(second_dimension_splice_indices)`\n",
    "\n",
    "The higher dimensional arrays follow the same rules as the two dimensional arrays.\n",
    "\n",
    "Examples are shown in the code block below:"
   ]
  },
  {
   "cell_type": "code",
   "execution_count": 13,
   "metadata": {},
   "outputs": [
    {
     "name": "stdout",
     "output_type": "stream",
     "text": [
      "One dimensional array, arr1D:\n",
      " [0 1 2 3 4 5 6]\n",
      "Splice of one dimensional array(arr1D_splice): \n",
      " [2 3]\n",
      "Two dimensional array, arr2D:\n",
      " [[0 1 2 3 4 5 6]\n",
      " [1 2 3 4 5 6 7]\n",
      " [2 3 4 5 6 7 8]\n",
      " [3 4 5 6 6 8 9]]\n",
      "Splice of two dimensional array(arr2D_splice): \n",
      " [[0 2 4 6]\n",
      " [2 4 6 8]]\n"
     ]
    }
   ],
   "source": [
    "# For a one dimensional array\n",
    "arr1D = np.array([0,1,2,3,4,5,6])\n",
    "\n",
    "# Splicing out from second to fourth index(exclusive)\n",
    "arr1D_splice = arr1D[2:4]\n",
    "\n",
    "# For a two dimensional array\n",
    "arr2D = np.array([[0,1,2,3,4,5,6],\n",
    "                  [1,2,3,4,5,6,7],\n",
    "                  [2,3,4,5,6,7,8],\n",
    "                  [3,4,5,6,6,8,9]])\n",
    "\n",
    "# Splicing out every other row and every other column in a two dimensional array\n",
    "arr2D_splice = arr2D[::2,::2]\n",
    "\n",
    "# Printing out the results\n",
    "print(\"One dimensional array, arr1D:\\n\", arr1D)\n",
    "print(\"Splice of one dimensional array(arr1D_splice): \\n\", arr1D_splice)\n",
    "print(\"Two dimensional array, arr2D:\\n\", arr2D)\n",
    "print(\"Splice of two dimensional array(arr2D_splice): \\n\", arr2D_splice)"
   ]
  },
  {
   "cell_type": "code",
   "execution_count": 14,
   "metadata": {
    "id": "c1jTMq5AJbS2"
   },
   "outputs": [],
   "source": [
    "#What are some of the available functions for performing element-wise operations on NumPy arrays?"
   ]
  },
  {
   "cell_type": "markdown",
   "metadata": {},
   "source": [
    "#### Available functions for performing element-wise operations on NumPy arrays\n",
    "\n",
    "                        \n",
    "`np.add`         \n",
    "`np.subtract`<br/> \n",
    "`np.negative`<br/> \n",
    "`np.multiply`<br/> \n",
    "`np.divide`<br/> \n",
    "`np.floor_divide`<br/> \n",
    "`np.power`<br/> \n",
    "`np.mod`<br/>"
   ]
  },
  {
   "cell_type": "code",
   "execution_count": 15,
   "metadata": {
    "id": "dPgmCPERJe_2"
   },
   "outputs": [],
   "source": [
    "#How do you reshape a NumPy array to have a different shape?"
   ]
  },
  {
   "cell_type": "markdown",
   "metadata": {},
   "source": [
    "#### Reshaping a NumPy array to a different shape\n",
    "\n",
    "The `reshape()` method is used to reshape while maintaining the size of both array as equal.\n",
    "\n",
    "For `arr1D = np.array([0,1,2,3,4,5])`, `arr1D.reshape((2,3))` would change the 1 dimensional array to a 2 by 3 two dimensional array."
   ]
  },
  {
   "cell_type": "code",
   "execution_count": 16,
   "metadata": {},
   "outputs": [
    {
     "name": "stdout",
     "output_type": "stream",
     "text": [
      "Original array:\n",
      " [0 1 2 3 4 5]\n",
      "Reshaped array:\n",
      " [[0 1 2]\n",
      " [3 4 5]]\n"
     ]
    }
   ],
   "source": [
    "# Creating the array\n",
    "arr1D = np.array([0,1,2,3,4,5])\n",
    "\n",
    "# Reshaping the 1D array to a 2X3 array\n",
    "arr1D_reshaped = arr1D.reshape((2,3))\n",
    "\n",
    "# Printing out the results.\n",
    "print(\"Original array:\\n\", arr1D)\n",
    "print(\"Reshaped array:\\n\", arr1D_reshaped)"
   ]
  },
  {
   "cell_type": "code",
   "execution_count": 17,
   "metadata": {
    "id": "oon90JvgJhvv"
   },
   "outputs": [],
   "source": [
    "#How do you perform matrix multiplication on two NumPy arrays using the dot() function?"
   ]
  },
  {
   "cell_type": "markdown",
   "metadata": {},
   "source": [
    "#### Using the NumPy dot() function for matrix multiplication"
   ]
  },
  {
   "cell_type": "code",
   "execution_count": 18,
   "metadata": {},
   "outputs": [
    {
     "name": "stdout",
     "output_type": "stream",
     "text": [
      "Dot product of arr1 and arr2:\n",
      " [[10 13]\n",
      " [14 18]]\n"
     ]
    }
   ],
   "source": [
    "# Array defining\n",
    "arr1 = [[1,2],[1,3]]\n",
    "arr2 = [[2,3],[4,5]]\n",
    "\n",
    "# Making the dot product\n",
    "dot_pdt = np.dot(arr1,arr2)\n",
    "\n",
    "#Printing output\n",
    "print(\"Dot product of arr1 and arr2:\\n\", dot_pdt)"
   ]
  },
  {
   "cell_type": "code",
   "execution_count": 19,
   "metadata": {
    "id": "JtbVS5P0Jodg"
   },
   "outputs": [],
   "source": [
    "#How can you use the where() function to apply a condition to a NumPy array?"
   ]
  },
  {
   "cell_type": "markdown",
   "metadata": {},
   "source": [
    "#### Using the where() function to apply a condition to a NumPy array\n",
    "\n",
    "The syntax is `numpy.where(condition, [x,y])` where condition is a relational that can give a bolean if applied to an array, x and y are values from which to choose. x, y and condition have to be follow the broadcasting rules if consideration is to be made.\n",
    "\n",
    "Example is as in the code block below:"
   ]
  },
  {
   "cell_type": "code",
   "execution_count": 20,
   "metadata": {},
   "outputs": [
    {
     "data": {
      "text/plain": [
       "array([ 1,  0,  5,  7,  0, 11, 13,  0, 17, 19,  0, 23, 25,  0, 29, 31,  0,\n",
       "       35, 37,  0])"
      ]
     },
     "execution_count": 20,
     "metadata": {},
     "output_type": "execute_result"
    }
   ],
   "source": [
    "# Creating array\n",
    "arr = np.arange(1,40,2)\n",
    "\n",
    "# Using a mask to replace all values divisible by 3 by 0\n",
    "arr_where = np.where(np.mod(arr,3)==0, 0, arr)\n",
    "\n",
    "arr_where"
   ]
  },
  {
   "cell_type": "code",
   "execution_count": 21,
   "metadata": {
    "id": "UkJ-LQlhJrMA"
   },
   "outputs": [],
   "source": [
    "#What is the difference between the flatten() and ravel() functions in NumPy?"
   ]
  },
  {
   "cell_type": "markdown",
   "metadata": {},
   "source": [
    "#### Difference between the flatten() and ravel() functions in NumPy\n",
    "\n",
    "The `ravel()` and `flatten()`functions of NumPy returnsthe elements of the input as a one-dimensional array.\n",
    "\n",
    "Difference:<br/>\n",
    "`ravel()` returns a view of the original array wheres `flatten()` returns a copy. Hence modifying a value under the ravel function modifies the original array.\n",
    "\n",
    "\n",
    "Examples are as in the code block below:"
   ]
  },
  {
   "cell_type": "code",
   "execution_count": 22,
   "metadata": {},
   "outputs": [
    {
     "name": "stdout",
     "output_type": "stream",
     "text": [
      "[ 0 99  4  6  8 10]\n",
      "[[ 0  2  4]\n",
      " [ 6  8 10]]\n",
      "[ 0 99  4  6  8 10]\n",
      "[[ 0 99  4]\n",
      " [ 6  8 10]]\n"
     ]
    }
   ],
   "source": [
    "# defining the array\n",
    "arr = np.array([[0,2,4],[6,8,10]])\n",
    "\n",
    "# Using flatten() and changing element 2 to 99\n",
    "arr_flat = arr.flatten()\n",
    "arr_flat[arr_flat==2] = 99\n",
    "\n",
    "print(arr_flat) # printing out the altered one\n",
    "print(arr) # printing the original array\n",
    "\n",
    "# Using ravel() and changing element 2 to 99\n",
    "arr_rav = arr.ravel()\n",
    "arr_rav[arr_rav==2] = 99\n",
    "\n",
    "print(arr_rav) # printing out the altered one\n",
    "print(arr) # printing the original array.Here the 2 in the original array is change to 99"
   ]
  },
  {
   "cell_type": "code",
   "execution_count": 23,
   "metadata": {
    "id": "5cf9aukfJsaB"
   },
   "outputs": [],
   "source": [
    "#How do you use NumPy's advanced indexing capabilities to select specific elements from an array?"
   ]
  },
  {
   "cell_type": "markdown",
   "metadata": {},
   "source": [
    "#### Using NumPy's advanced indexing capabilities to select specific elements from an array."
   ]
  },
  {
   "cell_type": "code",
   "execution_count": 24,
   "metadata": {},
   "outputs": [
    {
     "name": "stdout",
     "output_type": "stream",
     "text": [
      "Elements of arr divisible by 3:\n",
      " [ 3  9 15 21 27 33 39]\n"
     ]
    }
   ],
   "source": [
    "# Defining the array.\n",
    "arr = np.arange(1,40,2).reshape(4,5)\n",
    "\n",
    "# Using advanced indexing to select all values divisible by 3\n",
    "arr3 = arr[np.mod(arr,3)==0] # This uses the np.mod to find the remainder of the division of the values in array, arr by 3\n",
    "# If the result of the division is zero, that value is returned and put into array, arr3\n",
    "\n",
    "#printing out the elements selected\n",
    "print(\"Elements of arr divisible by 3:\\n\",arr3)"
   ]
  },
  {
   "cell_type": "code",
   "execution_count": 25,
   "metadata": {
    "id": "b2NpOnu2JxMp"
   },
   "outputs": [],
   "source": [
    "#How can you use NumPy's broadcasting rules to perform operations on arrays with different shapes?"
   ]
  },
  {
   "cell_type": "markdown",
   "metadata": {},
   "source": [
    "#### Using NumPy's broadcasting rules to perform operations on arrays with different shapes"
   ]
  },
  {
   "cell_type": "code",
   "execution_count": 26,
   "metadata": {},
   "outputs": [
    {
     "name": "stdout",
     "output_type": "stream",
     "text": [
      "For two arrays with one having fewer dimensions (5,) and (2,5), sum is :\n",
      " [[ 2  4  6  8 10]\n",
      " [ 2  4  6  8 10]]\n",
      "For two arrays with one of the dimensions as 1 (1,5) and (2,5), sum is :\n",
      " [[ 2  4  6  8 10]\n",
      " [ 2  4  6  8 10]]\n",
      "For two arrays that with application of rules 1 and 2, the arrays stay incompatible (5,) and (4,2), an error is imminent as below :\n",
      "\n"
     ]
    },
    {
     "ename": "ValueError",
     "evalue": "operands could not be broadcast together with shapes (4,2) (5,) ",
     "output_type": "error",
     "traceback": [
      "\u001b[1;31m---------------------------------------------------------------------------\u001b[0m",
      "\u001b[1;31mValueError\u001b[0m                                Traceback (most recent call last)",
      "\u001b[1;32m~\\AppData\\Local\\Temp\\ipykernel_9088\\1013209574.py\u001b[0m in \u001b[0;36m<module>\u001b[1;34m\u001b[0m\n\u001b[0;32m     25\u001b[0m \u001b[0mprint\u001b[0m\u001b[1;33m(\u001b[0m\u001b[1;34m\"For two arrays with one of the dimensions as 1 (1,5) and (2,5), sum is :\\n\"\u001b[0m\u001b[1;33m,\u001b[0m \u001b[0marr4p3\u001b[0m\u001b[1;33m)\u001b[0m\u001b[1;33m\u001b[0m\u001b[1;33m\u001b[0m\u001b[0m\n\u001b[0;32m     26\u001b[0m \u001b[0mprint\u001b[0m\u001b[1;33m(\u001b[0m\u001b[1;34m\"For two arrays that with application of rules 1 and 2, the arrays stay incompatible (5,) and (4,2), an error is imminent as below :\\n\"\u001b[0m\u001b[1;33m)\u001b[0m\u001b[1;33m\u001b[0m\u001b[1;33m\u001b[0m\u001b[0m\n\u001b[1;32m---> 27\u001b[1;33m \u001b[0mprint\u001b[0m\u001b[1;33m(\u001b[0m\u001b[0marr6\u001b[0m \u001b[1;33m+\u001b[0m \u001b[0marr5\u001b[0m\u001b[1;33m)\u001b[0m\u001b[1;33m\u001b[0m\u001b[1;33m\u001b[0m\u001b[0m\n\u001b[0m",
      "\u001b[1;31mValueError\u001b[0m: operands could not be broadcast together with shapes (4,2) (5,) "
     ]
    }
   ],
   "source": [
    "# For two arrays with one having fewer dimensions\n",
    "arr1 = np.array([1,2,3,4,5]) # One dimensional array (5,)\n",
    "arr2 = np.array([[1,2,3,4,5],[1,2,3,4,5]]) # Two dimensional array (2,5)\n",
    "\n",
    "# Adding arr1 to arr 2 gives a 2 dimensional array (2,5)\n",
    "arr2p1 = arr2 + arr2 # Here the arr1 is padded with ones to become shaped as (1,5) then the two are added\n",
    "\n",
    "# For two arrays with one having one of the dimensions as 1\n",
    "arr3 = np.array([[1,2,3,4,5]]) # One dimensional array (1,5)\n",
    "arr4 = np.array([[1,2,3,4,5],[1,2,3,4,5]]) # Two dimensional array (2,5)\n",
    "\n",
    "# Adding arr3 to arr 4 gives a 2 dimensional array (2,5)\n",
    "arr4p3 = arr4 + arr3 # Here the arr3 has its dimension equal to 1 stretched to 2 making its shape (2,5) then the addition happend.\n",
    "\n",
    "# For two arrays with diagreements in the dimensional sizes not met by the first two rules\n",
    "arr5 = np.array([1,2,3,4,5]) # One dimensional array (5,)\n",
    "arr6 = np.array([[1,2],[1,2],[1,2],[1,2]]) # Two dimensional array ,(4,2)\n",
    "\n",
    "# Adding arr5 to arr6 gives an error\n",
    "#arr6p5 = arr6 + arr5 # Here, the padding on arr5 makes it have shape (1,5), then stretched to become (4,5) making the shapes incopatible hence the error.\n",
    "\n",
    "\n",
    "# printing out the the results\n",
    "print(\"For two arrays with one having fewer dimensions (5,) and (2,5), sum is :\\n\", arr2p1)\n",
    "print(\"For two arrays with one of the dimensions as 1 (1,5) and (2,5), sum is :\\n\", arr4p3)\n",
    "print(\"For two arrays that with application of rules 1 and 2, the arrays stay incompatible (5,) and (4,2), an error is imminent as below :\\n\")\n",
    "print(arr6 + arr5)"
   ]
  },
  {
   "cell_type": "code",
   "execution_count": 27,
   "metadata": {
    "id": "vS-gg1ZrJ8s6"
   },
   "outputs": [],
   "source": [
    "#How do you perform element-wise division of two NumPy arrays while ignoring divide-by-zero errors?"
   ]
  },
  {
   "cell_type": "markdown",
   "metadata": {},
   "source": [
    "#### Performing element-wise division of two NumPy arrays while ignoring divide-by-zero errors\n",
    "\n",
    "Here, we can use the `np.where` function masking out values less than zero.\n",
    "\n",
    "Example is shown in the code block below:"
   ]
  },
  {
   "cell_type": "code",
   "execution_count": 28,
   "metadata": {},
   "outputs": [
    {
     "name": "stderr",
     "output_type": "stream",
     "text": [
      "C:\\Users\\NDA\\AppData\\Local\\Temp\\ipykernel_9088\\402943287.py:6: RuntimeWarning: divide by zero encountered in true_divide\n",
      "  arr_div = np.where(arr2==0, a, a/arr2) # here whenever arr2 value is a zero, the value of a is retained as is.\n"
     ]
    },
    {
     "data": {
      "text/plain": [
       "array([5.        , 2.5       , 1.66666667, 1.25      , 1.        ,\n",
       "       5.        , 2.5       , 1.66666667])"
      ]
     },
     "execution_count": 28,
     "metadata": {},
     "output_type": "execute_result"
    }
   ],
   "source": [
    "# Array defining\n",
    "a = 5\n",
    "arr2 = np.array([0,2,3,4,5,0,2,3])\n",
    "\n",
    "# Using the np.where function to divide arr1 by arr2\n",
    "arr_div = np.where(arr2==0, a, a/arr2) # here whenever arr2 value is a zero, the value of a is retained as is.\n",
    "\n",
    "arr_div"
   ]
  },
  {
   "cell_type": "markdown",
   "metadata": {
    "id": "XgeHrSj7KzTj"
   },
   "source": [
    "### Project: Array Statistics Calculator\n",
    "**Description:**\n",
    "\n",
    "In this project, you will create a program that allows a user to enter a list of numbers, and then calculates and displays various statistics about those numbers using NumPy.\n",
    "\n",
    "**Requirements:**\n",
    "\n",
    "- The program should prompt the user to enter a list of numbers separated by commas.\n",
    "- The program should use NumPy to convert the input into a 1D NumPy array.\n",
    "- The program should calculate and display the following statistics:\n",
    "- The mean of the numbers\n",
    "- The median of the numbers\n",
    "- The standard deviation of the numbers\n",
    "- The maximum and minimum values of the numbers\n",
    "- The program should use appropriate NumPy functions to calculate the statistics.\n",
    "- The program should display the statistics with appropriate labels.\n",
    "\n",
    "### Sample Output\n",
    "```\n",
    "Enter a list of numbers separated by commas: 2, 5, 7, 3, 1, 9\n",
    "Statistics for the input array:\n",
    "Mean: 4.5\n",
    "Median: 4.0\n",
    "Standard Deviation: 2.9154759474226504\n",
    "Maximum: 9\n",
    "Minimum: 1\n",
    "```"
   ]
  },
  {
   "cell_type": "code",
   "execution_count": 29,
   "metadata": {
    "id": "xQU4w-RxLgWZ"
   },
   "outputs": [
    {
     "name": "stdout",
     "output_type": "stream",
     "text": [
      "Enter a list of numbers separated by commas: 2,5,7,3,1,9\n",
      "Statistics for the input array:\n",
      "Mean:  4.5\n",
      "Median:  4.0\n",
      "Standard Deviation:  2.8136571693556887\n",
      "Maximum:  9\n",
      "Minimum:  1\n"
     ]
    }
   ],
   "source": [
    "def array_statistics_calculator(): # Defining the function for calculating array statistics\n",
    "    # Using the input function to seek input from the user\n",
    "    user_input = input(\"Enter a list of numbers separated by commas: \")\n",
    "    \n",
    "    # Converting the textual user input into a 1D NumPy array\n",
    "    user_array = np.array([int(x) for x in user_input.split(\",\")])\n",
    "    \n",
    "    # Printing the summary statistics for the input array\n",
    "    print(\"Statistics for the input array:\")\n",
    "    print(\"Mean: \", np.mean(user_array))\n",
    "    print(\"Median: \", np.median(user_array))\n",
    "    print(\"Standard Deviation: \", np.std(user_array))\n",
    "    print(\"Maximum: \", np.max(user_array))\n",
    "    print(\"Minimum: \", np.min(user_array))\n",
    "\n",
    "# Invoking the program or function\n",
    "array_statistics_calculator()"
   ]
  },
  {
   "cell_type": "markdown",
   "metadata": {},
   "source": [
    "#### Explanation for the function above\n",
    "\n",
    "In `def array_statistics_calculator():`;\n",
    "- `def` provides for the definition of a function.\n",
    "- `array_statistics_calculator` is the name of the function.\n",
    "- `()` holds the function's input parameters. If the function has no input parameters, it is left blank.\n",
    "- `:` marks the end of the function definition and start of the function's body.\n",
    "\n",
    "The body of the function should be indented. Removing this indention makes the code block not part of the function.\n",
    "\n",
    "In the function's code block;\n",
    "- `user_input = input(\"Enter a list of numbers separated by commas: \")` prompts the user to \"Enter a list of numbers separated by commas\" and stores the user input into the `user_input` variable. `input` in a built in variable that reads input from the user's input devices.\n",
    "<br/>\n",
    "\n",
    "- `user_array = np.array([int(x) for x in user_input.split(\",\")])` converts the value of `user_input` into a 1D NumPy array of integer values.\n",
    "    - `split(\"delim\")` function splits the value of the provided variable along delimeter `delim` which for this case is a comma (,) returning a list of values.\n",
    "    - `[int(x) for x in user_input.split(\",\")]` is list comprehension that converts each value in the list returned by `user_input.split(\",\")` into an integer using the function `int()`. This returns a list of integer.\n",
    "Finally, the returned list is converted to a NumPy array using the `array` function of NumPy.\n",
    "\n",
    "\n",
    "The code block below prints the mean, median, standard deviation, maximum and minumum statistics of the NumPy array, `user_array` created; using functions np.mean, np.median, np.std, np.max, np.min respectively where np is an alias for numpy.\n",
    "\n",
    "```\n",
    "    print(\"Mean: \", np.mean(user_array))\n",
    "    print(\"Median: \", np.median(user_array))\n",
    "    print(\"Standard Deviation: \", np.std(user_array))\n",
    "    print(\"Maximum: \", np.max(user_array))\n",
    "    print(\"Minimum: \", np.min(user_array))\n",
    "```"
   ]
  }
 ],
 "metadata": {
  "colab": {
   "provenance": []
  },
  "kernelspec": {
   "display_name": "Python 3 (ipykernel)",
   "language": "python",
   "name": "python3"
  },
  "language_info": {
   "codemirror_mode": {
    "name": "ipython",
    "version": 3
   },
   "file_extension": ".py",
   "mimetype": "text/x-python",
   "name": "python",
   "nbconvert_exporter": "python",
   "pygments_lexer": "ipython3",
   "version": "3.9.13"
  }
 },
 "nbformat": 4,
 "nbformat_minor": 1
}
