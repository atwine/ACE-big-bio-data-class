{
  "cells": [
    {
      "attachments": {},
      "cell_type": "markdown",
      "metadata": {
        "id": "aTz0cvx7Iex3"
      },
      "source": [
        "## Numpy Assignment\n",
        "- Student Name: KISAKYE BARBRA\n",
        "\n",
        "- Reg No:2022/HD07/1966U\n",
        "- STDNO:2200701966\n",
        "\n",
        "## Instructions:\n",
        "- Please complete the questions below.\n",
        "- Please comment your code indicating how you approached the problem"
      ]
    },
    {
      "attachments": {},
      "cell_type": "markdown",
      "metadata": {
        "id": "NwKEk4skG5c2"
      },
      "source": [
        "### What is NumPy, and what are some of its key features?\n",
        "NumPy is a Python library for numerical computing that provides efficient data structures for working with multi-dimensional arrays and matrices, as well as a collection of mathematical functions to manipulate those arrays. NumPy stands for Numerical Python.\n",
        "\n",
        "Features\n",
        "Multidimensional arrays: NumPy provides a powerful N-dimensional array object that can hold homogeneous data, which allows for efficient computation on large amounts of data.\n",
        "\n",
        "Broadcasting: NumPy's broadcasting feature allows for element-wise operations between arrays with different shapes and sizes, making it easy to perform operations on entire arrays without using loops.\n",
        "\n",
        "Mathematical functions: NumPy provides a wide range of mathematical functions that can be applied element-wise to arrays, including functions for trigonometry, logarithms, exponents, and more.\n",
        "\n",
        "Linear algebra: NumPy provides a suite of linear algebra functions, including matrix \n",
        "\n"
      ]
    },
    {
      "attachments": {},
      "cell_type": "markdown",
      "metadata": {
        "id": "OMqoIR7oJD0i"
      },
      "source": [
        "## How do you create a NumPy array using Python's built-in range() function?\n",
        "You can create a NumPy array using Python's built-in range() function by first creating a Python list using range() and then converting it to a NumPy array using the numpy.array() function. "
      ]
    },
    {
      "cell_type": "code",
      "execution_count": null,
      "metadata": {},
      "outputs": [],
      "source": [
        "import numpy as np\n",
        "\n",
        "# Create a Python list using the range() function\n",
        "my_list = list(range(5))\n",
        "\n",
        "# Convert the Python list to a NumPy array\n",
        "my_array = np.array(my_list)\n",
        "\n",
        "print(my_array)\n",
        "# Output: [0 1 2 3 4]"
      ]
    },
    {
      "attachments": {},
      "cell_type": "markdown",
      "metadata": {
        "id": "DRVy8tPoJHQr"
      },
      "source": [
        "### What is the difference between a scalar value and a vector in NumPy?\n",
        "\n",
        "In NumPy, a scalar value is a single numerical value, while a vector is a one-dimensional array of numerical values.\n",
        "\n",
        "A scalar value in NumPy is represented as a single element with no dimensions.\n",
        "\n",
        "A vector in NumPy is an array of numerical values with a single dimension"
      ]
    },
    {
      "cell_type": "code",
      "execution_count": null,
      "metadata": {},
      "outputs": [],
      "source": [
        "import numpy as np\n",
        "#example for a Scalar in NumPy\n",
        "x = np.array(5)\n",
        "print(x)\n",
        "# Output: 5\n",
        "\n",
        "print(x.shape)\n",
        "# Output: ()\n",
        "\n",
        "# example for vector in NumPy\n",
        "import numpy as np\n",
        "\n",
        "y = np.array([1, 2, 3, 4])\n",
        "print(y)\n",
        "# Output: [1 2 3 4]\n",
        "\n",
        "print(y.shape)\n",
        "# Output: (4,)\n"
      ]
    },
    {
      "attachments": {},
      "cell_type": "markdown",
      "metadata": {
        "id": "lHa-pHerJKd0"
      },
      "source": [
        "### How do you calculate the mean of a NumPy array using the mean() function?\n",
        "To calculate the mean of a NumPy array using the mean() function, you can follow these steps:\n",
        "\n",
        "Import the NumPy library\n",
        "Create a NumPy array\n",
        "Call the mean() function on the array\n",
        "The mean() function will return the average (mean) of all the elements in the array"
      ]
    },
    {
      "cell_type": "code",
      "execution_count": null,
      "metadata": {},
      "outputs": [],
      "source": [
        "import numpy as np\n",
        "my_array = np.array([1, 2, 3, 4, 5])\n",
        "my_mean = np.mean(my_array)"
      ]
    },
    {
      "attachments": {},
      "cell_type": "markdown",
      "metadata": {
        "id": "EqpLGTh8JON9"
      },
      "source": [
        "### What is broadcasting in NumPy, and how can it be useful?\n",
        "\n",
        "In NumPy, broadcasting is a technique that allows for element-wise operations between arrays of different shapes and sizes, without the need to explicitly reshape or replicate the arrays.\n",
        "\n",
        "More specifically, broadcasting involves a set of rules that determine how arrays with different shapes can be used in arithmetic operations. These rules apply whenever arrays are of different shapes, but are compatible in some way.\n"
      ]
    },
    {
      "cell_type": "code",
      "execution_count": null,
      "metadata": {},
      "outputs": [],
      "source": [
        "import numpy as np\n",
        "\n",
        "# Creating two arrays\n",
        "x = np.array([1, 2, 3])\n",
        "y = np.array([4, 5, 6])\n",
        "\n",
        "# Broadcasting the two arrays\n",
        "result = x + y\n",
        "\n",
        "# Displaying the result\n",
        "print(result)"
      ]
    },
    {
      "attachments": {},
      "cell_type": "markdown",
      "metadata": {
        "id": "bbLfBXwCJVwX"
      },
      "source": [
        "### How do you create a 2D array in NumPy using Python's built-in list of lists?\n",
        "First you  import Numpy Library and the you can use the numpy.array() function and pass in the list of lists as an argument."
      ]
    },
    {
      "cell_type": "code",
      "execution_count": null,
      "metadata": {},
      "outputs": [],
      "source": [
        "import numpy as np\n",
        "\n",
        "# create a list of lists\n",
        "my_list = [[1, 2, 3], [4, 5, 6], [7, 8, 9]]\n",
        "\n",
        "# create a 2D NumPy array from the list of lists\n",
        "my_array = np.array(my_list)\n",
        "\n",
        "# print the array\n",
        "print(my_array)"
      ]
    },
    {
      "attachments": {},
      "cell_type": "markdown",
      "metadata": {},
      "source": [
        "### How can you slice a NumPy array to extract a subarray?\n",
        "To slice a NumPy array and extract a subarray, you can use indexing notation with a colon (:) to indicate the start and end points of the slice.The syntax for slicing a NumPy array is array[start_row:end_row, start_col:end_col].\n",
        "\n"
      ]
    },
    {
      "cell_type": "code",
      "execution_count": null,
      "metadata": {},
      "outputs": [],
      "source": [
        "import numpy as np\n",
        "\n",
        "# create a 2D NumPy array\n",
        "arr = np.array([[1, 2, 3], [4, 5, 6], [7, 8, 9]])\n",
        "\n",
        "# slice the array to extract a subarray\n",
        "subarr = arr[1:3, 1:3]\n",
        "\n",
        "print(subarr)"
      ]
    },
    {
      "attachments": {},
      "cell_type": "markdown",
      "metadata": {
        "id": "c1jTMq5AJbS2"
      },
      "source": [
        "### What are some of the available functions for performing element-wise operations on NumPy arrays?\n",
        "- np.add(): Adds two arrays element-wise.\n",
        "- np.subtract(): Subtracts two arrays element-wise.\n",
        "- np.multiply(): Multiplies two arrays element-wise.\n",
        "- np.divide(): Divides two arrays element-wise.\n",
        "- np.power(): Calculates the exponent of an array element-wise.\n",
        "- np.sqrt(): Calculates the square root of an array element-wise.\n",
        "- np.exp(): Calculates the exponential of an array element-wise.\n",
        "- np.log(): Calculates the natural logarithm of an array element-wise.\n",
        "- np.sin(): Calculates the sine of an array element-wise.\n",
        "- np.cos(): Calculates the cosine of an array element-wise.\n",
        "- np.tan(): Calculates the tangent of an array element-wise.\n",
        "- np.arcsin(): Calculates the inverse sine of an array element-wise."
      ]
    },
    {
      "attachments": {},
      "cell_type": "markdown",
      "metadata": {
        "id": "dPgmCPERJe_2"
      },
      "source": [
        "### How do you reshape a NumPy array to have a different shape?\n",
        "To reshape a NumPy array, you can use the reshape() method of the NumPy array. This method takes in a new shape as a tuple and returns a new array with the specified shape."
      ]
    },
    {
      "cell_type": "code",
      "execution_count": 6,
      "metadata": {},
      "outputs": [
        {
          "name": "stdout",
          "output_type": "stream",
          "text": [
            "[[ 1  2  3]\n",
            " [ 4  5  6]\n",
            " [ 7  8  9]\n",
            " [10 11 12]]\n"
          ]
        }
      ],
      "source": [
        "import numpy as np\n",
        "\n",
        "# Create a NumPy array with shape (3, 4)\n",
        "arr = np.array([[1, 2, 3, 4], [5, 6, 7, 8], [9, 10, 11, 12]])\n",
        "\n",
        "# Reshape the array to have shape (4, 3)\n",
        "new_arr = arr.reshape((4, 3))\n",
        "\n",
        "print(new_arr)"
      ]
    },
    {
      "attachments": {},
      "cell_type": "markdown",
      "metadata": {
        "id": "oon90JvgJhvv"
      },
      "source": [
        "### How do you perform matrix multiplication on two NumPy arrays using the dot() function?\n",
        "You can perform matrix multiplication on two NumPy arrays using the dot() function. Forexample"
      ]
    },
    {
      "cell_type": "code",
      "execution_count": 7,
      "metadata": {},
      "outputs": [
        {
          "name": "stdout",
          "output_type": "stream",
          "text": [
            "[[19 22]\n",
            " [43 50]]\n"
          ]
        }
      ],
      "source": [
        "import numpy as np\n",
        "\n",
        "# Create two NumPy arrays\n",
        "A = np.array([[1, 2], [3, 4]])\n",
        "B = np.array([[5, 6], [7, 8]])\n",
        "\n",
        "# Perform matrix multiplication using dot() function\n",
        "C = A.dot(B)\n",
        "\n",
        "print(C)"
      ]
    },
    {
      "attachments": {},
      "cell_type": "markdown",
      "metadata": {
        "id": "JtbVS5P0Jodg"
      },
      "source": [
        "### How can you use the where() function to apply a condition to a NumPy array?\n",
        "The where() function in NumPy is used to apply a condition to a NumPy array, and returns a new array containing elements from one of two arrays, depending on whether the condition is True or False. The general syntax for using the where() function is:\n",
        "numpy.where(condition, x, y)"
      ]
    },
    {
      "cell_type": "code",
      "execution_count": 8,
      "metadata": {},
      "outputs": [
        {
          "name": "stdout",
          "output_type": "stream",
          "text": [
            "(array([3, 4, 5], dtype=int64),)\n"
          ]
        }
      ],
      "source": [
        "import numpy as np\n",
        "\n",
        "# Create a NumPy array\n",
        "arr = np.array([1, 2, 3, 4,5,6])\n",
        "\n",
        "# Use where() to filter the array for values greater than 3\n",
        "new_arr = np.where(arr > 3)\n",
        "\n",
        "# Print the filtered array\n",
        "print(new_arr)"
      ]
    },
    {
      "attachments": {},
      "cell_type": "markdown",
      "metadata": {
        "id": "UkJ-LQlhJrMA"
      },
      "source": [
        "### What is the difference between the flatten() and ravel() functions in NumPy?\n",
        "Both flatten() and ravel() functions in NumPy are used to convert a multi-dimensional array into a one-dimensional array, but they have some differences.\n",
        "\n",
        "flatten() creates a copy of the original array, whereas ravel() returns a view of the original array. This means that changes made to the flattened array returned by flatten() will not affect the original array, while changes made to the array returned by ravel() will affect the original array.\n",
        "\n",
        "Additionally, ravel() may return a reference to the original array in some cases, rather than a copy or view, depending on the memory layout of the original array. In contrast, flatten() always returns a copy of the original array."
      ]
    },
    {
      "cell_type": "code",
      "execution_count": 10,
      "metadata": {},
      "outputs": [
        {
          "name": "stdout",
          "output_type": "stream",
          "text": [
            "[[1 2]\n",
            " [3 4]]\n",
            "[[0 2]\n",
            " [3 4]]\n"
          ]
        }
      ],
      "source": [
        "import numpy as np\n",
        "\n",
        "arr = np.array([[1, 2], [3, 4]])\n",
        "# original array:\n",
        "# [[1 2]\n",
        "#  [3 4]]\n",
        "\n",
        "flattened = arr.flatten()\n",
        "flattened[0] = 0\n",
        "# flattened array:\n",
        "# [0 2 3 4]\n",
        "\n",
        "print(arr)\n",
        "# original array is not affected:\n",
        "# [[1 2]\n",
        "#  [3 4]]\n",
        "\n",
        "raveled = arr.ravel()\n",
        "raveled[0] = 0\n",
        "# raveled array:\n",
        "# [0 2 3 4]\n",
        "\n",
        "print(arr)\n",
        "# original array is affected:\n",
        "# [[0 2]\n",
        "#  [3 4]]"
      ]
    },
    {
      "attachments": {},
      "cell_type": "markdown",
      "metadata": {
        "id": "5cf9aukfJsaB"
      },
      "source": [
        "#### How do you use NumPy's advanced indexing capabilities to select specific elements from an array?\n",
        "NumPy's advanced indexing is a way to select specific elements or groups of elements from an array by using an index or boolean mask array. Here's how you can use it:\n",
        "Using a single index array:\n",
        "You can use a single index array to select specific elements from an array. For example:"
      ]
    },
    {
      "cell_type": "code",
      "execution_count": null,
      "metadata": {},
      "outputs": [
        {
          "name": "stdout",
          "output_type": "stream",
          "text": [
            "[2 4]\n"
          ]
        }
      ],
      "source": [
        "import numpy as np\n",
        "\n",
        "arr = np.array([1, 2, 3, 4, 5])\n",
        "index = np.array([1, 3])\n",
        "\n",
        "selected = arr[index]\n",
        "print(selected)  # Output: [2 4]"
      ]
    },
    {
      "attachments": {},
      "cell_type": "markdown",
      "metadata": {},
      "source": [
        "Using multiple index arrays:\n",
        "You can also use multiple index arrays to select elements from an array. For example:"
      ]
    },
    {
      "cell_type": "code",
      "execution_count": 3,
      "metadata": {},
      "outputs": [
        {
          "name": "stdout",
          "output_type": "stream",
          "text": [
            "[2 5]\n"
          ]
        }
      ],
      "source": [
        "import numpy as np\n",
        "\n",
        "arr = np.array([[1, 2], [3, 4], [5, 6]])\n",
        "row_index = np.array([0, 2])\n",
        "col_index = np.array([1, 0])\n",
        "\n",
        "selected = arr[row_index, col_index]\n",
        "print(selected)  # Output: [2 5]"
      ]
    },
    {
      "attachments": {},
      "cell_type": "markdown",
      "metadata": {
        "id": "b2NpOnu2JxMp"
      },
      "source": [
        "#### How can you use NumPy's broadcasting rules to perform operations on arrays with different shapes?\n",
        "\n",
        "NumPy's broadcasting rules allow you to perform operations on arrays with different shapes. Broadcasting is a powerful tool that allows NumPy to work with arrays of different shapes and sizes. It enables you to perform operations on arrays without explicitly creating copies of the data.\n",
        "\n",
        "The basic idea behind broadcasting is that if two arrays have different shapes, but their dimensions match in some way, you can use them together in an operation. When performing an operation on two arrays, NumPy compares their shapes element-wise. If the dimensions of the arrays are not the same, but they are compatible according to the broadcasting rules, NumPy will broadcast one or both of the arrays to match the dimensions of the other"
      ]
    },
    {
      "attachments": {},
      "cell_type": "markdown",
      "metadata": {
        "id": "vS-gg1ZrJ8s6"
      },
      "source": [
        "### How do you perform element-wise division of two NumPy arrays while ignoring divide-by-zero errors?\n",
        "\n",
        "You can perform element-wise division of two NumPy arrays while ignoring divide-by-zero errors using the numpy.divide() function along with the numpy.errstate() context manager."
      ]
    },
    {
      "cell_type": "code",
      "execution_count": null,
      "metadata": {},
      "outputs": [
        {
          "name": "stdout",
          "output_type": "stream",
          "text": [
            "[inf  1. inf]\n"
          ]
        }
      ],
      "source": [
        "import numpy as np\n",
        "\n",
        "a = np.array([1, 2, 3])\n",
        "b = np.array([0, 2, 0])\n",
        "\n",
        "# Create a context manager to ignore divide-by-zero errors\n",
        "with np.errstate(divide='ignore', invalid='ignore'):\n",
        "    c = np.divide(a, b)\n",
        "\n",
        "print(c)"
      ]
    },
    {
      "attachments": {},
      "cell_type": "markdown",
      "metadata": {
        "id": "XgeHrSj7KzTj"
      },
      "source": [
        "###### Project: Array Statistics Calculator\n",
        "**Description:**\n",
        "\n",
        "#### In this project, you will create a program that allows a user to enter a list of numbers, and then calculates and displays various statistics about those numbers using NumPy.\n",
        "\n",
        "#### **Requirements:**\n",
        "\n",
        "- The program should prompt the user to enter a list of numbers separated by commas.\n",
        "- The program should use NumPy to convert the input into a 1D NumPy array.\n",
        "- The program should calculate and display the following statistics:\n",
        "- The mean of the numbers\n",
        "- The median of the numbers\n",
        "- The standard deviation of the numbers\n",
        "- The maximum and minimum values of the numbers\n",
        "- The program should use appropriate NumPy functions to calculate the statistics.\n",
        "- The program should display the statistics with appropriate labels.\n",
        "\n",
        "### Sample Output\n",
        "```\n",
        "Enter a list of numbers separated by commas: 2, 5, 7, 3, 1, 9\n",
        "Statistics for the input array:\n",
        "Mean: 4.5\n",
        "Median: 4.0\n",
        "Standard Deviation: 2.9154759474226504\n",
        "Maximum: 9\n",
        "Minimum: 1\n",
        "```"
      ]
    },
    {
      "cell_type": "code",
      "execution_count": 5,
      "metadata": {},
      "outputs": [
        {
          "name": "stdout",
          "output_type": "stream",
          "text": [
            "Mean:  2.0\n",
            "Median:  2.0\n",
            "Standard Deviation:  0.816496580927726\n",
            "Maximum value:  3\n",
            "Minimum value:  1\n"
          ]
        }
      ],
      "source": [
        "import numpy as np\n",
        "# Prompt the user to enter a list of numbers separated by commas\n",
        "input_str = input(\"Enter a list of numbers separated by commas: \")\n",
        "# Convert the input into a 1D NumPy array\n",
        "nums = np.fromstring(input_str, dtype=int, sep=',')\n",
        "# Calculate the mean of the numbers\n",
        "mean = np.mean(nums)\n",
        "# Calculate the median of the numbers\n",
        "median = np.median(nums)\n",
        "# Calculate the standard deviation of the numbers\n",
        "std = np.std(nums)\n",
        "# Calculate the maximum value of the numbers\n",
        "max_val = np.max(nums)\n",
        "# Calculate the minimum value of the numbers\n",
        "min_val = np.min(nums)\n",
        "# Display the statistics with appropriate labels\n",
        "print(\"Mean: \", mean)\n",
        "print(\"Median: \", median)\n",
        "print(\"Standard Deviation: \", std)\n",
        "print(\"Maximum value: \", max_val)\n",
        "print(\"Minimum value: \", min_val)"
      ]
    }
  ],
  "metadata": {
    "colab": {
      "provenance": []
    },
    "kernelspec": {
      "display_name": "Python 3",
      "name": "python3"
    },
    "language_info": {
      "codemirror_mode": {
        "name": "ipython",
        "version": 3
      },
      "file_extension": ".py",
      "mimetype": "text/x-python",
      "name": "python",
      "nbconvert_exporter": "python",
      "pygments_lexer": "ipython3",
      "version": "3.11.2"
    }
  },
  "nbformat": 4,
  "nbformat_minor": 0
}
