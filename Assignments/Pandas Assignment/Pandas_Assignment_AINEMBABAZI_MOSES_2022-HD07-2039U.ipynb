{
  "cells": [
    {
      "attachments": {},
      "cell_type": "markdown",
      "metadata": {
        "id": "QjhxZHa4XZrg"
      },
      "source": [
        "Pandas Assignment\n",
        "Student Name:AINEMBABAZI MOSES\n",
        "\n",
        "Reg No:2022/HD07/2039U\n",
        "\n",
        "Instructions:\n",
        "Please complete the questions below.\n",
        "Please comment your code indicating how you approached the problem"
      ]
    },
    {
      "cell_type": "markdown",
      "metadata": {
        "id": "dzFp6JEGY-U2"
      },
      "source": [
        "## Introduction to Pandas"
      ]
    },
    {
      "cell_type": "code",
      "execution_count": 6,
      "metadata": {
        "id": "BTAGt12UXCSg"
      },
      "outputs": [
        {
          "name": "stdout",
          "output_type": "stream",
          "text": [
            "12.5\n"
          ]
        }
      ],
      "source": [
        "#Create a Pandas Series object containing the following data: 5, 10, 15, 20, 25. What is the average of the values in the Series?\n",
        "# first import pandas\n",
        "import pandas as pd\n",
        "\n",
        "# construct a serie usind series() function\n",
        "dseries = pd.Series([5, 10, 15, 20])\n",
        "\n",
        "#calculate the mean of the series using mean() function\n",
        "dseries = dseries.mean()\n",
        "\n",
        "print(dseries)\n"
      ]
    },
    {
      "cell_type": "code",
      "execution_count": 10,
      "metadata": {
        "id": "r_2GlShpZCY0"
      },
      "outputs": [
        {
          "name": "stdout",
          "output_type": "stream",
          "text": [
            "180000\n"
          ]
        }
      ],
      "source": [
        "#Create a Pandas DataFrame object containing the following data: {'Name': ['Alice', 'Bob', 'Charlie'], 'Age': [25, 30, 35], 'Salary': [50000, 60000, 70000]}. What is the total salary of all employees?\n",
        "\n",
        "# Create a dictionary containing the data\n",
        "data = {'Name': ['Alice', 'Bob', 'Charlie'], \n",
        "        'Age': [25, 30, 35], \n",
        "        'Salary': [50000, 60000, 70000]}\n",
        "\n",
        "# Create a DataFrame object from the dictionary\n",
        "df = pd.DataFrame(data)\n",
        "\n",
        "# Calculate the total salary of all employees by using the `.sum()` method on the 'Salary' column\n",
        "total_salary = df['Salary'].sum()\n",
        "\n",
        "# Print the total salary of all employees\n",
        "print(total_salary)"
      ]
    },
    {
      "cell_type": "markdown",
      "metadata": {
        "id": "yhIUNmfGZG9l"
      },
      "source": [
        "## DataFrames and Series"
      ]
    },
    {
      "cell_type": "code",
      "execution_count": 11,
      "metadata": {
        "id": "h9-hguvpZKVF"
      },
      "outputs": [
        {
          "name": "stdout",
          "output_type": "stream",
          "text": [
            "0    11\n",
            "1    12\n",
            "2    13\n",
            "3    14\n",
            "4    15\n",
            "dtype: int64\n"
          ]
        }
      ],
      "source": [
        "#Create a Pandas Series object containing the following data: [1, 2, 3, 4, 5].\n",
        "# Add 10 to each value in the Series.\n",
        "\n",
        "# Create a Pandas Series object containing the data\n",
        "data = pd.Series([1, 2, 3, 4, 5])\n",
        "\n",
        "# Add 10 to each value in the Series using the `+` operator\n",
        "data = data + 10\n",
        "\n",
        "# Print the updated Series\n",
        "print(data)"
      ]
    },
    {
      "cell_type": "code",
      "execution_count": 12,
      "metadata": {
        "id": "fwEQ6vAJZPwt"
      },
      "outputs": [
        {
          "name": "stdout",
          "output_type": "stream",
          "text": [
            "      Name  Age  Salary\n",
            "2  Charlie   35   70000\n",
            "      Name  Age  Salary\n",
            "2  Charlie   35   70000\n"
          ]
        }
      ],
      "source": [
        "#Create a Pandas DataFrame object containing the following data: {'Name': ['Alice', 'Bob', 'Charlie'], 'Age': [25, 30, 35], 'Salary': [50000, 60000, 70000]}. Select only the rows where the Age is greater than 30.\n",
        "# Import the pandas library\n",
        "import pandas as pd\n",
        "\n",
        "# Create a dictionary containing the data\n",
        "data = {'Name': ['Alice', 'Bob', 'Charlie'], \n",
        "        'Age': [25, 30, 35], \n",
        "        'Salary': [50000, 60000, 70000]}\n",
        "\n",
        "# Create a DataFrame object from the dictionary\n",
        "df = pd.DataFrame(data)\n",
        "\n",
        "# Select only the rows where the Age is greater than 30 using boolean indexing\n",
        "# First, create a boolean mask by comparing the 'Age' column to 30\n",
        "mask = df['Age'] > 30\n",
        "\n",
        "# Then, use the boolean mask to select only the rows where the Age is greater than 30\n",
        "selected_rows = df[mask]\n",
        "\n",
        "# Print the selected rows\n",
        "print(selected_rows)\n",
        "\n",
        "# Create a dictionary containing the data\n",
        "data = {'Name': ['Alice', 'Bob', 'Charlie'], \n",
        "        'Age': [25, 30, 35], \n",
        "        'Salary': [50000, 60000, 70000]}\n",
        "\n",
        "# Create a DataFrame object from the dictionary\n",
        "df = pd.DataFrame(data)\n",
        "\n",
        "# Select only the rows where the Age is greater than 30 using boolean indexing\n",
        "# First, create a boolean mask by comparing the 'Age' column to 30\n",
        "mask = df['Age'] > 30\n",
        "\n",
        "# Then, use the boolean mask to select only the rows where the Age is greater than 30\n",
        "selected_rows = df[mask]\n",
        "\n",
        "# Print the selected rows\n",
        "print(selected_rows)\n"
      ]
    },
    {
      "cell_type": "markdown",
      "metadata": {
        "id": "nDrPzc3tZVCc"
      },
      "source": [
        "## Loading Data into Pandas"
      ]
    },
    {
      "cell_type": "code",
      "execution_count": 19,
      "metadata": {
        "id": "sdNPXVUWZZ_i"
      },
      "outputs": [
        {
          "name": "stdout",
          "output_type": "stream",
          "text": [
            "Index(['Pregnancies', 'Glucose', 'BloodPressure', 'SkinThickness', 'Insulin',\n",
            "       'BMI', 'DiabetesPedigreeFunction', 'Age', 'Outcome'],\n",
            "      dtype='object')\n"
          ]
        }
      ],
      "source": [
        "#Load a CSV file named 'diabetes.csv' into a Pandas DataFrame object. What are the names of the columns in the DataFrame?\n",
        "#Please check your data folder for this dataset\n",
        "\n",
        "daf = pd.read_csv(\"../../Data/Diabetes/diabetes.csv\")\n",
        "\n",
        "print(daf.columns)\n",
        "\n"
      ]
    },
    {
      "cell_type": "code",
      "execution_count": 21,
      "metadata": {
        "id": "Xc9EYfEqZiG_"
      },
      "outputs": [
        {
          "name": "stdout",
          "output_type": "stream",
          "text": [
            "Dimensions of the DataFrame: (768, 9)\n"
          ]
        }
      ],
      "source": [
        "#Display the dimensions of the data\n",
        "# Display the dimensions of the DataFrame\n",
        "print(\"Dimensions of the DataFrame:\", daf.shape)"
      ]
    },
    {
      "cell_type": "code",
      "execution_count": 24,
      "metadata": {
        "id": "4a5FAPN_ZlRJ"
      },
      "outputs": [
        {
          "name": "stdout",
          "output_type": "stream",
          "text": [
            "   Pregnancies  Glucose  BloodPressure  SkinThickness  Insulin   BMI  \\\n",
            "0            6      148             72             35        0  33.6   \n",
            "1            1       85             66             29        0  26.6   \n",
            "2            8      183             64              0        0  23.3   \n",
            "3            1       89             66             23       94  28.1   \n",
            "4            0      137             40             35      168  43.1   \n",
            "5            5      116             74              0        0  25.6   \n",
            "6            3       78             50             32       88  31.0   \n",
            "7           10      115              0              0        0  35.3   \n",
            "8            2      197             70             45      543  30.5   \n",
            "9            8      125             96              0        0   0.0   \n",
            "\n",
            "   DiabetesPedigreeFunction  Age  Outcome  \n",
            "0                     0.627   50        1  \n",
            "1                     0.351   31        0  \n",
            "2                     0.672   32        1  \n",
            "3                     0.167   21        0  \n",
            "4                     2.288   33        1  \n",
            "5                     0.201   30        0  \n",
            "6                     0.248   26        1  \n",
            "7                     0.134   29        0  \n",
            "8                     0.158   53        1  \n",
            "9                     0.232   54        1  \n"
          ]
        }
      ],
      "source": [
        "#Display the top 10 rows\n",
        "#use head function and specify by calling 10 top lines\n",
        "print(daf.head(10))"
      ]
    },
    {
      "cell_type": "code",
      "execution_count": 26,
      "metadata": {
        "id": "kXh8GQx6ZosC"
      },
      "outputs": [
        {
          "name": "stdout",
          "output_type": "stream",
          "text": [
            "     Pregnancies  Glucose  BloodPressure  SkinThickness  Insulin   BMI  \\\n",
            "758            1      106             76              0        0  37.5   \n",
            "759            6      190             92              0        0  35.5   \n",
            "760            2       88             58             26       16  28.4   \n",
            "761            9      170             74             31        0  44.0   \n",
            "762            9       89             62              0        0  22.5   \n",
            "763           10      101             76             48      180  32.9   \n",
            "764            2      122             70             27        0  36.8   \n",
            "765            5      121             72             23      112  26.2   \n",
            "766            1      126             60              0        0  30.1   \n",
            "767            1       93             70             31        0  30.4   \n",
            "\n",
            "     DiabetesPedigreeFunction  Age  Outcome  \n",
            "758                     0.197   26        0  \n",
            "759                     0.278   66        1  \n",
            "760                     0.766   22        0  \n",
            "761                     0.403   43        1  \n",
            "762                     0.142   33        0  \n",
            "763                     0.171   63        0  \n",
            "764                     0.340   27        0  \n",
            "765                     0.245   30        0  \n",
            "766                     0.349   47        1  \n",
            "767                     0.315   23        0  \n"
          ]
        }
      ],
      "source": [
        "#Display the last 10 rows\n",
        "\n",
        "#selecting the top 10 rows using tail() function\n",
        "\n",
        "print(daf.tail(10))"
      ]
    },
    {
      "cell_type": "markdown",
      "metadata": {
        "id": "CDKEEmvmZwiq"
      },
      "source": [
        "## Data Cleaning"
      ]
    },
    {
      "cell_type": "code",
      "execution_count": 27,
      "metadata": {
        "id": "PFzUFZrTZzxV"
      },
      "outputs": [
        {
          "name": "stdout",
          "output_type": "stream",
          "text": [
            "Original DataFrame:\n",
            "      Name   Age   Salary\n",
            "0    Alice  25.0  50000.0\n",
            "1      Bob  30.0      NaN\n",
            "2  Charlie   NaN  70000.0\n",
            "3     Dave  35.0  80000.0\n",
            "4      Eve  40.0  90000.0\n",
            "\n",
            "DataFrame after dropping rows with missing values:\n",
            "    Name   Age   Salary\n",
            "0  Alice  25.0  50000.0\n",
            "3   Dave  35.0  80000.0\n",
            "4    Eve  40.0  90000.0\n"
          ]
        }
      ],
      "source": [
        "#Create a Pandas DataFrame object containing the following data: {'Name': ['Alice', 'Bob', 'Charlie', 'Dave', 'Eve'], 'Age': [25, 30, None, 35, 40], 'Salary': [50000, None, 70000, 80000, 90000]}. \n",
        "# Remove all rows with missing values\n",
        "import pandas as pd\n",
        "\n",
        "# Create a Pandas DataFrame object\n",
        "data = {'Name': ['Alice', 'Bob', 'Charlie', 'Dave', 'Eve'],\n",
        "        'Age': [25, 30, None, 35, 40],\n",
        "        'Salary': [50000, None, 70000, 80000, 90000]}\n",
        "\n",
        "df = pd.DataFrame(data)  # Convert dictionary to DataFrame\n",
        "print(\"Original DataFrame:\")\n",
        "print(df)\n",
        "\n",
        "# Drop all rows with missing values and update the DataFrame in place\n",
        "df.dropna(inplace=True)\n",
        "\n",
        "print(\"\\nDataFrame after dropping rows with missing values:\")\n",
        "print(df)\n"
      ]
    },
    {
      "cell_type": "code",
      "execution_count": 30,
      "metadata": {
        "id": "PRof8tNzZ34b"
      },
      "outputs": [
        {
          "name": "stdout",
          "output_type": "stream",
          "text": [
            "      Name   Age   Salary\n",
            "0    Alice  25.0  50000.0\n",
            "1      Bob  30.0  75000.0\n",
            "2  Charlie  32.5  70000.0\n",
            "3     Dave  35.0  80000.0\n",
            "4      Eve  40.0  90000.0\n"
          ]
        }
      ],
      "source": [
        "#Create a Pandas DataFrame object containing the following data: {'Name': ['Alice', 'Bob', 'Charlie', 'Dave', 'Eve'], 'Age': [25, 30, None, 35, 40], 'Salary': [50000, None, 70000, 80000, 90000]}. \n",
        "# Fill all missing values with the average Age and the median Salary.\n",
        "import pandas as pd\n",
        "import numpy as np\n",
        "\n",
        "# create the DataFrame\n",
        "moses = {'Name': ['Alice', 'Bob', 'Charlie', 'Dave', 'Eve'], \n",
        "        'Age': [25, 30, None, 35, 40], \n",
        "        'Salary': [50000, None, 70000, 80000, 90000]}\n",
        "moses = pd.DataFrame(data)\n",
        "\n",
        "# fill missing values with the average Age and median Salary\n",
        "avg_age = moses['Age'].mean()  # calculate the average Age\n",
        "median_salary = moses['Salary'].median()  # calculate the median Salary\n",
        "moses.fillna({'Age': avg_age, 'Salary': median_salary}, inplace=True)\n",
        "\n",
        "# print the updated DataFrame\n",
        "print(moses)\n"
      ]
    },
    {
      "cell_type": "code",
      "execution_count": 31,
      "metadata": {},
      "outputs": [
        {
          "name": "stdout",
          "output_type": "stream",
          "text": [
            "      Name   Age   Salary\n",
            "0    Alice  25.0  50000.0\n",
            "1      Bob  30.0  75000.0\n",
            "2  Charlie  32.5  70000.0\n",
            "3     Dave  35.0  80000.0\n",
            "4      Eve  40.0  90000.0\n"
          ]
        }
      ],
      "source": [
        "# let me try using a loop\n",
        "import pandas as pd\n",
        "\n",
        "data = {'Name': ['Alice', 'Bob', 'Charlie', 'Dave', 'Eve'], \n",
        "        'Age': [25, 30, None, 35, 40], \n",
        "        'Salary': [50000, None, 70000, 80000, 90000]}\n",
        "\n",
        "dforif = pd.DataFrame(data)\n",
        "\n",
        "# loop through each column\n",
        "for column in dforif.columns:\n",
        "    # check if column has missing values\n",
        "    if dforif[column].isna().any():\n",
        "        # fill missing values with average or median depending on data type\n",
        "        if dforif[column].dtype == 'float64':\n",
        "            dforif[column] = dforif[column].fillna(dforif[column].median())\n",
        "        else:\n",
        "            dforif[column] = dforif[column].fillna(dfforif[column].mean())\n",
        "\n",
        "print(dforif)\n"
      ]
    },
    {
      "cell_type": "markdown",
      "metadata": {
        "id": "Dm9ghsopZ8Fb"
      },
      "source": [
        "## Data Exploration"
      ]
    },
    {
      "cell_type": "code",
      "execution_count": 32,
      "metadata": {
        "id": "y3MDNAY6Z_xz"
      },
      "outputs": [
        {
          "name": "stdout",
          "output_type": "stream",
          "text": [
            "The maximum Age is 35\n",
            "The minimum Salary is 50000\n"
          ]
        }
      ],
      "source": [
        "#Create a Pandas DataFrame object containing the following data: {'Name': ['Alice', 'Bob', 'Charlie'], 'Age': [25, 30, 35], 'Salary': [50000, 60000, 70000]}. What is the maximum Age and minimum Salary in the DataFrame?\n",
        "\n",
        "# create the DataFrame\n",
        "df = pd.DataFrame({\n",
        "    'Name': ['Alice', 'Bob', 'Charlie'],\n",
        "    'Age': [25, 30, 35],\n",
        "    'Salary': [50000, 60000, 70000]\n",
        "})\n",
        "\n",
        "# find the maximum age and minimum salary using the max() and min() functions\n",
        "max_age = df['Age'].max()\n",
        "min_salary = df['Salary'].min()\n",
        "\n",
        "# print the results\n",
        "print(f\"The maximum Age is {max_age}\")\n",
        "print(f\"The minimum Salary is {min_salary}\")\n"
      ]
    },
    {
      "cell_type": "code",
      "execution_count": 33,
      "metadata": {
        "id": "vDlB5kgpaDwE"
      },
      "outputs": [
        {
          "name": "stdout",
          "output_type": "stream",
          "text": [
            "Correlation coefficient between Age and Salary: 1.0\n"
          ]
        }
      ],
      "source": [
        "#Create a Pandas DataFrame object containing the following data: {'Name': ['Alice', 'Bob', 'Charlie'], 'Age': [25, 30, 35], 'Salary': [50000, 60000, 70000]}. Calculate the correlation coefficient between Age and Salary.\n",
        "import pandas as pd\n",
        "\n",
        "# create the dataframe\n",
        "df = pd.DataFrame({'Name': ['Alice', 'Bob', 'Charlie'], 'Age': [25, 30, 35], \n",
        "                   'Salary': [50000, 60000, 70000]})\n",
        "\n",
        "# calculate the correlation coefficient\n",
        "corr_coef = df['Age'].corr(df['Salary'])\n",
        "\n",
        "# print the correlation coefficient\n",
        "print(\"Correlation coefficient between Age and Salary:\", corr_coef)\n"
      ]
    },
    {
      "cell_type": "markdown",
      "metadata": {
        "id": "l8bPg2etaGNU"
      },
      "source": [
        "## Grouping and Aggregating Data"
      ]
    },
    {
      "cell_type": "code",
      "execution_count": 34,
      "metadata": {
        "id": "njbAfs1xaJ4d"
      },
      "outputs": [
        {
          "name": "stdout",
          "output_type": "stream",
          "text": [
            "Age\n",
            "25    65000.0\n",
            "30    75000.0\n",
            "35    70000.0\n",
            "Name: Salary, dtype: float64\n"
          ]
        }
      ],
      "source": [
        "#Create a Pandas DataFrame object containing the following data: {'Name': ['Alice', 'Bob', 'Charlie', 'Dave', 'Eve'], 'Age': [25, 30, 35, 25, 30], 'Salary': [50000, 60000, 70000, 80000, 90000]}. Group the DataFrame by Age and calculate the mean Salary for each group.\n",
        "# import pandas library\n",
        "import pandas as pd\n",
        "\n",
        "# create a dictionary with Name, Age and Salary as keys and their corresponding values\n",
        "data = {'Name': ['Alice', 'Bob', 'Charlie', 'Dave', 'Eve'], \n",
        "        'Age': [25, 30, 35, 25, 30], \n",
        "        'Salary': [50000, 60000, 70000, 80000, 90000]}\n",
        "\n",
        "# create a pandas DataFrame from the dictionary\n",
        "df = pd.DataFrame(data)\n",
        "\n",
        "# group the DataFrame by Age and calculate the mean Salary for each group\n",
        "mean_salary_by_age = df.groupby('Age')['Salary'].mean()\n",
        "\n",
        "# print the resulting Series\n",
        "print(mean_salary_by_age)\n"
      ]
    },
    {
      "cell_type": "code",
      "execution_count": null,
      "metadata": {
        "id": "3Ev8WrCQaN0t"
      },
      "outputs": [],
      "source": []
    },
    {
      "cell_type": "markdown",
      "metadata": {
        "id": "uqNLYJGBamsa"
      },
      "source": [
        "## Reshaping Data"
      ]
    },
    {
      "cell_type": "code",
      "execution_count": 35,
      "metadata": {
        "id": "nPyItbc6aoPA"
      },
      "outputs": [
        {
          "name": "stdout",
          "output_type": "stream",
          "text": [
            "Quarter   Q1   Q2\n",
            "Year             \n",
            "2019     100  200\n",
            "2020     300  400\n"
          ]
        }
      ],
      "source": [
        "#Create a Pandas DataFrame object containing the following data: {'Year': [2019, 2019, 2020, 2020], 'Quarter': ['Q1', 'Q2', 'Q1', 'Q2'], 'Sales': [100, 200, 300, 400]}.\n",
        "# Pivot the DataFrame so that the rows are indexed by Year, the columns are indexed by Quarter, and the values are the Sales.\n",
        "import pandas as pd\n",
        "\n",
        "# create the initial DataFrame\n",
        "df = pd.DataFrame({\n",
        "    'Year': [2019, 2019, 2020, 2020],\n",
        "    'Quarter': ['Q1', 'Q2', 'Q1', 'Q2'],\n",
        "    'Sales': [100, 200, 300, 400]\n",
        "})\n",
        "\n",
        "# use pivot to reorganize the DataFrame\n",
        "pivot_df = df.pivot(index='Year', columns='Quarter', values='Sales')\n",
        "\n",
        "# display the resulting DataFrame\n",
        "print(pivot_df)\n"
      ]
    },
    {
      "cell_type": "code",
      "execution_count": 36,
      "metadata": {
        "id": "7UWE3_NaawLj"
      },
      "outputs": [
        {
          "name": "stdout",
          "output_type": "stream",
          "text": [
            "      Name Gender         Year  Salary\n",
            "0    Alice      F  Salary 2019   50000\n",
            "1      Bob      M  Salary 2019   60000\n",
            "2  Charlie      M  Salary 2019   70000\n",
            "3    Alice      F  Salary 2020   55000\n",
            "4      Bob      M  Salary 2020   65000\n",
            "5  Charlie      M  Salary 2020   75000\n"
          ]
        }
      ],
      "source": [
        "#Create a Pandas DataFrame object containing the following data: {'Name': ['Alice', 'Bob', 'Charlie'], 'Gender': ['F', 'M', 'M'], 'Salary 2019': [50000, 60000, 70000], 'Salary 2020': [55000, 65000, 75000]}. Melt the DataFrame so that the variable column contains the years and the value column contains the salaries.\n",
        "\n",
        "# Create a Pandas DataFrame object\n",
        "data = {'Name': ['Alice', 'Bob', 'Charlie'],\n",
        "        'Gender': ['F', 'M', 'M'],\n",
        "        'Salary 2019': [50000, 60000, 70000],\n",
        "        'Salary 2020': [55000, 65000, 75000]}\n",
        "df = pd.DataFrame(data)\n",
        "\n",
        "# Melt the DataFrame\n",
        "melted_df = pd.melt(df, id_vars=['Name', 'Gender'], var_name='Year', value_name='Salary')\n",
        "\n",
        "# Print the melted DataFrame\n",
        "print(melted_df)\n"
      ]
    },
    {
      "cell_type": "markdown",
      "metadata": {
        "id": "Q7_gHKi5a0bN"
      },
      "source": [
        "## Merging and Joining Data"
      ]
    },
    {
      "cell_type": "code",
      "execution_count": 37,
      "metadata": {
        "id": "SPZOaqzIa7Js"
      },
      "outputs": [
        {
          "name": "stdout",
          "output_type": "stream",
          "text": [
            "  key  value_x  value_y\n",
            "0   B        2        5\n",
            "1   D        4        6\n"
          ]
        }
      ],
      "source": [
        "#Create two Pandas DataFrame objects, df1 and df2, containing the following data: df1 = {'key': ['A', 'B', 'C', 'D'], 'value': [1, 2, 3, 4]} and df2 = {'key': ['B', 'D', 'E', 'F'], 'value': [5, 6, 7, 8]}. Merge the two DataFrames using an inner join on the 'key' column.\n",
        "import pandas as pd\n",
        "\n",
        "# create df1\n",
        "df1 = pd.DataFrame({'key': ['A', 'B', 'C', 'D'], 'value': [1, 2, 3, 4]})\n",
        "\n",
        "# create df2\n",
        "df2 = pd.DataFrame({'key': ['B', 'D', 'E', 'F'], 'value': [5, 6, 7, 8]})\n",
        "\n",
        "# merge df1 and df2 on 'key' column using inner join\n",
        "merged_df = pd.merge(df1, df2, on='key', how='inner')\n",
        "\n",
        "print(merged_df)\n"
      ]
    },
    {
      "cell_type": "code",
      "execution_count": 38,
      "metadata": {
        "id": "Wvey28Jsa_Ws"
      },
      "outputs": [
        {
          "name": "stdout",
          "output_type": "stream",
          "text": [
            "  key  value1  value2\n",
            "0   A       1     NaN\n",
            "1   B       2     5.0\n",
            "2   C       3     NaN\n",
            "3   D       4     6.0\n"
          ]
        }
      ],
      "source": [
        "#Create two Pandas DataFrame objects, df1 and df2, containing the following data: df1 = {'key': ['A', 'B', 'C', 'D'], 'value1': [1, 2, 3, 4]} and df2 = {'key': ['B', 'D', 'E', 'F'], 'value2': [5, 6, 7, 8]}. \n",
        "# Perform a left join on df1 and df2 using the 'key' column as the join key.\n",
        "\n",
        "import pandas as pd\n",
        "\n",
        "df1 = pd.DataFrame({'key': ['A', 'B', 'C', 'D'], 'value1': [1, 2, 3, 4]})\n",
        "df2 = pd.DataFrame({'key': ['B', 'D', 'E', 'F'], 'value2': [5, 6, 7, 8]})\n",
        "\n",
        "merged_df = pd.merge(df1, df2, on='key', how='left')\n",
        "print(merged_df)\n"
      ]
    },
    {
      "cell_type": "markdown",
      "metadata": {
        "id": "pYg6Y5SRb1ML"
      },
      "source": [
        "## Mini Pandas Project\n",
        "\n",
        "- Load the CSV file into a Pandas DataFrame object.\n",
        "- Clean the data by removing any rows with missing values and any duplicate rows.\n",
        "- Use NumPy to calculate the mean and standard deviation of the \"births\" column.\n",
        "- Use Pandas to group the data by year and month, and calculate the mean number of births for each group.\n",
        "- Use Matplotlib to create a line plot of the mean number of births per month over time.\n",
        "- Use Pandas to group the data by day of the week, and calculate the mean number of births for each day.\n",
        "- Use Matplotlib to create a bar chart of the mean number of births per day of the week.\n",
        "- Use Pandas to group the data by year, and calculate the total number of births for each year.\n",
        "- Use Matplotlib to create a bar chart of the total number of births per year.\n",
        "\n",
        ">> NOTE: Below is boiler code for you to get started with.Please fill in the missing codes."
      ]
    },
    {
      "cell_type": "code",
      "execution_count": 57,
      "metadata": {},
      "outputs": [
        {
          "data": {
            "text/plain": [
              "year    month\n",
              "1969.0  1.0      4739.935484\n",
              "        2.0      4830.964286\n",
              "        3.0      4781.225806\n",
              "        4.0      4707.833333\n",
              "        5.0      4661.580645\n",
              "                    ...     \n",
              "1988.0  8.0      5719.338710\n",
              "        9.0      5787.950000\n",
              "        10.0     5348.903226\n",
              "        11.0     5244.433333\n",
              "        12.0     5198.822581\n",
              "Name: births, Length: 240, dtype: float64"
            ]
          },
          "execution_count": 57,
          "metadata": {},
          "output_type": "execute_result"
        }
      ],
      "source": [
        "mean_births"
      ]
    },
    {
      "cell_type": "code",
      "execution_count": 7,
      "metadata": {
        "id": "QWvvcvj4eCyT"
      },
      "outputs": [
        {
          "name": "stdout",
          "output_type": "stream",
          "text": [
            "       year  month  day gender  births\n",
            "0      1969      1  1.0      F    4046\n",
            "1      1969      1  1.0      M    4440\n",
            "2      1969      1  2.0      F    4454\n",
            "3      1969      1  2.0      M    4548\n",
            "4      1969      1  3.0      F    4548\n",
            "...     ...    ...  ...    ...     ...\n",
            "15542  2008     10  NaN      M  183219\n",
            "15543  2008     11  NaN      F  158939\n",
            "15544  2008     11  NaN      M  165468\n",
            "15545  2008     12  NaN      F  173215\n",
            "15546  2008     12  NaN      M  181235\n",
            "\n",
            "[15547 rows x 5 columns]\n",
            "month  year\n",
            "1      1969    4592.812500\n",
            "       1970    4723.093750\n",
            "       1971    4887.906250\n",
            "       1972    4321.000000\n",
            "       1973    4163.796875\n",
            "                  ...     \n",
            "12     1984    4798.777778\n",
            "       1985    5018.258065\n",
            "       1986    4969.158730\n",
            "       1987    5170.516129\n",
            "       1988    5198.822581\n",
            "Name: births, Length: 240, dtype: float64\n"
          ]
        }
      ],
      "source": [
        "import pandas as pd\n",
        "import numpy as np\n",
        "import matplotlib.pyplot as plt\n",
        "\n",
        "# Load the CSV file into a Pandas DataFrame object\n",
        "df = pd.read_csv(\"../../Data/births.csv\")\n",
        "print(df)\n",
        "\n",
        "# Clean the data by removing any rows with missing values and any duplicate rows\n",
        "df.dropna(inplace=True) # remove rows with missing values\n",
        "df.drop_duplicates(inplace=True) # remove duplicate rows\n",
        "\n",
        "# Use NumPy to calculate the mean and standard deviation of the \"births\" column\n",
        "mean = np.mean(df['births'])\n",
        "std_dev = np.std(df['births'])\n",
        "# Use Pandas to group the data by year and month, and calculate the mean number of births for each group\n",
        "df['date'] = pd.to_datetime(df['year']*10000 + df['month']*100 +1, format='%Y%m%d')\n",
        "df['year'] = df['date'].dt.year\n",
        "df['month'] = df['date'].dt.month\n",
        "mean_births = df.groupby(['year', 'months'])['births'].mean()\n",
        "\n",
        "print(mean_births)\n",
        "\n",
        "# Use Matplotlib to create a line plot of the mean number of births per month over time\n",
        "# plt.plot(mean_births )\n",
        "# plt.xlabel('Year-Month')\n",
        "# plt.ylabel('Mean Number of Births')\n",
        "# plt.title('Mean Number of Births per Month')\n",
        "# plt.show()\n",
        "\n",
        " # Use Pandas to group the data by day of the week, and calculate the mean number of births for each day\n",
        "# df['day_of_week'] = df['date'].dt.day_name()\n",
        "# grouped_by_day_of_week = df.groupby('year')['births'].sum()\n",
        "\n",
        "\n",
        "#  # Use Matplotlib to create a bar chart of the mean number of births per day of the week\n",
        "# plt.bar(grouped_by_day_of_week.index, grouped_by_day_of_week.values)\n",
        "# plt.xlabel('Day of the Week')\n",
        "# plt.ylabel('Mean Number of Births')\n",
        "# plt.title('Mean Number of Births per Day of the Week')\n",
        "# plt.show()\n",
        "\n",
        "#  # Use Pandas to group the data by year, and calculate the total number of births for each year\n",
        "# grouped_by_year = df.groupby('year')['births'].sum()\n",
        "\n",
        "\n",
        "#  # Use Matplotlib to create a bar chart of the total number of births per year\n",
        "# plt.bar(grouped_by_year.index, grouped_by_year.values)\n",
        "# plt.xlabel('Year')\n",
        "# plt.ylabel('Total Number of Births')\n",
        "# plt.title('Total Number of Births per Year')\n",
        "# plt.show()\n"
      ]
    }
  ],
  "metadata": {
    "colab": {
      "provenance": []
    },
    "kernelspec": {
      "display_name": "Python 3",
      "name": "python3"
    },
    "language_info": {
      "codemirror_mode": {
        "name": "ipython",
        "version": 3
      },
      "file_extension": ".py",
      "mimetype": "text/x-python",
      "name": "python",
      "nbconvert_exporter": "python",
      "pygments_lexer": "ipython3",
      "version": "3.9.13"
    }
  },
  "nbformat": 4,
  "nbformat_minor": 0
}
