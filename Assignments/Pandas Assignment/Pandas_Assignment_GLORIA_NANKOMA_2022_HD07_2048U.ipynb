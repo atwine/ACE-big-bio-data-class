{
  "cells": [
    {
      "attachments": {},
      "cell_type": "markdown",
      "metadata": {
        "id": "QjhxZHa4XZrg"
      },
      "source": [
        "#### Pandas Assignment\n",
        "Student Name: **GLORIA LOYCE NANKOMA**\n",
        "\n",
        "Reg No: **2022/HD07/2048U**\n",
        "\n",
        "Instructions:\n",
        "Please complete the questions below.\n",
        "Please comment your code indicating how you approached the problem"
      ]
    },
    {
      "cell_type": "markdown",
      "metadata": {
        "id": "dzFp6JEGY-U2"
      },
      "source": [
        "## Introduction to Pandas"
      ]
    },
    {
      "attachments": {},
      "cell_type": "markdown",
      "metadata": {
        "id": "BTAGt12UXCSg"
      },
      "source": [
        "### Create a Pandas Series object containing the following data: 5, 10, 15, 20, 25. What is the average of the values in the Series?\n",
        "A Series is a one-dimensional labeled array capable of holding any data type (integers, strings, floating-point numbers, Python objects, etc.)\n",
        "The pd.Series() constructor takes a variety of parameters to define the data and index of the Series. For example;"
      ]
    },
    {
      "cell_type": "code",
      "execution_count": 1,
      "metadata": {},
      "outputs": [
        {
          "name": "stdout",
          "output_type": "stream",
          "text": [
            "0     5\n",
            "1    10\n",
            "2    15\n",
            "3    20\n",
            "4    25\n",
            "dtype: int64\n",
            "15.0\n"
          ]
        }
      ],
      "source": [
        "#import pandas as a pd alias\n",
        "import pandas as pd\n",
        "#create a list\n",
        "data = [5, 10, 15, 20, 25]\n",
        "#create a series for the list\n",
        "series = pd.Series(data)\n",
        "print(series)\n",
        "average = series.mean()\n",
        "print(average)"
      ]
    },
    {
      "attachments": {},
      "cell_type": "markdown",
      "metadata": {
        "id": "r_2GlShpZCY0"
      },
      "source": [
        "#### Create a Pandas DataFrame object containing the following data: {'Name': ['Alice', 'Bob', 'Charlie'], 'Age': [25, 30, 35], 'Salary': [50000, 60000, 70000]}. What is the total salary of all employees?"
      ]
    },
    {
      "cell_type": "code",
      "execution_count": 11,
      "metadata": {},
      "outputs": [
        {
          "name": "stdout",
          "output_type": "stream",
          "text": [
            "      Name  Age  Salary\n",
            "0    Alice   25   50000\n",
            "1      Bob   30   60000\n",
            "2  Charlie   35   70000\n",
            "180000\n"
          ]
        }
      ],
      "source": [
        "import pandas as pd\n",
        "#create a python dictionary of the keys and their values\n",
        "data = {'Name': ['Alice', 'Bob', 'Charlie'], 'Age': [25, 30, 35], 'Salary': [50000, 60000, 70000]}\n",
        "#create a new DataFrame object from a variety of data sources using pd.DataFrame\n",
        "df = pd.DataFrame(data)\n",
        "print(df)\n",
        "#calculate the sum of the salaries of all employees in the DataFrame df.\n",
        "total_salary = df['Salary'].sum()\n",
        "print(total_salary)"
      ]
    },
    {
      "cell_type": "markdown",
      "metadata": {
        "id": "yhIUNmfGZG9l"
      },
      "source": [
        "## DataFrames and Series"
      ]
    },
    {
      "attachments": {},
      "cell_type": "markdown",
      "metadata": {
        "id": "h9-hguvpZKVF"
      },
      "source": [
        "### Create a Pandas Series object containing the following data: [1, 2, 3, 4, 5]. Add 10 to each value in the Series."
      ]
    },
    {
      "cell_type": "code",
      "execution_count": 12,
      "metadata": {},
      "outputs": [
        {
          "name": "stdout",
          "output_type": "stream",
          "text": [
            "0    11\n",
            "1    12\n",
            "2    13\n",
            "3    14\n",
            "4    15\n",
            "dtype: int64\n"
          ]
        }
      ],
      "source": [
        "import pandas as pd\n",
        "\n",
        "# create a Series\n",
        "original_series = pd.Series([1, 2, 3, 4, 5])\n",
        "\n",
        "# add 10 to each value in the Series\n",
        "new_series = original_series + 10\n",
        "\n",
        "print(new_series)\n"
      ]
    },
    {
      "attachments": {},
      "cell_type": "markdown",
      "metadata": {
        "id": "fwEQ6vAJZPwt"
      },
      "source": [
        "#### Create a Pandas DataFrame object containing the following data: {'Name': ['Alice', 'Bob', 'Charlie'], 'Age': [25, 30, 35], 'Salary': [50000, 60000, 70000]}. Select only the rows where the Age is greater than 30."
      ]
    },
    {
      "cell_type": "code",
      "execution_count": 13,
      "metadata": {},
      "outputs": [
        {
          "data": {
            "text/html": [
              "<div>\n",
              "<style scoped>\n",
              "    .dataframe tbody tr th:only-of-type {\n",
              "        vertical-align: middle;\n",
              "    }\n",
              "\n",
              "    .dataframe tbody tr th {\n",
              "        vertical-align: top;\n",
              "    }\n",
              "\n",
              "    .dataframe thead th {\n",
              "        text-align: right;\n",
              "    }\n",
              "</style>\n",
              "<table border=\"1\" class=\"dataframe\">\n",
              "  <thead>\n",
              "    <tr style=\"text-align: right;\">\n",
              "      <th></th>\n",
              "      <th>Name</th>\n",
              "      <th>Age</th>\n",
              "      <th>Salary</th>\n",
              "    </tr>\n",
              "  </thead>\n",
              "  <tbody>\n",
              "    <tr>\n",
              "      <th>2</th>\n",
              "      <td>Charlie</td>\n",
              "      <td>35</td>\n",
              "      <td>70000</td>\n",
              "    </tr>\n",
              "  </tbody>\n",
              "</table>\n",
              "</div>"
            ],
            "text/plain": [
              "      Name  Age  Salary\n",
              "2  Charlie   35   70000"
            ]
          },
          "execution_count": 13,
          "metadata": {},
          "output_type": "execute_result"
        }
      ],
      "source": [
        "import pandas as pd\n",
        "\n",
        "#create a python dictionary of the keys and their values\n",
        "data = {'Name': ['Alice', 'Bob', 'Charlie'], 'Age': [25, 30, 35], 'Salary': [50000, 60000, 70000]}\n",
        "df = pd.DataFrame(data)\n",
        "#pick out rows where the Age is greater than 30.\n",
        "df[df['Age'] > 30]"
      ]
    },
    {
      "cell_type": "markdown",
      "metadata": {
        "id": "nDrPzc3tZVCc"
      },
      "source": [
        "## Loading Data into Pandas"
      ]
    },
    {
      "attachments": {},
      "cell_type": "markdown",
      "metadata": {
        "id": "sdNPXVUWZZ_i"
      },
      "source": [
        "#### Load a CSV file named 'diabetes.csv' into a Pandas DataFrame object. What are the names of the columns in the DataFrame?\n",
        "**Please check your data folder for this dataset**"
      ]
    },
    {
      "cell_type": "code",
      "execution_count": 11,
      "metadata": {},
      "outputs": [
        {
          "name": "stdout",
          "output_type": "stream",
          "text": [
            "Index(['Pregnancies', 'Glucose', 'BloodPressure', 'SkinThickness', 'Insulin',\n",
            "       'BMI', 'DiabetesPedigreeFunction', 'Age', 'Outcome'],\n",
            "      dtype='object')\n"
          ]
        }
      ],
      "source": [
        "import pandas as pd\n",
        "file_path = '~/Desktop/Work/big-bio-data-class-2023/Data/Diabetes/diabetes.csv'\n",
        "df = pd.read_csv(file_path)\n",
        "print(df.columns)"
      ]
    },
    {
      "cell_type": "code",
      "execution_count": 18,
      "metadata": {
        "id": "Xc9EYfEqZiG_"
      },
      "outputs": [
        {
          "name": "stdout",
          "output_type": "stream",
          "text": [
            "(768, 9)\n"
          ]
        }
      ],
      "source": [
        "#Display the dimensions of the data\n",
        "print(df.shape)"
      ]
    },
    {
      "attachments": {},
      "cell_type": "markdown",
      "metadata": {},
      "source": [
        "### Display the top 10 rows"
      ]
    },
    {
      "cell_type": "code",
      "execution_count": 23,
      "metadata": {
        "id": "4a5FAPN_ZlRJ"
      },
      "outputs": [
        {
          "name": "stdout",
          "output_type": "stream",
          "text": [
            "   Pregnancies  Glucose  BloodPressure  SkinThickness  Insulin   BMI  \\\n",
            "0            6      148             72             35        0  33.6   \n",
            "1            1       85             66             29        0  26.6   \n",
            "2            8      183             64              0        0  23.3   \n",
            "3            1       89             66             23       94  28.1   \n",
            "4            0      137             40             35      168  43.1   \n",
            "5            5      116             74              0        0  25.6   \n",
            "6            3       78             50             32       88  31.0   \n",
            "7           10      115              0              0        0  35.3   \n",
            "8            2      197             70             45      543  30.5   \n",
            "9            8      125             96              0        0   0.0   \n",
            "\n",
            "   DiabetesPedigreeFunction  Age  Outcome  \n",
            "0                     0.627   50        1  \n",
            "1                     0.351   31        0  \n",
            "2                     0.672   32        1  \n",
            "3                     0.167   21        0  \n",
            "4                     2.288   33        1  \n",
            "5                     0.201   30        0  \n",
            "6                     0.248   26        1  \n",
            "7                     0.134   29        0  \n",
            "8                     0.158   53        1  \n",
            "9                     0.232   54        1  \n"
          ]
        }
      ],
      "source": [
        "#Display the top 10 rows\n",
        "print(df.head(10))"
      ]
    },
    {
      "attachments": {},
      "cell_type": "markdown",
      "metadata": {
        "id": "kXh8GQx6ZosC"
      },
      "source": [
        "### Display the last 10 rows"
      ]
    },
    {
      "cell_type": "code",
      "execution_count": 21,
      "metadata": {},
      "outputs": [
        {
          "name": "stdout",
          "output_type": "stream",
          "text": [
            "     Pregnancies  Glucose  BloodPressure  SkinThickness  Insulin   BMI  \\\n",
            "758            1      106             76              0        0  37.5   \n",
            "759            6      190             92              0        0  35.5   \n",
            "760            2       88             58             26       16  28.4   \n",
            "761            9      170             74             31        0  44.0   \n",
            "762            9       89             62              0        0  22.5   \n",
            "763           10      101             76             48      180  32.9   \n",
            "764            2      122             70             27        0  36.8   \n",
            "765            5      121             72             23      112  26.2   \n",
            "766            1      126             60              0        0  30.1   \n",
            "767            1       93             70             31        0  30.4   \n",
            "\n",
            "     DiabetesPedigreeFunction  Age  Outcome  \n",
            "758                     0.197   26        0  \n",
            "759                     0.278   66        1  \n",
            "760                     0.766   22        0  \n",
            "761                     0.403   43        1  \n",
            "762                     0.142   33        0  \n",
            "763                     0.171   63        0  \n",
            "764                     0.340   27        0  \n",
            "765                     0.245   30        0  \n",
            "766                     0.349   47        1  \n",
            "767                     0.315   23        0  \n"
          ]
        }
      ],
      "source": [
        "import pandas as pd\n",
        "last_10_rows = df.tail(n=10)\n",
        "print(last_10_rows)\n"
      ]
    },
    {
      "cell_type": "markdown",
      "metadata": {
        "id": "CDKEEmvmZwiq"
      },
      "source": [
        "## Data Cleaning"
      ]
    },
    {
      "attachments": {},
      "cell_type": "markdown",
      "metadata": {
        "id": "PFzUFZrTZzxV"
      },
      "source": [
        "####  Create a Pandas DataFrame object containing the following data: {'Name': ['Alice', 'Bob', 'Charlie', 'Dave', 'Eve'], 'Age': [25, 30, None, 35, 40], 'Salary': [50000, None, 70000, 80000, 90000]}. Remove all rows with missing values"
      ]
    },
    {
      "cell_type": "code",
      "execution_count": 6,
      "metadata": {},
      "outputs": [
        {
          "name": "stdout",
          "output_type": "stream",
          "text": [
            "    Name   Age   Salary\n",
            "0  Alice  25.0  50000.0\n",
            "3   Dave  35.0  80000.0\n",
            "4    Eve  40.0  90000.0\n"
          ]
        }
      ],
      "source": [
        "import pandas as pd\n",
        "#create a dictionary of the given above data\n",
        "staff = {'Name': ['Alice', 'Bob', 'Charlie', 'Dave', 'Eve'], 'Age': [25, 30, None, 35, 40], 'Salary': [50000, None, 70000, 80000, 90000]}\n",
        "#create a pandas data frame using the dictionary\n",
        "df = pd.DataFrame(staff)\n",
        "\n",
        "# Removing all rows with missing values\n",
        "df = df.dropna()\n",
        "\n",
        "print(df)\n"
      ]
    },
    {
      "attachments": {},
      "cell_type": "markdown",
      "metadata": {
        "id": "PRof8tNzZ34b"
      },
      "source": [
        "#### Create a Pandas DataFrame object containing the following data: {'Name': ['Alice', 'Bob', 'Charlie', 'Dave', 'Eve'], 'Age': [25, 30, None, 35, 40], 'Salary': [50000, None, 70000, 80000, 90000]}. Fill all missing values with the average Age and the median Salary."
      ]
    },
    {
      "cell_type": "code",
      "execution_count": 7,
      "metadata": {},
      "outputs": [
        {
          "name": "stdout",
          "output_type": "stream",
          "text": [
            "      Name   Age   Salary\n",
            "0    Alice  25.0  50000.0\n",
            "1      Bob  30.0  75000.0\n",
            "2  Charlie  32.5  70000.0\n",
            "3     Dave  35.0  80000.0\n",
            "4      Eve  40.0  90000.0\n"
          ]
        }
      ],
      "source": [
        "import pandas as pd\n",
        "#create a dictionary of the given above data\n",
        "data = {'Name': ['Alice', 'Bob', 'Charlie', 'Dave', 'Eve'], 'Age': [25, 30, None, 35, 40], 'Salary': [50000, None, 70000, 80000, 90000]}\n",
        "#create a pandas data frame using the dictionary\n",
        "df = pd.DataFrame(data)\n",
        "\n",
        "# Filling missing values with the average Age and median Salary\n",
        "avg_age = df['Age'].mean()\n",
        "median_salary = df['Salary'].median()\n",
        "\n",
        "df = df.fillna({'Age': avg_age, 'Salary': median_salary})\n",
        "\n",
        "print(df)\n"
      ]
    },
    {
      "cell_type": "markdown",
      "metadata": {
        "id": "Dm9ghsopZ8Fb"
      },
      "source": [
        "## Data Exploration"
      ]
    },
    {
      "attachments": {},
      "cell_type": "markdown",
      "metadata": {
        "id": "y3MDNAY6Z_xz"
      },
      "source": [
        "#### Create a Pandas DataFrame object containing the following data: {'Name': ['Alice', 'Bob', 'Charlie'], 'Age': [25, 30, 35], 'Salary': [50000, 60000, 70000]}. What is the maximum Age and minimum Salary in the DataFrame?"
      ]
    },
    {
      "cell_type": "code",
      "execution_count": 7,
      "metadata": {},
      "outputs": [
        {
          "name": "stdout",
          "output_type": "stream",
          "text": [
            "Maximum Age: 35\n",
            "Minimum Salary: 50000\n"
          ]
        }
      ],
      "source": [
        "# loading pandas as pd\n",
        "import pandas as pd \n",
        "# create a dictionary of the data set\n",
        "data = {'Name': ['Alice', 'Bob', 'Charlie'], 'Age': [25, 30, 35], 'Salary': [50000, 60000, 70000]}\n",
        "\n",
        "df = pd.DataFrame(data)\n",
        "\n",
        "# Finding maximum Age and minimum Salary\n",
        "max_age = df['Age'].max()\n",
        "min_salary = df['Salary'].min()\n",
        "\n",
        "print(\"Maximum Age:\", max_age)\n",
        "print(\"Minimum Salary:\", min_salary)\n"
      ]
    },
    {
      "cell_type": "markdown",
      "metadata": {
        "id": "vDlB5kgpaDwE"
      },
      "source": [
        "### Create a Pandas DataFrame object containing the following data: {'Name': ['Alice', 'Bob', 'Charlie'], 'Age': [25, 30, 35], 'Salary': [50000, 60000, 70000]}. Calculate the correlation coefficient between Age and Salary."
      ]
    },
    {
      "cell_type": "code",
      "execution_count": 10,
      "metadata": {},
      "outputs": [
        {
          "name": "stdout",
          "output_type": "stream",
          "text": [
            "Correlation coefficient: 1.0\n"
          ]
        }
      ],
      "source": [
        "import pandas as pd\n",
        "#create a dictionary for the given data\n",
        "data = {'Name': ['Alice', 'Bob', 'Charlie'], 'Age': [25, 30, 35], 'Salary': [50000, 60000, 70000]}\n",
        "#create a pandas data frame from the dictionary\n",
        "df = pd.DataFrame(data)\n",
        "\n",
        "# Calculating correlation coefficient between Age and Salary\n",
        "coefficient = df['Age'].corr(df['Salary'])\n",
        "\n",
        "print(\"Correlation coefficient:\", coefficient)\n"
      ]
    },
    {
      "cell_type": "markdown",
      "metadata": {
        "id": "l8bPg2etaGNU"
      },
      "source": [
        "## Grouping and Aggregating Data"
      ]
    },
    {
      "attachments": {},
      "cell_type": "markdown",
      "metadata": {
        "id": "njbAfs1xaJ4d"
      },
      "source": [
        "#### Create a Pandas DataFrame object containing the following data: {'Name': ['Alice', 'Bob', 'Charlie', 'Dave', 'Eve'], 'Age': [25, 30, 35, 25, 30], 'Salary': [50000, 60000, 70000, 80000, 90000]}. Group the DataFrame by Age and calculate the mean Salary for each group."
      ]
    },
    {
      "cell_type": "code",
      "execution_count": 9,
      "metadata": {
        "id": "3Ev8WrCQaN0t"
      },
      "outputs": [
        {
          "name": "stdout",
          "output_type": "stream",
          "text": [
            "Age\n",
            "25    65000.0\n",
            "30    75000.0\n",
            "35    70000.0\n",
            "Name: Salary, dtype: float64\n"
          ]
        }
      ],
      "source": [
        "import pandas as pd\n",
        "\n",
        "data = {'Name': ['Alice', 'Bob', 'Charlie', 'Dave', 'Eve'],\n",
        "        'Age': [25, 30, 35, 25, 30],\n",
        "        'Salary': [50000, 60000, 70000, 80000, 90000]}\n",
        "\n",
        "df = pd.DataFrame(data)\n",
        "mean_salary_by_age = df.groupby('Age')['Salary'].mean()\n",
        "\n",
        "print(mean_salary_by_age)\n"
      ]
    },
    {
      "cell_type": "markdown",
      "metadata": {
        "id": "uqNLYJGBamsa"
      },
      "source": [
        "## Reshaping Data"
      ]
    },
    {
      "attachments": {},
      "cell_type": "markdown",
      "metadata": {
        "id": "nPyItbc6aoPA"
      },
      "source": [
        "#### Create a Pandas DataFrame object containing the following data: {'Year': [2019, 2019, 2020, 2020], 'Quarter': ['Q1', 'Q2', 'Q1', 'Q2'], 'Sales': [100, 200, 300, 400]}. Pivot the DataFrame so that the rows are indexed by Year, the columns are indexed by Quarter, and the values are the Sales."
      ]
    },
    {
      "cell_type": "code",
      "execution_count": 9,
      "metadata": {},
      "outputs": [
        {
          "name": "stdout",
          "output_type": "stream",
          "text": [
            "Quarter   Q1   Q2\n",
            "Year             \n",
            "2019     100  200\n",
            "2020     300  400\n"
          ]
        }
      ],
      "source": [
        "import pandas as pd\n",
        "#create a dictionary from the given data\n",
        "data = {'Year': [2019, 2019, 2020, 2020],\n",
        "        'Quarter': ['Q1', 'Q2', 'Q1', 'Q2'],\n",
        "        'Sales': [100, 200, 300, 400]}\n",
        "#create a pandas data frame from the dictionary \n",
        "df = pd.DataFrame(data)\n",
        "pivoted_df = df.pivot(index='Year', columns='Quarter', values='Sales')\n",
        "\n",
        "print(pivoted_df)\n"
      ]
    },
    {
      "attachments": {},
      "cell_type": "markdown",
      "metadata": {
        "id": "7UWE3_NaawLj"
      },
      "source": [
        "### Create a Pandas DataFrame object containing the following data: {'Name': ['Alice', 'Bob', 'Charlie'], 'Gender': ['F', 'M', 'M'], 'Salary 2019': [50000, 60000, 70000], 'Salary 2020': [55000, 65000, 75000]}. Melt the DataFrame so that the variable column contains the years and the value column contains the salaries."
      ]
    },
    {
      "cell_type": "code",
      "execution_count": 8,
      "metadata": {},
      "outputs": [
        {
          "name": "stdout",
          "output_type": "stream",
          "text": [
            "      Name Gender         Year  Salary\n",
            "0    Alice      F  Salary 2019   50000\n",
            "1      Bob      M  Salary 2019   60000\n",
            "2  Charlie      M  Salary 2019   70000\n",
            "3    Alice      F  Salary 2020   55000\n",
            "4      Bob      M  Salary 2020   65000\n",
            "5  Charlie      M  Salary 2020   75000\n"
          ]
        }
      ],
      "source": [
        "import pandas as pd\n",
        "#create a dictionary for the given data\n",
        "data = {'Name': ['Alice', 'Bob', 'Charlie'],\n",
        "        'Gender': ['F', 'M', 'M'],\n",
        "        'Salary 2019': [50000, 60000, 70000],\n",
        "        'Salary 2020': [55000, 65000, 75000]}\n",
        "#create a pandas data frame from the dictionary\n",
        "df = pd.DataFrame(data)\n",
        "melted_df = df.melt(id_vars=['Name', 'Gender'], var_name='Year', value_name='Salary')\n",
        "\n",
        "print(melted_df)\n"
      ]
    },
    {
      "cell_type": "markdown",
      "metadata": {
        "id": "Q7_gHKi5a0bN"
      },
      "source": [
        "## Merging and Joining Data"
      ]
    },
    {
      "attachments": {},
      "cell_type": "markdown",
      "metadata": {
        "id": "SPZOaqzIa7Js"
      },
      "source": [
        "#### Create two Pandas DataFrame objects, df1 and df2, containing the following data: df1 = {'key': ['A', 'B', 'C', 'D'], 'value': [1, 2, 3, 4]} and df2 = {'key': ['B', 'D', 'E', 'F'], 'value': [5, 6, 7, 8]}. Merge the two DataFrames using an inner join on the 'key' column."
      ]
    },
    {
      "cell_type": "code",
      "execution_count": 3,
      "metadata": {},
      "outputs": [
        {
          "name": "stdout",
          "output_type": "stream",
          "text": [
            "  key  value_x  value_y\n",
            "0   B        2        5\n",
            "1   D        4        6\n"
          ]
        }
      ],
      "source": [
        "import pandas as pd\n",
        "#create two data frames with a common column 'key' and 'value'\n",
        "df1 = pd.DataFrame({'key': ['A', 'B', 'C', 'D'], 'value': [1, 2, 3, 4]})\n",
        "df2 = pd.DataFrame({'key': ['B', 'D', 'E', 'F'], 'value': [5, 6, 7, 8]})\n",
        "#merge the two data frames using pd.merge setting the parameter is set to 'inner' \n",
        "#to specify that only the rows with matching values in both data frames should be included in the merged data frame \n",
        "merged_df = pd.merge(df1, df2, on='key', how='inner')\n",
        "#print the merged df\n",
        "print(merged_df)\n"
      ]
    },
    {
      "cell_type": "markdown",
      "metadata": {
        "id": "Wvey28Jsa_Ws"
      },
      "source": [
        "#### Create two Pandas DataFrame objects, df1 and df2, containing the following data: df1 = {'key': ['A', 'B', 'C', 'D'], 'value1': [1, 2, 3, 4]} and df2 = {'key': ['B', 'D', 'E', 'F'], 'value2': [5, 6, 7, 8]}. Perform a left join on df1 and df2 using the 'key' column as the join key."
      ]
    },
    {
      "cell_type": "code",
      "execution_count": 2,
      "metadata": {},
      "outputs": [
        {
          "name": "stdout",
          "output_type": "stream",
          "text": [
            "  key  value1  value2\n",
            "0   A       1     NaN\n",
            "1   B       2     5.0\n",
            "2   C       3     NaN\n",
            "3   D       4     6.0\n"
          ]
        }
      ],
      "source": [
        "import pandas as pd\n",
        "#create data frames with colums 'key' and 'values'\n",
        "df1 = pd.DataFrame({'key': ['A', 'B', 'C', 'D'], 'value1': [1, 2, 3, 4]})\n",
        "df2 = pd.DataFrame({'key': ['B', 'D', 'E', 'F'], 'value2': [5, 6, 7, 8]})\n",
        "#merge the two data frames using pd.merge setting the parameters to left to specify that all the rows from the left data frame\n",
        "merged_df = pd.merge(df1, df2, on='key', how='left')\n",
        "#print the merged df\n",
        "print(merged_df)\n"
      ]
    },
    {
      "cell_type": "markdown",
      "metadata": {
        "id": "pYg6Y5SRb1ML"
      },
      "source": [
        "## Mini Pandas Project\n",
        "\n",
        "- Load the CSV file into a Pandas DataFrame object.\n",
        "- Clean the data by removing any rows with missing values and any duplicate rows.\n",
        "- Use NumPy to calculate the mean and standard deviation of the \"births\" column.\n",
        "- Use Pandas to group the data by year and month, and calculate the mean number of births for each group.\n",
        "- Use Matplotlib to create a line plot of the mean number of births per month over time.\n",
        "- Use Pandas to group the data by day of the week, and calculate the mean number of births for each day.\n",
        "- Use Matplotlib to create a bar chart of the mean number of births per day of the week.\n",
        "- Use Pandas to group the data by year, and calculate the total number of births for each year.\n",
        "- Use Matplotlib to create a bar chart of the total number of births per year.\n",
        "\n",
        ">> NOTE: Below is boiler code for you to get started with.Please fill in the missing codes."
      ]
    },
    {
      "cell_type": "code",
      "execution_count": 2,
      "metadata": {},
      "outputs": [
        {
          "name": "stdout",
          "output_type": "stream",
          "text": [
            "       year  month  day gender  births\n",
            "0      1969      1  1.0      F    4046\n",
            "1      1969      1  1.0      M    4440\n",
            "2      1969      1  2.0      F    4454\n",
            "3      1969      1  2.0      M    4548\n",
            "4      1969      1  3.0      F    4548\n",
            "...     ...    ...  ...    ...     ...\n",
            "15542  2008     10  NaN      M  183219\n",
            "15543  2008     11  NaN      F  158939\n",
            "15544  2008     11  NaN      M  165468\n",
            "15545  2008     12  NaN      F  173215\n",
            "15546  2008     12  NaN      M  181235\n",
            "\n",
            "[15547 rows x 5 columns]\n"
          ]
        },
        {
          "data": {
            "image/png": "[encoded data removed]",
            "text/plain": [
              "<Figure size 640x480 with 1 Axes>"
            ]
          },
          "metadata": {},
          "output_type": "display_data"
        },
        {
          "data": {
            "image/png": "[encoded data removed]",
            "text/plain": [
              "<Figure size 640x480 with 1 Axes>"
            ]
          },
          "metadata": {},
          "output_type": "display_data"
        },
        {
          "data": {
            "image/png": "[encoded data removed]",
            "text/plain": [
              "<Figure size 640x480 with 1 Axes>"
            ]
          },
          "metadata": {},
          "output_type": "display_data"
        }
      ],
      "source": [
        "import pandas as pd\n",
        "import numpy as np\n",
        "import matplotlib.pyplot as plt\n",
        "\n",
        "# Load the CSV file into a Pandas DataFrame object\n",
        "df = pd.read_csv(\"https://raw.githubusercontent.com/jakevdp/data-CDCbirths/master/births.csv\")\n",
        "df\n",
        "\n",
        "# Clean the data by removing any rows with missing values and any duplicate rows\n",
        "df.dropna(inplace=True)\n",
        "df = df = df.drop_duplicates()\n",
        "df\n",
        "\n",
        "# Use NumPy to calculate the mean and standard deviation of the \"births\" column\n",
        "mean = mean = np.mean(df['births'])\n",
        "mean\n",
        "std_dev = st_dev = np.std(df['births'])\n",
        "std_dev\n",
        "\n",
        "# Use Pandas to group the data by year and month, and calculate the mean number of births for each group\n",
        "df['date'] = pd.to_datetime(df['year']*10000 + df['month']*100 + df['day'], format='%Y%m%d', errors='coerce')\n",
        "grouped_by_month = df.groupby(['year', 'month'])['births'].mean().reset_index()\n",
        "grouped_by_month\n",
        "\n",
        "\n",
        "# Use Matplotlib to create a line plot of the mean number of births per month over time\n",
        "plt.plot(grouped_by_month['year'].astype(str) + '-' + grouped_by_month['month'].astype(str), grouped_by_month['births'])\n",
        "plt.xlabel('Year-Month')\n",
        "plt.ylabel('Mean Number of Births')\n",
        "plt.title('Mean Number of Births per Month')\n",
        "plt.show()\n",
        "\n",
        "# Use Pandas to group the data by day of the week, and calculate the mean number of births for each day\n",
        "df['day_of_week'] = df['date'].dt.day_name()\n",
        "grouped_by_day_of_week = df.groupby(df['date'].dt.day_name())['births'].mean(['Monday','Tuesday','Wednesday','Thursday','Friday','Saturday','Sunday'])\n",
        "\n",
        "# Use Matplotlib to create a bar chart of the mean number of births per day of the week\n",
        "plt.bar(grouped_by_day_of_week.index, grouped_by_day_of_week.values)\n",
        "plt.xlabel('Day of the Week')\n",
        "plt.ylabel('Mean Number of Births')\n",
        "plt.title('Mean Number of Births per Day of the Week')\n",
        "plt.show()\n",
        "\n",
        "# Use Pandas to group the data by year, and calculate the total number of births for each year\n",
        "grouped_by_year = df.groupby(df['date'].dt.year)['births'].sum()\n",
        "\n",
        "\n",
        "\n",
        "# Use Matplotlib to create a bar chart of the total number of births per year\n",
        "plt.bar(grouped_by_year.index, grouped_by_year.values)\n",
        "plt.xlabel('Year')\n",
        "plt.ylabel('Total Number of Births')\n",
        "plt.title('Total Number of Births per Year')\n",
        "plt.show()\n"
      ]
    }
  ],
  "metadata": {
    "colab": {
      "provenance": []
    },
    "kernelspec": {
      "display_name": "Python 3",
      "name": "python3"
    },
    "language_info": {
      "codemirror_mode": {
        "name": "ipython",
        "version": 3
      },
      "file_extension": ".py",
      "mimetype": "text/x-python",
      "name": "python",
      "nbconvert_exporter": "python",
      "pygments_lexer": "ipython3",
      "version": "3.10.9"
    }
  },
  "nbformat": 4,
  "nbformat_minor": 0
}
