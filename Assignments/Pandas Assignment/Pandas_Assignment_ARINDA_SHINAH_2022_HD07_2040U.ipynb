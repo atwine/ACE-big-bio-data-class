{
  "nbformat": 4,
  "nbformat_minor": 0,
  "metadata": {
    "colab": {
      "provenance": []
    },
    "kernelspec": {
      "name": "python3",
      "display_name": "Python 3"
    },
    "language_info": {
      "name": "python"
    }
  },
  "cells": [
    {
      "cell_type": "markdown",
      "source": [
        "Pandas Assignment\n",
        "Student Name:\n",
        "\n",
        "Reg No:\n",
        "\n",
        "Instructions:\n",
        "Please complete the questions below.\n",
        "Please comment your code indicating how you approached the problem"
      ],
      "metadata": {
        "id": "QjhxZHa4XZrg"
      }
    },
    {
      "cell_type": "markdown",
      "source": [
        "## Introduction to Pandas"
      ],
      "metadata": {
        "id": "dzFp6JEGY-U2"
      }
    },
    {
      "cell_type": "code",
      "execution_count": null,
      "metadata": {
        "id": "BTAGt12UXCSg"
      },
      "outputs": [],
      "source": [
        "#Create a Pandas Series object containing the following data: 5, 10, 15, 20, 25. What is the average of the values in the Series?"
      ]
    },
    {
      "cell_type": "code",
      "source": [
        "#Create a Pandas DataFrame object containing the following data: {'Name': ['Alice', 'Bob', 'Charlie'], 'Age': [25, 30, 35], 'Salary': [50000, 60000, 70000]}. What is the total salary of all employees?"
      ],
      "metadata": {
        "id": "r_2GlShpZCY0"
      },
      "execution_count": null,
      "outputs": []
    },
    {
      "cell_type": "markdown",
      "source": [
        "## DataFrames and Series"
      ],
      "metadata": {
        "id": "yhIUNmfGZG9l"
      }
    },
    {
      "cell_type": "code",
      "source": [
        "#Create a Pandas Series object containing the following data: [1, 2, 3, 4, 5]. Add 10 to each value in the Series."
      ],
      "metadata": {
        "id": "h9-hguvpZKVF"
      },
      "execution_count": null,
      "outputs": []
    },
    {
      "cell_type": "code",
      "source": [
        "#Create a Pandas DataFrame object containing the following data: {'Name': ['Alice', 'Bob', 'Charlie'], 'Age': [25, 30, 35], 'Salary': [50000, 60000, 70000]}. Select only the rows where the Age is greater than 30."
      ],
      "metadata": {
        "id": "fwEQ6vAJZPwt"
      },
      "execution_count": null,
      "outputs": []
    },
    {
      "cell_type": "markdown",
      "source": [
        "## Loading Data into Pandas"
      ],
      "metadata": {
        "id": "nDrPzc3tZVCc"
      }
    },
    {
      "cell_type": "code",
      "source": [
        "#Load a CSV file named 'diabetes.csv' into a Pandas DataFrame object. What are the names of the columns in the DataFrame?\n",
        "#Please check your data folder for this dataset"
      ],
      "metadata": {
        "id": "sdNPXVUWZZ_i"
      },
      "execution_count": null,
      "outputs": []
    },
    {
      "cell_type": "code",
      "source": [
        "#Display the dimensions of the data"
      ],
      "metadata": {
        "id": "Xc9EYfEqZiG_"
      },
      "execution_count": null,
      "outputs": []
    },
    {
      "cell_type": "code",
      "source": [
        "#Display the top 10 rows"
      ],
      "metadata": {
        "id": "4a5FAPN_ZlRJ"
      },
      "execution_count": null,
      "outputs": []
    },
    {
      "cell_type": "code",
      "source": [
        "#Display the last 10 rows"
      ],
      "metadata": {
        "id": "kXh8GQx6ZosC"
      },
      "execution_count": null,
      "outputs": []
    },
    {
      "cell_type": "markdown",
      "source": [
        "## Data Cleaning"
      ],
      "metadata": {
        "id": "CDKEEmvmZwiq"
      }
    },
    {
      "cell_type": "code",
      "source": [
        "#Create a Pandas DataFrame object containing the following data: {'Name': ['Alice', 'Bob', 'Charlie', 'Dave', 'Eve'], 'Age': [25, 30, None, 35, 40], 'Salary': [50000, None, 70000, 80000, 90000]}. Remove all rows with missing values"
      ],
      "metadata": {
        "id": "PFzUFZrTZzxV"
      },
      "execution_count": null,
      "outputs": []
    },
    {
      "cell_type": "code",
      "source": [
        "#Create a Pandas DataFrame object containing the following data: {'Name': ['Alice', 'Bob', 'Charlie', 'Dave', 'Eve'], 'Age': [25, 30, None, 35, 40], 'Salary': [50000, None, 70000, 80000, 90000]}. Fill all missing values with the average Age and the median Salary."
      ],
      "metadata": {
        "id": "PRof8tNzZ34b"
      },
      "execution_count": null,
      "outputs": []
    },
    {
      "cell_type": "markdown",
      "source": [
        "## Data Exploration"
      ],
      "metadata": {
        "id": "Dm9ghsopZ8Fb"
      }
    },
    {
      "cell_type": "code",
      "source": [
        "#Create a Pandas DataFrame object containing the following data: {'Name': ['Alice', 'Bob', 'Charlie'], 'Age': [25, 30, 35], 'Salary': [50000, 60000, 70000]}. What is the maximum Age and minimum Salary in the DataFrame?"
      ],
      "metadata": {
        "id": "y3MDNAY6Z_xz"
      },
      "execution_count": null,
      "outputs": []
    },
    {
      "cell_type": "code",
      "source": [
        "#Create a Pandas DataFrame object containing the following data: {'Name': ['Alice', 'Bob', 'Charlie'], 'Age': [25, 30, 35], 'Salary': [50000, 60000, 70000]}. Calculate the correlation coefficient between Age and Salary."
      ],
      "metadata": {
        "id": "vDlB5kgpaDwE"
      },
      "execution_count": null,
      "outputs": []
    },
    {
      "cell_type": "markdown",
      "source": [
        "## Grouping and Aggregating Data"
      ],
      "metadata": {
        "id": "l8bPg2etaGNU"
      }
    },
    {
      "cell_type": "code",
      "source": [
        "#Create a Pandas DataFrame object containing the following data: {'Name': ['Alice', 'Bob', 'Charlie', 'Dave', 'Eve'], 'Age': [25, 30, 35, 25, 30], 'Salary': [50000, 60000, 70000, 80000, 90000]}. Group the DataFrame by Age and calculate the mean Salary for each group."
      ],
      "metadata": {
        "id": "njbAfs1xaJ4d"
      },
      "execution_count": null,
      "outputs": []
    },
    {
      "cell_type": "code",
      "source": [],
      "metadata": {
        "id": "3Ev8WrCQaN0t"
      },
      "execution_count": null,
      "outputs": []
    },
    {
      "cell_type": "markdown",
      "source": [
        "## Reshaping Data"
      ],
      "metadata": {
        "id": "uqNLYJGBamsa"
      }
    },
    {
      "cell_type": "code",
      "source": [
        "#Create a Pandas DataFrame object containing the following data: {'Year': [2019, 2019, 2020, 2020], 'Quarter': ['Q1', 'Q2', 'Q1', 'Q2'], 'Sales': [100, 200, 300, 400]}. Pivot the DataFrame so that the rows are indexed by Year, the columns are indexed by Quarter, and the values are the Sales."
      ],
      "metadata": {
        "id": "nPyItbc6aoPA"
      },
      "execution_count": null,
      "outputs": []
    },
    {
      "cell_type": "code",
      "source": [
        "#Create a Pandas DataFrame object containing the following data: {'Name': ['Alice', 'Bob', 'Charlie'], 'Gender': ['F', 'M', 'M'], 'Salary 2019': [50000, 60000, 70000], 'Salary 2020': [55000, 65000, 75000]}. Melt the DataFrame so that the variable column contains the years and the value column contains the salaries."
      ],
      "metadata": {
        "id": "7UWE3_NaawLj"
      },
      "execution_count": null,
      "outputs": []
    },
    {
      "cell_type": "markdown",
      "source": [
        "## Merging and Joining Data"
      ],
      "metadata": {
        "id": "Q7_gHKi5a0bN"
      }
    },
    {
      "cell_type": "code",
      "source": [
        "#Create two Pandas DataFrame objects, df1 and df2, containing the following data: df1 = {'key': ['A', 'B', 'C', 'D'], 'value': [1, 2, 3, 4]} and df2 = {'key': ['B', 'D', 'E', 'F'], 'value': [5, 6, 7, 8]}. Merge the two DataFrames using an inner join on the 'key' column."
      ],
      "metadata": {
        "id": "SPZOaqzIa7Js"
      },
      "execution_count": null,
      "outputs": []
    },
    {
      "cell_type": "code",
      "source": [
        "#Create two Pandas DataFrame objects, df1 and df2, containing the following data: df1 = {'key': ['A', 'B', 'C', 'D'], 'value1': [1, 2, 3, 4]} and df2 = {'key': ['B', 'D', 'E', 'F'], 'value2': [5, 6, 7, 8]}. Perform a left join on df1 and df2 using the 'key' column as the join key."
      ],
      "metadata": {
        "id": "Wvey28Jsa_Ws"
      },
      "execution_count": null,
      "outputs": []
    },
    {
      "cell_type": "markdown",
      "source": [
        "## Mini Pandas Project\n",
        "\n",
        "- Load the CSV file into a Pandas DataFrame object.\n",
        "- Clean the data by removing any rows with missing values and any duplicate rows.\n",
        "- Use NumPy to calculate the mean and standard deviation of the \"births\" column.\n",
        "- Use Pandas to group the data by year and month, and calculate the mean number of births for each group.\n",
        "- Use Matplotlib to create a line plot of the mean number of births per month over time.\n",
        "- Use Pandas to group the data by day of the week, and calculate the mean number of births for each day.\n",
        "- Use Matplotlib to create a bar chart of the mean number of births per day of the week.\n",
        "- Use Pandas to group the data by year, and calculate the total number of births for each year.\n",
        "- Use Matplotlib to create a bar chart of the total number of births per year.\n",
        "\n",
        ">> NOTE: Below is boiler code for you to get started with.Please fill in the missing codes."
      ],
      "metadata": {
        "id": "pYg6Y5SRb1ML"
      }
    },
    {
      "cell_type": "code",
      "source": [
        "import pandas as pd\n",
        "import numpy as np\n",
        "import matplotlib.pyplot as plt\n",
        "\n",
        "# Load the CSV file into a Pandas DataFrame object\n",
        "df = pd.read_csv(\"https://raw.githubusercontent.com/jakevdp/data-CDCbirths/master/births.csv\")\n",
        "\n",
        "# Clean the data by removing any rows with missing values and any duplicate rows\n",
        "df = \n",
        "df = \n",
        "\n",
        "# Use NumPy to calculate the mean and standard deviation of the \"births\" column\n",
        "mean = \n",
        "std_dev = \n",
        "\n",
        "# Use Pandas to group the data by year and month, and calculate the mean number of births for each group\n",
        "df['date'] = pd.to_datetime(df['year']*10000 + df['month']*100 + df['day'], format='%Y%m%d')\n",
        "grouped_by_month = \n",
        "\n",
        "# Use Matplotlib to create a line plot of the mean number of births per month over time\n",
        "plt.plot(grouped_by_month)\n",
        "plt.xlabel('Year-Month')\n",
        "plt.ylabel('Mean Number of Births')\n",
        "plt.title('Mean Number of Births per Month')\n",
        "plt.show()\n",
        "\n",
        "# Use Pandas to group the data by day of the week, and calculate the mean number of births for each day\n",
        "df['day_of_week'] = df['date'].dt.day_name()\n",
        "grouped_by_day_of_week = \n",
        "\n",
        "# Use Matplotlib to create a bar chart of the mean number of births per day of the week\n",
        "plt.bar(grouped_by_day_of_week.index, grouped_by_day_of_week.values)\n",
        "plt.xlabel('Day of the Week')\n",
        "plt.ylabel('Mean Number of Births')\n",
        "plt.title('Mean Number of Births per Day of the Week')\n",
        "plt.show()\n",
        "\n",
        "# Use Pandas to group the data by year, and calculate the total number of births for each year\n",
        "grouped_by_year =\n",
        "\n",
        "# Use Matplotlib to create a bar chart of the total number of births per year\n",
        "plt.bar(grouped_by_year.index, grouped_by_year.values)\n",
        "plt.xlabel('Year')\n",
        "plt.ylabel('Total Number of Births')\n",
        "plt.title('Total Number of Births per Year')\n",
        "plt.show()\n"
      ],
      "metadata": {
        "id": "QWvvcvj4eCyT"
      },
      "execution_count": null,
      "outputs": []
    }
  ]
}