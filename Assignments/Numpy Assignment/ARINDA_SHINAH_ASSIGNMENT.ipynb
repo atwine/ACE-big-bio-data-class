{
  "cells": [
    {
      "attachments": {},
      "cell_type": "markdown",
      "metadata": {
        "id": "aTz0cvx7Iex3"
      },
      "source": [
        "## Numpy Assignment\n",
        "Student Name: 2200702040\n",
        "\n",
        "Reg No:2022/HD07/2040U\n",
        "\n",
        "## Instructions:\n",
        "- Please complete the questions below.\n",
        "- Please comment your code indicating how you approached the problem"
      ]
    },
    {
      "cell_type": "code",
      "execution_count": null,
      "metadata": {
        "id": "NwKEk4skG5c2"
      },
      "outputs": [],
      "source": [
        "# What is NumPy, and what are some of its key features?\n",
        "\n",
        "Numpy is the short form for Numeric python.\n",
        "It is a python library/package for performing mathematical (numerical) operations on large, multidimensional data structures (arrays, matrices).\n",
        "It also provides a foundation upon which other python libraries base on to perform their functions.\n",
        "\n",
        "##### Key features of NumPy include:\n",
        "# - Easy Integration with other Python libraries, like pandas, matplotlib, SciPy, enabling analysis and data visulaization\n",
        "# - Multidimensional arrays = N-dimensional objects (matrices, vectors, etc)\n",
        "# - Ability to effiiently perform element-wise operations (additions, subtractions, multiplication, division, exponentiations, etc)\n",
        "# - Wide range of Mathematical functions, including linear algebra functions like matrix multiplicaion.\n",
        "# - Allows for Broadcasting, which enables operations on arrays of different shapes and sizes.\n",
        "# - Powerful Indexing and slicing capability, enabling access and modification of elements within arrays.\n",
        "# - Efficient memory use"
      ]
    },
    {
      "cell_type": "code",
      "execution_count": null,
      "metadata": {},
      "outputs": [],
      "source": [
        "# NumPy is first of all a package for scientific computing in Python. It provides a multidimensional array object, various derived objects and an assortment of routines for fast operations on arrays.\n",
        "\n",
        "#some of its key features include. N-dimensional arrays, mathematical functions, Indexing, slicing"
      ]
    },
    {
      "cell_type": "code",
      "execution_count": null,
      "metadata": {
        "id": "OMqoIR7oJD0i"
      },
      "outputs": [],
      "source": [
        "#How do you create a NumPy array using Python's built-in range() function?\n",
        "\n",
        "First, we call the numpy package/library with the alias np in order to be able to execute numpy operations, using the import function as below:"
      ]
    },
    {
      "cell_type": "code",
      "execution_count": 1,
      "metadata": {},
      "outputs": [],
      "source": [
        "import numpy as np"
      ]
    },
    {
      "cell_type": "code",
      "execution_count": 2,
      "metadata": {},
      "outputs": [
        {
          "name": "stdout",
          "output_type": "stream",
          "text": [
            "[0 1 2 3 4 5 6 7 8 9]\n"
          ]
        }
      ],
      "source": [
        "# You can create a numpy array using the python builtins range function by first creating a python list using the range() function and then converting it into an array using the numpy.array function.\n",
        "# an array with values from 0 to 9\n",
        "array1 = np.array(range(10))\n",
        "print(array1)"
      ]
    },
    {
      "cell_type": "code",
      "execution_count": null,
      "metadata": {
        "id": "DRVy8tPoJHQr"
      },
      "outputs": [],
      "source": [
        "#What is the difference between a scalar value and a vector in NumPy?\n"
      ]
    },
    {
      "cell_type": "code",
      "execution_count": 3,
      "metadata": {},
      "outputs": [
        {
          "name": "stdout",
          "output_type": "stream",
          "text": [
            "42\n",
            "[ 1  2  3  4 67]\n"
          ]
        }
      ],
      "source": [
        "#A scalar is a single value or quantity while a vector is a one dimensional array of values.\n",
        "\n",
        "\n",
        "scalar1 = np.array(42)\n",
        "scalar2 = np.array(12.6)\n",
        "print(scalar1)\n",
        "\n",
        "vector1 = np.array([1,2,3,4,67])\n",
        "print(vector1)"
      ]
    },
    {
      "cell_type": "code",
      "execution_count": 4,
      "metadata": {
        "id": "lHa-pHerJKd0"
      },
      "outputs": [],
      "source": [
        "#How do you calculate the mean of a NumPy array using the mean() function?"
      ]
    },
    {
      "cell_type": "code",
      "execution_count": 5,
      "metadata": {},
      "outputs": [
        {
          "name": "stdout",
          "output_type": "stream",
          "text": [
            "[0 1 2 3 4 5 6 7 8 9]\n",
            "4.5\n"
          ]
        }
      ],
      "source": [
        "array1 = np.array(range(10))\n",
        "print(array1)\n",
        "mean_array1 = np.mean(array1)\n",
        "print(mean_array1)"
      ]
    },
    {
      "cell_type": "code",
      "execution_count": null,
      "metadata": {
        "id": "EqpLGTh8JON9"
      },
      "outputs": [],
      "source": [
        "#What is broadcasting in NumPy, and how can it be useful?"
      ]
    },
    {
      "cell_type": "code",
      "execution_count": 6,
      "metadata": {},
      "outputs": [
        {
          "name": "stdout",
          "output_type": "stream",
          "text": [
            "[[1 2 3]\n",
            " [4 5 6]]\n",
            "[10 20 30]\n",
            "[[11 22 33]\n",
            " [14 25 36]]\n"
          ]
        }
      ],
      "source": [
        "# Broadcasting is a feature in Numpy that allows arithmetic operations to be perfomed on arrays of different shapes amd sizes. It allows smaller arrays to be broadcast to the shape of the larger arrays so that element wise operations can be perfomed.\n",
        "\n",
        "# 2D array\n",
        "a = np.array([[1, 2, 3], [4, 5, 6]])\n",
        "print(a)\n",
        "# 1D array\n",
        "b = np.array([10, 20, 30])\n",
        "print(b)\n",
        "\n",
        "# Adding the 1D array; the 1D array is padded to each row of the 2D array using broadcasting\n",
        "c = a + b\n",
        "\n",
        "# Print the result\n",
        "print(c)"
      ]
    },
    {
      "cell_type": "code",
      "execution_count": null,
      "metadata": {
        "id": "h0cD5yNcJQkm"
      },
      "outputs": [],
      "source": [
        "#How do you create a 2D array in NumPy using Python's built-in list of lists?"
      ]
    },
    {
      "cell_type": "code",
      "execution_count": 7,
      "metadata": {},
      "outputs": [
        {
          "name": "stdout",
          "output_type": "stream",
          "text": [
            "[[1, 2, 3, 4], [10, 12, 14, 16], [20, 30, 40, 50]]\n",
            "[[ 1  2  3  4]\n",
            " [10 12 14 16]\n",
            " [20 30 40 50]]\n"
          ]
        },
        {
          "data": {
            "text/plain": [
              "numpy.ndarray"
            ]
          },
          "execution_count": 7,
          "metadata": {},
          "output_type": "execute_result"
        }
      ],
      "source": [
        "# One can use the numpy.array method and then pass in the list of lists as an argument.\n",
        "\n",
        "#  create a list of lists\n",
        "main_list = [[1,2,3,4], [10,12,14,16], [20,30,40,50]]\n",
        "print(main_list)\n",
        "\n",
        "# convert list into array\n",
        "list_array = np.array(main_list)\n",
        "print(list_array)\n",
        "type(list_array)"
      ]
    },
    {
      "cell_type": "code",
      "execution_count": null,
      "metadata": {
        "id": "bbLfBXwCJVwX"
      },
      "outputs": [],
      "source": [
        "#How can you slice a NumPy array to extract a subarray?"
      ]
    },
    {
      "cell_type": "code",
      "execution_count": 8,
      "metadata": {},
      "outputs": [
        {
          "name": "stdout",
          "output_type": "stream",
          "text": [
            "[[ 2  3  5]\n",
            " [ 5  6  8]\n",
            " [45 55 60]]\n",
            "[[ 6  8]\n",
            " [55 60]]\n"
          ]
        }
      ],
      "source": [
        "# By using the indexing method and the colon notation, the general syntax is \"new_array = old_array[start:stop:step]\"\n",
        "\n",
        "\n",
        "# create an array:\n",
        "array_1 = np.array([[1,2,3,5], [2,5,6,8], [10,45,55,60]])\n",
        "type(array_1)\n",
        "\n",
        "# create a subarray:\n",
        "subarray1 = array_1[0:3, 1:4] # rows 1 to 3 (index 0 to 3-1), and cols 2 to 4 (index 1 t0 4-1) #the -1 rule applies for the last index\n",
        "print(subarray1)\n",
        "\n",
        "subarray2 = array_1[1:3, 2:4] # rows 2 to 3 (index 1 to 3-1), cols 3 to 4 (index 2 to 4-1)\n",
        "print(subarray2)"
      ]
    },
    {
      "cell_type": "code",
      "execution_count": null,
      "metadata": {
        "id": "c1jTMq5AJbS2"
      },
      "outputs": [],
      "source": [
        "#What are some of the available functions for performing element-wise operations on NumPy arrays?"
      ]
    },
    {
      "cell_type": "code",
      "execution_count": 9,
      "metadata": {},
      "outputs": [
        {
          "name": "stdout",
          "output_type": "stream",
          "text": [
            "[ 8 10 12 14]\n",
            "[-6 -6 -6 -6]\n",
            "[ 7 16 27 40]\n",
            "[0.14285714 0.25       0.33333333 0.4       ]\n",
            "[    7    64   729 10000]\n",
            "[1.         1.41421356 1.73205081 2.        ]\n",
            "[ 2.71828183  7.3890561  20.08553692 54.59815003]\n"
          ]
        }
      ],
      "source": [
        "d = np.array([1,2,3,4])\n",
        "e = np.array([7,8,9,10])\n",
        "\n",
        "# np.add() for element-wise addition of arrays\n",
        "array_add = np.add(d, e)\n",
        "print(array_add)\n",
        "\n",
        "# np.subtract() for element-wise subtraction\n",
        "array_sub = np.subtract(d, e) # array d minus e\n",
        "print(array_sub)\n",
        "\n",
        "# np.multiply() for element-wise multiplication\n",
        "array_mult = np.multiply(d,e)\n",
        "print(array_mult)\n",
        "\n",
        "# np.divide() for element-wise division\n",
        "array_div = np.divide(d, e)\n",
        "print(array_div)\n",
        "\n",
        "# np.power() for element-wise exponentiation (a number to the power)\n",
        "array_pow = np.power(e, d) # elements of array e to the power of corresponding elements of array d\n",
        "print(array_pow)\n",
        "\n",
        "# np.sqrt() for element-wise square root of each element of an array\n",
        "array_sq = np.sqrt(d)\n",
        "print(array_sq)\n",
        "\n",
        "array_exp = np.exp(d)\n",
        "print(array_exp)"
      ]
    },
    {
      "cell_type": "code",
      "execution_count": null,
      "metadata": {
        "id": "dPgmCPERJe_2"
      },
      "outputs": [],
      "source": [
        "#How do you reshape a NumPy array to have a different shape?"
      ]
    },
    {
      "cell_type": "code",
      "execution_count": 10,
      "metadata": {},
      "outputs": [
        {
          "name": "stdout",
          "output_type": "stream",
          "text": [
            "[1 2 3 4 5 6]\n",
            "[[1 2 3]\n",
            " [4 5 6]]\n",
            "[[1 2]\n",
            " [3 4]\n",
            " [5 6]]\n",
            "[[1]\n",
            " [2]\n",
            " [3]\n",
            " [4]\n",
            " [5]\n",
            " [6]]\n"
          ]
        }
      ],
      "source": [
        "# One can reshape a NumPy array using the reshape() method. The reshape() method returns a new array with the same data but a different shape. The new shape must have the same number of elements as the original shape.\n",
        "\n",
        "f = np.array([1,2,3,4,5,6])\n",
        "print(f)\n",
        "\n",
        "# using the reshape() function\n",
        "g = f.reshape(2, 3) # the dimensions of the new array must be multiples of the size of the original array\n",
        "print(g)\n",
        "h = f.reshape(3,2) # 3 rows, 2 columns\n",
        "print(h)\n",
        "i = f.reshape(6,1) # 6 rows, 1 column\n",
        "print(i)"
      ]
    },
    {
      "cell_type": "code",
      "execution_count": null,
      "metadata": {
        "id": "oon90JvgJhvv"
      },
      "outputs": [],
      "source": [
        "#How do you perform matrix multiplication on two NumPy arrays using the dot() function?"
      ]
    },
    {
      "cell_type": "code",
      "execution_count": null,
      "metadata": {},
      "outputs": [],
      "source": [
        "# you can perform matrix multiplication on two NumPy arrays using the dot() function. The dot() function can be used to compute dot products between vectors, as well as matrix multiplication between matrices. \n",
        "\n",
        "#### How do you perform matrix multiplication on two NumPy arrays using the dot() function?\n",
        "# Matrix multiplication of arrays follows the following rules:\n",
        "# - the number of columns in the 1st array == to the number of rows in second array\n",
        "# - the resulting array must have the same number of rows as the first array, and same number of columns as the second array\n",
        "# - The element at position (i, j) in the resulting matrix is obtained by multiplying the elements of the ith row of the first array with the corresponding elements of the jth column of the second array, and then summing the products\n",
        "# Consider two arrays below:"
      ]
    },
    {
      "cell_type": "code",
      "execution_count": 11,
      "metadata": {},
      "outputs": [
        {
          "name": "stdout",
          "output_type": "stream",
          "text": [
            "[[1 2 3]\n",
            " [3 4 8]]\n",
            "[5 6 7]\n",
            "[38 95]\n",
            "[38 95]\n"
          ]
        }
      ],
      "source": [
        "k = np.array([[1,2, 3],[3,4, 8]])\n",
        "print(k)\n",
        "l = np.array([5,6,7])\n",
        "print(l)\n",
        "# # using the dot() function\n",
        "m = k.dot(l)\n",
        "print(m)\n",
        "\n",
        "# the @ operator can also be used to multiply arrays\n",
        "n = k @ l\n",
        "print(n)"
      ]
    },
    {
      "cell_type": "code",
      "execution_count": null,
      "metadata": {
        "id": "JtbVS5P0Jodg"
      },
      "outputs": [],
      "source": [
        "#How can you use the where() function to apply a condition to a NumPy array?"
      ]
    },
    {
      "cell_type": "code",
      "execution_count": null,
      "metadata": {},
      "outputs": [],
      "source": [
        "# You can use the where() function in NumPy to apply a condition to an array and return a new array with the same shape as the original array, where the elements that satisfy the condition are replaced by a specified value, and the elements that do not satisfy the condition are replaced by another specified value. You can also use the where() function to apply a condition to two arrays and return a new array with the same shape as the original arrays, where the elements that satisfy the condition are taken from the first array, and the elements that do not satisfy the condition are taken from the second array.\n",
        "#### How can you use the where() function to apply a condition to a NumPy array?\n",
        "#  zero is returned for elements that do not satisfy the condition.\n",
        "# the .where() fucntion takes these arguments;\n",
        "#         numpy.where(condition, x, y)\n",
        "#         - x is the value returned if condition is True\n",
        "#         - y is the value returned if condition is false\n",
        "# consider the array below:"
      ]
    },
    {
      "cell_type": "code",
      "execution_count": 12,
      "metadata": {},
      "outputs": [
        {
          "name": "stdout",
          "output_type": "stream",
          "text": [
            "[1 2 3 0 0 0 0]\n"
          ]
        }
      ],
      "source": [
        "array5 = np.array([1,2,3,4,5,6,8])\n",
        "array6 = np.where(array5 <=3, array5, 0)\n",
        "print(array6)"
      ]
    },
    {
      "cell_type": "code",
      "execution_count": null,
      "metadata": {
        "id": "UkJ-LQlhJrMA"
      },
      "outputs": [],
      "source": [
        "#What is the difference between the flatten() and ravel() functions in NumPy?"
      ]
    },
    {
      "cell_type": "code",
      "execution_count": 13,
      "metadata": {},
      "outputs": [
        {
          "name": "stdout",
          "output_type": "stream",
          "text": [
            "[[1 2 3]\n",
            " [4 5 6]]\n",
            "[1 2 3 4 5 6]\n",
            "[  1   2 100   4   5   6]\n"
          ]
        }
      ],
      "source": [
        "# flatten() and ravel() are similar functions that can be used to convert a multidimensional array into a one-dimensional array. The main difference is that flatten() always returns a copy of the original array, whereas ravel() returns a flattened view of the original array whenever possible.\n",
        "\n",
        "array7 = np.array([[1,2,3], [4,5,6]])\n",
        "print(array7)\n",
        "# flatten()\n",
        "array_flat = array7.flatten()\n",
        "print(array_flat)\n",
        "\n",
        "# modifying the flattened array\n",
        "array_flat[2] = 100 # replace element at index 2 with 100\n",
        "print(array_flat)"
      ]
    },
    {
      "cell_type": "code",
      "execution_count": 14,
      "metadata": {},
      "outputs": [
        {
          "name": "stdout",
          "output_type": "stream",
          "text": [
            "[[ 8  9 10]\n",
            " [12 13 15]]\n",
            "[ 8  9 10 12 13 15]\n",
            "[ 8  3 10 12 13 15]\n",
            "[[ 8  3 10]\n",
            " [12 13 15]]\n"
          ]
        }
      ],
      "source": [
        "# ravel()\n",
        "array8 = np.array([[8,9,10], [12,13,15]])\n",
        "print(array8)\n",
        "\n",
        "# ravel array\n",
        "array_rav = array8.ravel()\n",
        "print(array_rav)\n",
        "\n",
        "# modify the raveled array\n",
        "array_rav[1] = 3\n",
        "print(array_rav)\n",
        "\n",
        "print(array8) "
      ]
    },
    {
      "cell_type": "code",
      "execution_count": null,
      "metadata": {
        "id": "5cf9aukfJsaB"
      },
      "outputs": [],
      "source": [
        "#How do you use NumPy's advanced indexing capabilities to select specific elements from an array?"
      ]
    },
    {
      "cell_type": "code",
      "execution_count": null,
      "metadata": {},
      "outputs": [],
      "source": [
        "# NumPy provides a powerful indexing syntax that allows you to select specific elements or subsets of an array. This indexing syntax is called \"advanced indexing\" and it allows you to select elements based on Boolean masks, integer arrays, and even other arrays.\n",
        "\n",
        "\n",
        "# This can be done using either Boolean (boolean-like) inde arrays, or using integer arrays.\n"
      ]
    },
    {
      "cell_type": "code",
      "execution_count": 15,
      "metadata": {},
      "outputs": [
        {
          "name": "stdout",
          "output_type": "stream",
          "text": [
            "[10 15 25]\n"
          ]
        }
      ],
      "source": [
        "##### a) using Boolean index arrays.\n",
        "# These are arrays containing True or False values. Only elements that correspond to the True index are selected.\n",
        "# Consider the example below:\n",
        "\n",
        "\n",
        "array9 = np.array([10,11,15,20,25])\n",
        "boolean_index = np.array([True, False, True, False, True])\n",
        "\n",
        "result = array9[boolean_index]\n",
        "print(result)"
      ]
    },
    {
      "cell_type": "code",
      "execution_count": 16,
      "metadata": {},
      "outputs": [
        {
          "name": "stdout",
          "output_type": "stream",
          "text": [
            "['10' 'x' '20' 'okra']\n"
          ]
        }
      ],
      "source": [
        "# ##### b) using the integer array\n",
        "# This array contains indices of elements you want to select, in form of integers.\n",
        "# Consider example below:\n",
        "\n",
        "array10 = np.array([10, 'x', 'mango', 20, 'okra'])\n",
        "integer_index = np.array([0, 1, 3, 4])\n",
        "\n",
        "outcome1 = array10[integer_index]\n",
        "print(outcome1)"
      ]
    },
    {
      "cell_type": "code",
      "execution_count": null,
      "metadata": {
        "id": "b2NpOnu2JxMp"
      },
      "outputs": [],
      "source": [
        "#How can you use NumPy's broadcasting rules to perform operations on arrays with different shapes?"
      ]
    },
    {
      "cell_type": "code",
      "execution_count": 17,
      "metadata": {},
      "outputs": [
        {
          "name": "stdout",
          "output_type": "stream",
          "text": [
            "[[ 4  8 12]\n",
            " [ 8 12 17]]\n",
            "[[11 12 13]\n",
            " [15 16 18]]\n"
          ]
        }
      ],
      "source": [
        "# NumPy's broadcasting rules allow you to perform operations on arrays with different shapes. The broadcasting rules apply when the arrays being operated on have different shapes, but are still compatible for the operation. The rules allow NumPy to perform the operation as if the arrays had the same shape, by stretching or duplicating one or both arrays as needed.\n",
        "# It follows the broadcasting rules below:\n",
        "# - For arrays with different diensions, the smaller array is padded to the larger one.\n",
        "# - If arrays have different shapes, the one with a shape equal to 1 is stretched to match the shape of the other array.\n",
        "# - If neither of the aboe, NumPy throws a \"ValueError: operands could not be broadcast together\" error.\n",
        "\n",
        "\n",
        "\n",
        "\n",
        "array11 = np.array([[1,2,3], [5,6,8]])\n",
        "array12 = np.array([3,6,9])\n",
        "scalar3 = np.array(10)\n",
        "\n",
        "# for 1D and 2D arrays\n",
        "outcome2 = array11 + array12 # elements of array12 are added element-wise to each of the nested lists of array11\n",
        "print(outcome2)\n",
        "\n",
        "# for 2D array and scalar\n",
        "outcome3 = array11 + scalar3 # the scalar is added to each element of array11\n",
        "print(outcome3) \n"
      ]
    },
    {
      "cell_type": "code",
      "execution_count": null,
      "metadata": {
        "id": "vS-gg1ZrJ8s6"
      },
      "outputs": [],
      "source": [
        "#How do you perform element-wise division of two NumPy arrays while ignoring divide-by-zero errors?"
      ]
    },
    {
      "cell_type": "code",
      "execution_count": 18,
      "metadata": {},
      "outputs": [
        {
          "name": "stdout",
          "output_type": "stream",
          "text": [
            "[2.                inf 4.         2.85714286 0.        ]\n"
          ]
        }
      ],
      "source": [
        "array11 = np.array([20, 24, 32, 40, 0])\n",
        "array12 = np.array([10, 0, 8, 14, 25])\n",
        "\n",
        "with np.errstate(divide='ignore'):\n",
        "    outcomes = np.divide(array11, array12)\n",
        "print(outcomes)\n",
        "\n"
      ]
    },
    {
      "cell_type": "markdown",
      "metadata": {
        "id": "XgeHrSj7KzTj"
      },
      "source": [
        "### Project: Array Statistics Calculator\n",
        "**Description:**\n",
        "\n",
        "In this project, you will create a program that allows a user to enter a list of numbers, and then calculates and displays various statistics about those numbers using NumPy.\n",
        "\n",
        "**Requirements:**\n",
        "\n",
        "- The program should prompt the user to enter a list of numbers separated by commas.\n",
        "- The program should use NumPy to convert the input into a 1D NumPy array.\n",
        "- The program should calculate and display the following statistics:\n",
        "- The mean of the numbers\n",
        "- The median of the numbers\n",
        "- The standard deviation of the numbers\n",
        "- The maximum and minimum values of the numbers\n",
        "- The program should use appropriate NumPy functions to calculate the statistics.\n",
        "- The program should display the statistics with appropriate labels.\n",
        "\n",
        "### Sample Output\n",
        "```\n",
        "Enter a list of numbers separated by commas: 2, 5, 7, 3, 1, 9\n",
        "Statistics for the input array:\n",
        "Mean: 4.5\n",
        "Median: 4.0\n",
        "Standard Deviation: 2.9154759474226504\n",
        "Maximum: 9\n",
        "Minimum: 1\n",
        "```"
      ]
    },
    {
      "cell_type": "code",
      "execution_count": 19,
      "metadata": {
        "id": "xQU4w-RxLgWZ"
      },
      "outputs": [
        {
          "name": "stdout",
          "output_type": "stream",
          "text": [
            "[2 3 4]\n",
            "Statistics for the input array:\n",
            "Mean is 3.0\n",
            "Median is 3.0\n",
            "Standard deviation is 0.816496580927726\n",
            "The maximum number is 4\n",
            "Minimum value is 2\n"
          ]
        }
      ],
      "source": [
        "import numpy as np\n",
        "# prompt for entering comma seperated numbers\n",
        "num_str = input('Enter numbers separated by commas: ')\n",
        "\n",
        "# convert the strings into integers\n",
        "nums = np.fromstring(num_str, dtype=int, sep=',')\n",
        "print(nums)\n",
        "print('Statistics for the input array:')\n",
        "\n",
        "# mean of numbers\n",
        "mean = np.mean(nums)\n",
        "print('Mean is', mean)\n",
        "\n",
        "# median of numbers\n",
        "median = np.median(nums)\n",
        "print('Median is', median)\n",
        "\n",
        "# standard deviation\n",
        "std_dev = np.std(nums)\n",
        "print('Standard deviation is', std_dev)\n",
        "\n",
        "# maximum\n",
        "maximum = np.max(nums)\n",
        "print('The maximum number is', maximum)\n",
        "\n",
        "# minimum\n",
        "minimum = np.min(nums)\n",
        "print('Minimum value is', minimum)"
      ]
    }
  ],
  "metadata": {
    "colab": {
      "provenance": []
    },
    "kernelspec": {
      "display_name": "Python 3",
      "name": "python3"
    },
    "language_info": {
      "codemirror_mode": {
        "name": "ipython",
        "version": 3
      },
      "file_extension": ".py",
      "mimetype": "text/x-python",
      "name": "python",
      "nbconvert_exporter": "python",
      "pygments_lexer": "ipython3",
      "version": "3.9.13"
    }
  },
  "nbformat": 4,
  "nbformat_minor": 0
}
