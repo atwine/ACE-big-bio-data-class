{
  "cells": [
    {
      "attachments": {},
      "cell_type": "markdown",
      "metadata": {
        "id": "aTz0cvx7Iex3"
      },
      "source": [
        "## Numpy Assignment\n",
        "Student Name:Wanyama Emmanuel Okuku\n",
        "\n",
        "Reg No:2022/HDO7/5015U\n",
        "\n",
        "## Instructions:\n",
        "- Please complete the questions below.\n",
        "- Please comment your code indicating how you approached the problem"
      ]
    },
    {
      "attachments": {},
      "cell_type": "markdown",
      "metadata": {
        "id": "NwKEk4skG5c2"
      },
      "source": [
        "### What is NumPy, and what are some of its key features?\n",
        " NumPy is a Python library that stands for \"Numerical Python\".\n",
        "It is an essential package for scientific computing in Python and provides an efficient interface to store \n",
        "and operate on dense data buffers, as well as tools for working with arrays. \n",
        "\n",
        "The features include; \n",
        "- Multidimensional arrays\n",
        "- Mathematical functions\n",
        "- Broadcasting\n",
        "- Indexing and slicing\n",
        "- Efficient memory use\n",
        "- Integration with other libraries:"
      ]
    },
    {
      "attachments": {},
      "cell_type": "markdown",
      "metadata": {},
      "source": [
        "### How do you create a NumPy array using Python's built-in range() function?"
      ]
    },
    {
      "cell_type": "code",
      "execution_count": null,
      "metadata": {
        "id": "OMqoIR7oJD0i"
      },
      "outputs": [
        {
          "name": "stdout",
          "output_type": "stream",
          "text": [
            "[0 1 2 3 4 5 6 7 8 9]\n"
          ]
        }
      ],
      "source": [
        "import numpy as np #Import Numpy\n",
        "Wanyama = np.array(range(10)) ##use the np.array() function to create a NumPy array from the range object range(10)\n",
        "print(Wanyama)"
      ]
    },
    {
      "attachments": {},
      "cell_type": "markdown",
      "metadata": {
        "id": "DRVy8tPoJHQr"
      },
      "source": [
        "### What is the difference between a scalar value and a vector in NumPy?\n",
        "\n",
        "A scalar is a single numeric value (integer or float), while a vector is a collection of scalar values.\n",
        "As indicated below:"
      ]
    },
    {
      "cell_type": "code",
      "execution_count": 7,
      "metadata": {},
      "outputs": [
        {
          "name": "stdout",
          "output_type": "stream",
          "text": [
            "42\n",
            "12.6\n",
            "[ 2  6  9 50 70]\n"
          ]
        }
      ],
      "source": [
        "import numpy as np\n",
        "scalar1 = np.array(42)\n",
        "scalar2 = np.array(12.6)\n",
        "print(scalar1)\n",
        "print(scalar2)\n",
        "\n",
        "vector1 = np.array([2,6,9,50,70])\n",
        "print(vector1)"
      ]
    },
    {
      "attachments": {},
      "cell_type": "markdown",
      "metadata": {},
      "source": [
        "### How do you calculate the mean of a NumPy array using the mean() function?"
      ]
    },
    {
      "cell_type": "code",
      "execution_count": 36,
      "metadata": {
        "id": "lHa-pHerJKd0"
      },
      "outputs": [
        {
          "name": "stdout",
          "output_type": "stream",
          "text": [
            "[ 0  1  2  3  4  5  6  7  8  9 10]\n",
            "5.0\n"
          ]
        }
      ],
      "source": [
        "import numpy as np\n",
        "Emma = np.array(range(11))\n",
        "print(Emma)\n",
        "mean_Emma = np.mean(Emma)\n",
        "print(mean_Emma)"
      ]
    },
    {
      "attachments": {},
      "cell_type": "markdown",
      "metadata": {},
      "source": [
        "### What is broadcasting in NumPy, and how can it be useful?"
      ]
    },
    {
      "attachments": {},
      "cell_type": "markdown",
      "metadata": {},
      "source": [
        "In NumPy, broadcasting refers to the implicit and automatic alignment of arrays with different shapes during arithmetic operations. When NumPy tries to perform an operation between two arrays of different shapes, broadcasting allows the smaller array to be broadcasted to match the shape of the larger array.\n",
        "For example, in the case where we have two arrays:\n",
        "\n"
      ]
    },
    {
      "cell_type": "code",
      "execution_count": 37,
      "metadata": {},
      "outputs": [
        {
          "name": "stdout",
          "output_type": "stream",
          "text": [
            "[[ 5  6  7]\n",
            " [ 8  9 10]]\n",
            "[30 40 50]\n",
            "[[35 46 57]\n",
            " [38 49 60]]\n"
          ]
        }
      ],
      "source": [
        "import numpy as np\n",
        "# 2D array\n",
        "pam = np.array([[5, 6, 7], [8, 9, 10]])\n",
        "print(pam)\n",
        "# 1D array\n",
        "jael = np.array([30, 40, 50])\n",
        "print(jael)\n",
        "\n",
        "# Adding the 1D array; the 1D array is padded to each row of the 2D array using broadcasting\n",
        "Emma = pam + jael\n",
        "\n",
        "# Print the result\n",
        "print(Emma)\n"
      ]
    },
    {
      "cell_type": "code",
      "execution_count": 38,
      "metadata": {},
      "outputs": [
        {
          "name": "stdout",
          "output_type": "stream",
          "text": [
            "[5 7 9]\n"
          ]
        }
      ],
      "source": [
        "import numpy as np\n",
        "# Another example\n",
        "#2D array\n",
        "a = np.array([1, 2, 3])\n",
        "b = np.array([4, 5, 6])\n",
        "# Adding a and b\n",
        "c = a + b\n",
        "# Resulting into\n",
        "print(c)\n",
        "\n",
        "# NumPy will automatically broadcast the smaller array a to match the shape of the larger array b,"
      ]
    },
    {
      "attachments": {},
      "cell_type": "markdown",
      "metadata": {},
      "source": [
        "Broadcasting can be useful in a variety of situations:\n",
        "\n",
        "1.Vectorization of code: Broadcasting can simplify code that operates on arrays by allowing operations to be performed element-wise on arrays of different shapes.\n",
        "\n",
        "2.Avoiding unnecessary memory allocation: Broadcasting allows NumPy to perform operations on arrays of different shapes without having to allocate memory for a new array.\n",
        "\n",
        "3.Improving performance: Broadcasting can be much faster than looping over arrays and performing element-wise operations manually."
      ]
    },
    {
      "attachments": {},
      "cell_type": "markdown",
      "metadata": {},
      "source": [
        "### How do you create a 2D array in NumPy using Python's built-in list of lists?"
      ]
    },
    {
      "cell_type": "code",
      "execution_count": 39,
      "metadata": {},
      "outputs": [
        {
          "name": "stdout",
          "output_type": "stream",
          "text": [
            "[[1 2 3]\n",
            " [4 5 6]\n",
            " [7 8 9]]\n"
          ]
        }
      ],
      "source": [
        "import numpy as np\n",
        "# Create a list of lists\n",
        "my_list = [[1, 2, 3], [4, 5, 6], [7, 8, 9]]\n",
        "\n",
        "# Convert the list of lists to a NumPy array\n",
        "my_array = np.array(my_list)\n",
        "\n",
        "# Print the array\n",
        "print(my_array)\n",
        "\n",
        "# NB:the resulting array has a shape of (3, 3) indicating that it has three rows and three columns"
      ]
    },
    {
      "cell_type": "code",
      "execution_count": 19,
      "metadata": {},
      "outputs": [
        {
          "name": "stdout",
          "output_type": "stream",
          "text": [
            "[[1, 2, 3, 4], [10, 12, 14, 15], [20, 30, 40, 50]]\n",
            "[[ 1  2  3  4]\n",
            " [10 12 14 15]\n",
            " [20 30 40 50]]\n"
          ]
        },
        {
          "data": {
            "text/plain": [
              "numpy.ndarray"
            ]
          },
          "execution_count": 19,
          "metadata": {},
          "output_type": "execute_result"
        }
      ],
      "source": [
        "import numpy as np\n",
        "#Another example\n",
        "# create a list of lists\n",
        "Emma_list = [[1,2,3,4], [10,12,14,15], [20,30,40,50]]\n",
        "print(Emma_list)\n",
        "\n",
        "list_array = np.array(Emma_list)\n",
        "print(list_array)\n",
        "type(list_array)"
      ]
    },
    {
      "attachments": {},
      "cell_type": "markdown",
      "metadata": {},
      "source": [
        "### How can you slice a NumPy array to extract a subarray?"
      ]
    },
    {
      "attachments": {},
      "cell_type": "markdown",
      "metadata": {},
      "source": [
        "You can slice a NumPy array to extract a subarray by specifying the indices of the elements you want to extract. The syntax for slicing a NumPy array is array[start:stop:step], where start is the index of the first element, stop is the index of the last element (exclusive), and step is the step size."
      ]
    },
    {
      "cell_type": "code",
      "execution_count": 40,
      "metadata": {},
      "outputs": [
        {
          "name": "stdout",
          "output_type": "stream",
          "text": [
            "[[ 2  3  5]\n",
            " [ 5  6  8]\n",
            " [45 55 60]]\n",
            "[[ 6  8]\n",
            " [55 60]]\n"
          ]
        }
      ],
      "source": [
        "# create an array:\n",
        "array_z = np.array([[1,2,3,5], [2,5,6,8], [10,45,55,60]])\n",
        "type(array_z)\n",
        "\n",
        "# create a subarray:\n",
        "subarray1 = array_z[0:4, 1:4] # rows 0 to 3, and cols 1 to 3 #the -1 rule applies for the last index\n",
        "print(subarray1)\n",
        "\n",
        "subarray2 = array_z[1:3, 2:5] # rows 1 to 2, cols 2 to 4\n",
        "print(subarray2)"
      ]
    },
    {
      "attachments": {},
      "cell_type": "markdown",
      "metadata": {},
      "source": [
        "\n",
        "### What are some of the available functions for performing element-wise operations on NumPy arrays?\n",
        "- numpy.add():  Adds corresponding elements in two arrays.\n",
        "- numpy.subtract():  Subtracts corresponding elements in two arrays.\n",
        "- numpy.multiply():  Multiplies corresponding elements in two arrays.\n",
        "- numpy.divide():  Divides corresponding elements in two arrays.\n",
        "- numpy.power():  Raises corresponding elements in an array to a specified power.\n",
        "- numpy.sqrt():  Computes the square root of each element in an array.\n",
        "- numpy.exp():  Computes the exponential of each element in an array.\n",
        "- numpy.log():  Computes the natural logarithm of each element in an array."
      ]
    },
    {
      "attachments": {},
      "cell_type": "markdown",
      "metadata": {},
      "source": [
        "### How do you reshape a NumPy array to have a different shape?\n",
        "You can reshape a NumPy array to have a different shape using the reshape() function. \n",
        "The reshape() function returns a new array that has the same data as the original array, but with a different shape. \n",
        "The new shape must be compatible with the size of the original array."
      ]
    },
    {
      "cell_type": "code",
      "execution_count": 15,
      "metadata": {},
      "outputs": [
        {
          "name": "stdout",
          "output_type": "stream",
          "text": [
            "[[ 0  1  2]\n",
            " [ 3  4  5]\n",
            " [ 6  7  8]\n",
            " [ 9 10 11]\n",
            " [12 13 14]]\n"
          ]
        }
      ],
      "source": [
        "import numpy as np\n",
        "# create a 1D array with 15 elements\n",
        "array1 = np.array([0, 1, 2, 3, 4, 5, 6, 7, 8, 9, 10, 11, 12, 13, 14])\n",
        "# Reshape the array into a 2D array with 5 rows and 3 columns\n",
        "array2d = array1.reshape((5, 3))\n",
        "print(array2d)"
      ]
    },
    {
      "attachments": {},
      "cell_type": "markdown",
      "metadata": {},
      "source": [
        "### How do you perform matrix multiplication on two NumPy arrays using the dot() function?\n",
        "The dot() function computes the dot product of two arrays, which is the matrix multiplication of the two arrays if they are 2D arrays.\n",
        "For Example;"
      ]
    },
    {
      "cell_type": "code",
      "execution_count": 19,
      "metadata": {},
      "outputs": [
        {
          "name": "stdout",
          "output_type": "stream",
          "text": [
            "[[ 75 220]\n",
            " [ 85 260]]\n"
          ]
        }
      ],
      "source": [
        "import numpy as np\n",
        "# create two 2D arrays\n",
        "P = np.array([[1, 10], [3, 10]])\n",
        "Q = np.array([[5, 20], [7, 20]])\n",
        "# perform matrix multiplication using dot() function\n",
        "R = np.dot(P, Q)\n",
        "print(R)"
      ]
    },
    {
      "attachments": {},
      "cell_type": "markdown",
      "metadata": {},
      "source": [
        "### How can you use the where() function to apply a condition to a NumPy array?\n",
        "You can use the where() function in NumPy to apply a condition to an array and return a new array with elements that satisfy the condition.\n",
        "where() function returns a new array with the same shape as the input array, where elements that satisfy the condition are replaced by the corresponding elements from the input array, and elements that do not satisfy the condition are replaced by the value provided as the third argument"
      ]
    },
    {
      "cell_type": "code",
      "execution_count": 21,
      "metadata": {},
      "outputs": [
        {
          "name": "stdout",
          "output_type": "stream",
          "text": [
            "[0 0 0 4 5]\n"
          ]
        }
      ],
      "source": [
        "import numpy as np\n",
        "# create a 1D array with 5 elements\n",
        "array = np.array([1, 2, 3, 4, 5])\n",
        "# create a new array with elements from array that are greater than 3\n",
        "new_array = np.where(array > 3, array, 0)\n",
        "print(new_array)"
      ]
    },
    {
      "cell_type": "code",
      "execution_count": 25,
      "metadata": {},
      "outputs": [
        {
          "name": "stdout",
          "output_type": "stream",
          "text": [
            "['0' '0' '0' '0' 'E' 'F' 'G']\n"
          ]
        }
      ],
      "source": [
        "import numpy as np\n",
        "#Another example\n",
        "# create a 1D array with 7 elements\n",
        "ar = np.array(['A', 'B', 'C', 'D', 'E', 'F', 'G'])\n",
        "# create a new array with elements from ar that are greater than 'D'ArithmeticError\n",
        "new_ar = np.where(ar > 'D', ar, 0)\n",
        "print(new_ar)"
      ]
    },
    {
      "attachments": {},
      "cell_type": "markdown",
      "metadata": {},
      "source": [
        "### What is the difference between the flatten() and ravel() functions in NumPy?\n",
        "In NumPy, both the flatten() and ravel() functions are used to convert a multidimensional array into a one-dimensional array. However, there is a subtle difference between the two functions;\n",
        "The flatten() function always returns a copy of the array, whereas the ravel() function returns a view of the original array whenever possible, and only creates a copy if necessary.\n",
        "The flatten() function returns a new copy of the original array, so modifying the original array has no effect on the flattened array. On the other hand, the ravel() function returns a view of the original array whenever possible, so modifying the original array also affects the flattened array."
      ]
    },
    {
      "cell_type": "code",
      "execution_count": 26,
      "metadata": {},
      "outputs": [
        {
          "name": "stdout",
          "output_type": "stream",
          "text": [
            "[1 2 3 4]\n",
            "[5 2 3 4]\n"
          ]
        }
      ],
      "source": [
        "import numpy as np\n",
        "# create a 2D array\n",
        "ay = np.array([[1, 2], [3, 4]])\n",
        "# use flatten() function to create a new flattened array\n",
        "ay_flattened = ay.flatten()\n",
        "# use ravel() function to create a new flattened array\n",
        "ay_raveled = ay.ravel()\n",
        "# modify original array\n",
        "ay[0, 0] = 5\n",
        "print(ay_flattened)\n",
        "print(ay_raveled)"
      ]
    },
    {
      "attachments": {},
      "cell_type": "markdown",
      "metadata": {},
      "source": [
        "### How do you use NumPy's advanced indexing capabilities to select specific elements from an array?\n",
        "NumPy's advanced indexing capabilities allow you to select specific elements from an array based on conditions or specific indices. \n",
        "For Example;"
      ]
    },
    {
      "attachments": {},
      "cell_type": "markdown",
      "metadata": {},
      "source": [
        "### You can use Boolean index arrays as below"
      ]
    },
    {
      "cell_type": "code",
      "execution_count": 43,
      "metadata": {},
      "outputs": [
        {
          "name": "stdout",
          "output_type": "stream",
          "text": [
            "[100 200 400]\n"
          ]
        }
      ],
      "source": [
        "import numpy as np\n",
        "# Create a 1D array\n",
        "Emma = np.array([100, 200, 300, 400, 500])\n",
        "# Select elements boolean indices\n",
        "boolean_index = np.array([True, True, False, True, False])\n",
        "\n",
        "Result = Emma[boolean_index]\n",
        "print(Result)"
      ]
    },
    {
      "attachments": {},
      "cell_type": "markdown",
      "metadata": {},
      "source": [
        "### Alternatively you can use integer arrays which contain indices of elements you want to select in integer form"
      ]
    },
    {
      "cell_type": "code",
      "execution_count": 48,
      "metadata": {},
      "outputs": [
        {
          "name": "stdout",
          "output_type": "stream",
          "text": [
            "['pistol' 'magazine' 'Lord']\n"
          ]
        }
      ],
      "source": [
        "import numpy as np\n",
        "# Create a 1D array\n",
        "Emmaw = np.array(['pistol', 'magazine', 7, 'Tom', 'Lord'])\n",
        "# Select elements at specific indices\n",
        "integer_index = np.array([0, 1, 4])\n",
        "\n",
        "outcome = Emmaw[integer_index]\n",
        "print(outcome)"
      ]
    },
    {
      "cell_type": "code",
      "execution_count": 61,
      "metadata": {},
      "outputs": [
        {
          "name": "stdout",
          "output_type": "stream",
          "text": [
            "[1 3 5]\n"
          ]
        }
      ],
      "source": [
        "import numpy as np\n",
        "\n",
        "# Create a 1D array\n",
        "y = np.array([1, 2, 3, 4, 5])\n",
        "\n",
        "# Select elements at specific indices\n",
        "indices = np.array([0, 2, 4])\n",
        "result = y[indices]\n",
        "print(result) "
      ]
    },
    {
      "attachments": {},
      "cell_type": "markdown",
      "metadata": {},
      "source": [
        "### How can you use NumPy's broadcasting rules to perform operations on arrays with different shapes?\n",
        "NumPy's broadcasting rules allow you to perform operations on arrays with different shapes.\n",
        " Broadcasting is a powerful tool that allows NumPy to work with arrays of different shapes and sizes. It enables you to perform operations on arrays without explicitly creating copies of the data.\n",
        "\n",
        "If two arrays have different shapes, but their dimensions match in some way, you can use them together in an operation. When performing an operation on two arrays, NumPy compares their shapes element-wise. \n",
        "If the dimensions of the arrays are not the same, but they are compatible according to the broadcasting rules, NumPy will broadcast one or both of the arrays to match the dimensions of the other.\n"
      ]
    },
    {
      "attachments": {},
      "cell_type": "markdown",
      "metadata": {},
      "source": [
        "### How do you perform element-wise division of two NumPy arrays while ignoring divide-by-zero errors?\n",
        "Use the numpy.divide() function along with the numpy.errstate()"
      ]
    },
    {
      "cell_type": "code",
      "execution_count": 58,
      "metadata": {},
      "outputs": [
        {
          "name": "stdout",
          "output_type": "stream",
          "text": [
            "[inf 2.  1.5 0.  inf]\n"
          ]
        }
      ],
      "source": [
        "import numpy as np\n",
        "# sample arrays\n",
        "J = np.array([5, 2, 3, 0, 7])\n",
        "K = np.array([0, 1, 2, 3, 0])\n",
        "\n",
        "# \"ignore\" any divide-by-zero\n",
        "with np.errstate(divide='ignore', invalid='ignore'):\n",
        "# perform element-wise division while ignoring divide-by-zero errors\n",
        "    L = np.divide(J, K)\n",
        "print(L)"
      ]
    },
    {
      "attachments": {},
      "cell_type": "markdown",
      "metadata": {},
      "source": [
        "### Alternatively"
      ]
    },
    {
      "cell_type": "code",
      "execution_count": 56,
      "metadata": {},
      "outputs": [
        {
          "name": "stdout",
          "output_type": "stream",
          "text": [
            "[inf  1. inf  0.  1.]\n"
          ]
        }
      ],
      "source": [
        "import numpy as np\n",
        "\n",
        "# sample arrays\n",
        "u = np.array([3, 2, 4, 0, 5])\n",
        "v = np.array([0, 2, 0, 4, 5])\n",
        "\n",
        "# ignore divide-by-zero warning\n",
        "np.seterr(divide='ignore', invalid='ignore')\n",
        "\n",
        "# perform element-wise division while ignoring divide-by-zero errors\n",
        "w = np.divide(u, v)\n",
        "\n",
        "print(w)"
      ]
    },
    {
      "cell_type": "markdown",
      "metadata": {
        "id": "XgeHrSj7KzTj"
      },
      "source": [
        "### Project: Array Statistics Calculator\n",
        "**Description:**\n",
        "\n",
        "In this project, you will create a program that allows a user to enter a list of numbers, and then calculates and displays various statistics about those numbers using NumPy.\n",
        "\n",
        "**Requirements:**\n",
        "\n",
        "- The program should prompt the user to enter a list of numbers separated by commas.\n",
        "- The program should use NumPy to convert the input into a 1D NumPy array.\n",
        "- The program should calculate and display the following statistics:\n",
        "- The mean of the numbers\n",
        "- The median of the numbers\n",
        "- The standard deviation of the numbers\n",
        "- The maximum and minimum values of the numbers\n",
        "- The program should use appropriate NumPy functions to calculate the statistics.\n",
        "- The program should display the statistics with appropriate labels.\n",
        "\n",
        "### Sample Output\n",
        "```\n",
        "Enter a list of numbers separated by commas: 2, 5, 7, 3, 1, 9\n",
        "Statistics for the input array:\n",
        "Mean: 4.5\n",
        "Median: 4.0\n",
        "Standard Deviation: 2.9154759474226504\n",
        "Maximum: 9\n",
        "Minimum: 1\n",
        "```"
      ]
    },
    {
      "cell_type": "code",
      "execution_count": 49,
      "metadata": {
        "id": "xQU4w-RxLgWZ"
      },
      "outputs": [
        {
          "name": "stdout",
          "output_type": "stream",
          "text": [
            "Mean:  4.5\n",
            "Median:  4.0\n",
            "Standard Deviation:  2.8136571693556887\n",
            "Maximum value:  9\n",
            "Minimum value:  1\n"
          ]
        }
      ],
      "source": [
        "import numpy as np\n",
        "# Prompt the user to enter a list of numbers separated by commas\n",
        "input_str = input(\"Enter a list of numbers separated by commas: \")\n",
        "\n",
        "# Convert the input into a 1D NumPy array\n",
        "nums = np.fromstring(input_str, dtype=int, sep=',')\n",
        "\n",
        "# Calculate the mean of the numbers\n",
        "mean = np.mean(nums)\n",
        "\n",
        "# Calculate the median of the numbers\n",
        "median = np.median(nums)\n",
        "\n",
        "# Calculate the standard deviation of the numbers\n",
        "std = np.std(nums)\n",
        "\n",
        "# Calculate the maximum value of the numbers\n",
        "max_val = np.max(nums)\n",
        "\n",
        "# Calculate the minimum value of the numbers\n",
        "min_val = np.min(nums)\n",
        "\n",
        "# Display the statistics with appropriate labels\n",
        "print(\"Mean: \", mean)\n",
        "print(\"Median: \", median)\n",
        "print(\"Standard Deviation: \", std)\n",
        "print(\"Maximum value: \", max_val)\n",
        "print(\"Minimum value: \", min_val)"
      ]
    }
  ],
  "metadata": {
    "colab": {
      "provenance": []
    },
    "kernelspec": {
      "display_name": "Python 3",
      "name": "python3"
    },
    "language_info": {
      "codemirror_mode": {
        "name": "ipython",
        "version": 3
      },
      "file_extension": ".py",
      "mimetype": "text/x-python",
      "name": "python",
      "nbconvert_exporter": "python",
      "pygments_lexer": "ipython3",
      "version": "3.9.13"
    }
  },
  "nbformat": 4,
  "nbformat_minor": 0
}
