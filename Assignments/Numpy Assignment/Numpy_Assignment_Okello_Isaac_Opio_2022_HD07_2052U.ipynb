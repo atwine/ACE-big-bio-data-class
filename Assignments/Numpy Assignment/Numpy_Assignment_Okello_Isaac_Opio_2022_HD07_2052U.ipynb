{
 "cells": [
  {
   "attachments": {},
   "cell_type": "markdown",
   "metadata": {
    "id": "aTz0cvx7Iex3"
   },
   "source": [
    "## Numpy Assignment\n",
    "Student Name:OKELLO ISAAC OPIO\n",
    "\n",
    "Reg No:2022/HD07/2052U\n",
    "\n",
    "## Instructions:\n",
    "- Please complete the questions below.\n",
    "- Please comment your code indicating how you approached the problem"
   ]
  },
  {
   "cell_type": "markdown",
   "metadata": {
    "id": "NwKEk4skG5c2"
   },
   "source": [
    "#  What is NumPy, and what are some of its key features?"
   ]
  },
  {
   "attachments": {},
   "cell_type": "markdown",
   "metadata": {},
   "source": [
    "## NumPy is a Python library that provides support for multidimensional arrays and matrices along with a vast collection of mathematical functions to operate on them. \n",
    "## key features of NumPy:\n",
    "\n",
    "### - Can have multiple dinemnsions of arrays or matrices\n",
    "### - NumPy can be integrated with other Python libraries, such as Pandas and Matplotlib.\n",
    "### - NumPy is designed for efficient array operations and is optimized for both memory usage and speed.\n",
    "### - NumPy provides a large collection of high-level mathematical functions, including basic arithmetic, linear algebra, Fourier transforms, and more.\n",
    "### - NumPy arrays are homogeneous arrays, which means they can only contain elements of the same data type."
   ]
  },
  {
   "cell_type": "code",
   "execution_count": 3,
   "metadata": {},
   "outputs": [
    {
     "name": "stdout",
     "output_type": "stream",
     "text": [
      "[0 2 4 6 8]\n"
     ]
    }
   ],
   "source": [
    "# How do you create a NumPy array using Python's built-in range() function?\n",
    "import numpy as np\n",
    "\n",
    "# Create a NumPy array using range function\n",
    "my_range = range(0, 10, 2) # start=0, stop=10, step=2\n",
    "my_array = np.array(my_range)\n",
    "\n",
    "# Print the NumPy array\n",
    "print(my_array)\n"
   ]
  },
  {
   "attachments": {},
   "cell_type": "markdown",
   "metadata": {},
   "source": [
    "In the above example, I create a range() object with a start value of 0, stop value of 10 (exclusive), and step value of 2. Then, we pass the range() object to the numpy.array() function to create a NumPy array. Finally, we print the resulting array using the print() function."
   ]
  },
  {
   "cell_type": "markdown",
   "metadata": {
    "id": "DRVy8tPoJHQr"
   },
   "source": [
    "# What is the difference between a scalar value and a vector in NumPy?"
   ]
  },
  {
   "attachments": {},
   "cell_type": "markdown",
   "metadata": {},
   "source": [
    "### A scalar is a single value that can be represented by a NumPy array of dimension 0, while vector, is an array of numbers that has more than one value and can be represented by a NumPy array of dimension 1.\n",
    "\n",
    "### Here are some examples to illustrate the difference between a scalar and a vector in NumPy:"
   ]
  },
  {
   "cell_type": "code",
   "execution_count": 4,
   "metadata": {},
   "outputs": [
    {
     "name": "stdout",
     "output_type": "stream",
     "text": [
      "5\n",
      "()\n"
     ]
    }
   ],
   "source": [
    "# Scalar\n",
    "# A scalar in NumPy is represented by an array with a shape of (), i.e., an array with zero dimensions.\n",
    "\n",
    "import numpy as np\n",
    "\n",
    "# Scalar value in NumPy\n",
    "scalar = np.array(5)\n",
    "print(scalar)\n",
    "\n",
    "# Shape of scalar array\n",
    "print(scalar.shape)\n",
    "\n"
   ]
  },
  {
   "cell_type": "code",
   "execution_count": 5,
   "metadata": {},
   "outputs": [
    {
     "name": "stdout",
     "output_type": "stream",
     "text": [
      "[1 2 3 4 5]\n",
      "(5,)\n"
     ]
    }
   ],
   "source": [
    "# Vector\n",
    "# A vector in NumPy is represented by an array with a shape of (n,), where n is the number of elements in the vector.\n",
    "\n",
    "import numpy as np\n",
    "\n",
    "# Vector in NumPy\n",
    "vector = np.array([1, 2, 3, 4, 5])\n",
    "print(vector)\n",
    "\n",
    "# Shape of vector array\n",
    "print(vector.shape)\n",
    "\n"
   ]
  },
  {
   "cell_type": "markdown",
   "metadata": {
    "id": "lHa-pHerJKd0"
   },
   "source": [
    "# How do you calculate the mean of a NumPy array using the mean() function?"
   ]
  },
  {
   "cell_type": "markdown",
   "metadata": {},
   "source": [
    "#### To calculate the mean of a NumPy array using the mean() function, we can simply pass the array as an argument to the function. The mean() function returns the arithmetic mean of the array elements.\n",
    "\n",
    "#### Here's an example:"
   ]
  },
  {
   "cell_type": "code",
   "execution_count": 8,
   "metadata": {},
   "outputs": [
    {
     "name": "stdout",
     "output_type": "stream",
     "text": [
      "6.4\n"
     ]
    }
   ],
   "source": [
    "# In the above example, we first create a NumPy array arr with the values [1, 2, 3, 4, 5]. \n",
    "# We then call the mean() function on this array and assign the result to the variable mean. \n",
    "#Finally, we print the value of mean, which is the arithmetic mean of the array elements, i.e., 3.0.\n",
    "\n",
    "\n",
    "import numpy as np\n",
    "\n",
    "arrarr = np.array([1, 5, 7, 9, 10])\n",
    "mean = np.mean(arrarr)\n",
    "\n",
    "print(mean) \n"
   ]
  },
  {
   "cell_type": "markdown",
   "metadata": {
    "id": "EqpLGTh8JON9"
   },
   "source": [
    "# What is broadcasting in NumPy, and how can it be useful?\n"
   ]
  },
  {
   "attachments": {},
   "cell_type": "markdown",
   "metadata": {},
   "source": [
    "### Broadcasting is the ability of NumPy to perform operations on arrays with different shapes, by implicitly replicating the values of the smaller array to match the shape of the larger array. This allows for efficient computation without the need to create new arrays to match shapes.\n"
   ]
  },
  {
   "cell_type": "code",
   "execution_count": 9,
   "metadata": {},
   "outputs": [
    {
     "name": "stdout",
     "output_type": "stream",
     "text": [
      "[[ 2  4  6  8]\n",
      " [ 6  8 10 12]\n",
      " [10 12 14 16]]\n"
     ]
    }
   ],
   "source": [
    "import numpy as np\n",
    "\n",
    "A = np.array([[1, 2, 3, 4],\n",
    "              [5, 6, 7, 8],\n",
    "              [9, 10, 11, 12]])\n",
    "\n",
    "B = np.array([1, 2, 3, 4])\n",
    "\n",
    "C = A + B\n",
    "\n",
    "print(C)\n"
   ]
  },
  {
   "attachments": {},
   "cell_type": "markdown",
   "metadata": {},
   "source": [
    "In the above code snippet, we first create a 2-dimensional NumPy array A with 3 rows and 4 columns using the numpy.array() function. Each row of the array contains 4 integers. Next, we create a 1-dimensional NumPy array B with 4 integers using the same numpy.array() function.\n",
    "\n",
    "Then, we perform an arithmetic operation between the 2 arrays using the + operator. Since the + operator in NumPy performs element-wise addition between arrays, the operation is performed between B and each row of A. Specifically, the first element of B is added to the first element of each row of A, the second element of B is added to the second element of each row of A, and so on.\n",
    "\n",
    "The resulting array C is also a 2-dimensional NumPy array with 3 rows and 4 columns, where each element is the sum of the corresponding elements of A and B.\n",
    "\n",
    "Finally, we print the resulting array C using the print() function."
   ]
  },
  {
   "cell_type": "markdown",
   "metadata": {
    "id": "h0cD5yNcJQkm"
   },
   "source": [
    "# How do you create a 2D array in NumPy using Python's built-in list of lists?"
   ]
  },
  {
   "attachments": {},
   "cell_type": "markdown",
   "metadata": {},
   "source": [
    "#### To create a 2D NumPy array using Python's built-in list of lists, you can pass the list to the numpy.array() constructor as shown below:"
   ]
  },
  {
   "cell_type": "code",
   "execution_count": 10,
   "metadata": {},
   "outputs": [
    {
     "name": "stdout",
     "output_type": "stream",
     "text": [
      "[[1 2 3]\n",
      " [4 5 6]\n",
      " [7 8 9]]\n"
     ]
    }
   ],
   "source": [
    "# In this example, my_list is a list of lists containing the values for the 2D array, \n",
    "# and my_array is a NumPy array created from my_list. The resulting NumPy array has shape (3, 3) \n",
    "# and contains the same values as the original list of lists.\n",
    "\n",
    "import numpy as np\n",
    "\n",
    "my_list = [[1, 2, 3], [4, 5, 6], [7, 8, 9]]\n",
    "my_array = np.array(my_list)\n",
    "\n",
    "print(my_array)"
   ]
  },
  {
   "cell_type": "markdown",
   "metadata": {
    "id": "bbLfBXwCJVwX"
   },
   "source": [
    "# How can you slice a NumPy array to extract a subarray?"
   ]
  },
  {
   "cell_type": "markdown",
   "metadata": {},
   "source": [
    "### To slice a NumPy array and extract a subarray, you can use the indexing operator [] with the slice notation :. Here is an example:"
   ]
  },
  {
   "cell_type": "code",
   "execution_count": 11,
   "metadata": {},
   "outputs": [
    {
     "name": "stdout",
     "output_type": "stream",
     "text": [
      "[[1 2]\n",
      " [4 5]\n",
      " [7 8]]\n"
     ]
    }
   ],
   "source": [
    "import numpy as np\n",
    "\n",
    "# create a NumPy array with 5 rows and 3 columns\n",
    "a = np.array([[1, 2, 3],\n",
    "              [4, 5, 6],\n",
    "              [7, 8, 9],\n",
    "              [10, 11, 12],\n",
    "              [13, 14, 15]])\n",
    "\n",
    "# extract a subarray with the first 3 rows and 2 columns\n",
    "subarray = a[:3, :2]\n",
    "\n",
    "print(subarray)\n"
   ]
  },
  {
   "cell_type": "markdown",
   "metadata": {
    "id": "c1jTMq5AJbS2"
   },
   "source": [
    "# What are some of the available functions for performing element-wise operations on NumPy arrays?"
   ]
  },
  {
   "cell_type": "markdown",
   "metadata": {},
   "source": [
    "### 1. np.add(): This function is used to add two arrays element-wise.\n"
   ]
  },
  {
   "cell_type": "code",
   "execution_count": 14,
   "metadata": {},
   "outputs": [
    {
     "name": "stdout",
     "output_type": "stream",
     "text": [
      "[5 7 9]\n"
     ]
    }
   ],
   "source": [
    "import numpy as np\n",
    "\n",
    "arr1 = np.array([1, 2, 3])\n",
    "arr2 = np.array([4, 5, 6])\n",
    "\n",
    "result = np.add(arr1, arr2)\n",
    "\n",
    "print(result) "
   ]
  },
  {
   "cell_type": "markdown",
   "metadata": {},
   "source": [
    "### 2. np.subtract(): This function is used to subtract two arrays element-wise.\n"
   ]
  },
  {
   "cell_type": "code",
   "execution_count": 15,
   "metadata": {},
   "outputs": [
    {
     "name": "stdout",
     "output_type": "stream",
     "text": [
      "[ 6 15 24]\n"
     ]
    }
   ],
   "source": [
    "import numpy as np\n",
    "\n",
    "arr1 = np.array([10, 20, 30])\n",
    "arr2 = np.array([4, 5, 6])\n",
    "\n",
    "result = np.subtract(arr1, arr2)\n",
    "\n",
    "print(result) "
   ]
  },
  {
   "cell_type": "markdown",
   "metadata": {},
   "source": [
    "### 3. np.multiply(): This function is used to multiply two arrays element-wise."
   ]
  },
  {
   "cell_type": "code",
   "execution_count": 16,
   "metadata": {},
   "outputs": [
    {
     "name": "stdout",
     "output_type": "stream",
     "text": [
      "[ 4 10 18]\n"
     ]
    }
   ],
   "source": [
    "import numpy as np\n",
    "\n",
    "arr1 = np.array([1, 2, 3])\n",
    "arr2 = np.array([4, 5, 6])\n",
    "\n",
    "result = np.multiply(arr1, arr2)\n",
    "\n",
    "print(result) "
   ]
  },
  {
   "cell_type": "markdown",
   "metadata": {},
   "source": [
    "### 4.np.divide(): This function is used to divide two arrays element-wise."
   ]
  },
  {
   "cell_type": "code",
   "execution_count": 17,
   "metadata": {},
   "outputs": [
    {
     "name": "stdout",
     "output_type": "stream",
     "text": [
      "[ 5.  4. 10.]\n"
     ]
    }
   ],
   "source": [
    "import numpy as np\n",
    "\n",
    "arr1 = np.array([10, 20, 30])\n",
    "arr2 = np.array([2, 5, 3])\n",
    "\n",
    "result = np.divide(arr1, arr2)\n",
    "\n",
    "print(result) "
   ]
  },
  {
   "cell_type": "markdown",
   "metadata": {},
   "source": [
    "### 5. np.power(): This function is used to raise the elements of an array to a given power element-wise."
   ]
  },
  {
   "cell_type": "code",
   "execution_count": 18,
   "metadata": {},
   "outputs": [
    {
     "name": "stdout",
     "output_type": "stream",
     "text": [
      "[ 1  8 27]\n"
     ]
    }
   ],
   "source": [
    "import numpy as np\n",
    "\n",
    "arr = np.array([1, 2, 3])\n",
    "\n",
    "result = np.power(arr, 3)\n",
    "\n",
    "print(result) "
   ]
  },
  {
   "cell_type": "markdown",
   "metadata": {},
   "source": [
    "### 6. np.sqrt(): This function is used to compute the square root of each element of an array."
   ]
  },
  {
   "cell_type": "code",
   "execution_count": 19,
   "metadata": {},
   "outputs": [
    {
     "name": "stdout",
     "output_type": "stream",
     "text": [
      "[2. 3. 4.]\n"
     ]
    }
   ],
   "source": [
    "import numpy as np\n",
    "\n",
    "arr = np.array([4, 9, 16])\n",
    "\n",
    "result = np.sqrt(arr)\n",
    "\n",
    "print(result) "
   ]
  },
  {
   "cell_type": "markdown",
   "metadata": {},
   "source": [
    "### 7. np.exp(): This function is used to compute the exponential of each element of an array."
   ]
  },
  {
   "cell_type": "code",
   "execution_count": 20,
   "metadata": {},
   "outputs": [
    {
     "name": "stdout",
     "output_type": "stream",
     "text": [
      "[ 2.71828183  7.3890561  20.08553692]\n"
     ]
    }
   ],
   "source": [
    "import numpy as np\n",
    "\n",
    "arr = np.array([1, 2, 3])\n",
    "\n",
    "result = np.exp(arr)\n",
    "\n",
    "print(result) "
   ]
  },
  {
   "cell_type": "markdown",
   "metadata": {},
   "source": [
    "### 8. np.log(): This function is used to compute the natural logarithm of each element of an array."
   ]
  },
  {
   "cell_type": "code",
   "execution_count": 21,
   "metadata": {},
   "outputs": [
    {
     "name": "stdout",
     "output_type": "stream",
     "text": [
      "[0.         0.69314718 1.09861229]\n"
     ]
    }
   ],
   "source": [
    "import numpy as np\n",
    "\n",
    "arr = np.array([1, 2, 3])\n",
    "\n",
    "result = np.log(arr)\n",
    "\n",
    "print(result) "
   ]
  },
  {
   "cell_type": "markdown",
   "metadata": {
    "id": "dPgmCPERJe_2"
   },
   "source": [
    "# How do you reshape a NumPy array to have a different shape?"
   ]
  },
  {
   "cell_type": "markdown",
   "metadata": {},
   "source": [
    "### In NumPy, we can use the reshape() function to change the shape of an array without changing its data. The reshape() function returns a new array with the same data but with a different shape.\n",
    "Example:"
   ]
  },
  {
   "cell_type": "code",
   "execution_count": 12,
   "metadata": {},
   "outputs": [
    {
     "name": "stdout",
     "output_type": "stream",
     "text": [
      "[[1 2 3]\n",
      " [4 5 6]]\n",
      "[[[1 2 3]]\n",
      "\n",
      " [[4 5 6]]]\n"
     ]
    }
   ],
   "source": [
    "import numpy as np\n",
    "\n",
    "# Create a 1-dimensional array with 6 elements\n",
    "arr1d = np.array([1, 2, 3, 4, 5, 6])\n",
    "\n",
    "# Reshape the array to a 2-dimensional array with 2 rows and 3 columns\n",
    "arr2d = arr1d.reshape((2, 3))\n",
    "\n",
    "print(arr2d)\n",
    "\n",
    "# Reshape the array to a 3-dimensional array with 2 rows, 1 column, and 3 depth\n",
    "arr3d = arr1d.reshape((2, 1, 3))\n",
    "\n",
    "print(arr3d)"
   ]
  },
  {
   "cell_type": "markdown",
   "metadata": {
    "id": "oon90JvgJhvv"
   },
   "source": [
    "# How do you perform matrix multiplication on two NumPy arrays using the dot() function?"
   ]
  },
  {
   "cell_type": "markdown",
   "metadata": {},
   "source": [
    "### In NumPy, we can use the dot() function to perform matrix multiplication on two arrays. The dot() function computes the dot product of two arrays, which is equivalent to matrix multiplication for 2D arrays.\n",
    "\n",
    "### The dot() function takes two arguments: the two arrays that you want to multiply. The function returns a new array that represents the result of the matrix multiplication.\n",
    "Example:"
   ]
  },
  {
   "cell_type": "code",
   "execution_count": 13,
   "metadata": {},
   "outputs": [
    {
     "name": "stdout",
     "output_type": "stream",
     "text": [
      "[[19 22]\n",
      " [43 50]]\n"
     ]
    }
   ],
   "source": [
    "import numpy as np\n",
    "\n",
    "# In this example, we create two 2D arrays A and B, and then we compute their dot product using the dot() function.\n",
    "# The result is a new 2D array C that represents the matrix multiplication of A and B.\n",
    "\n",
    "# Create two 2D arrays\n",
    "A = np.array([[1, 2], [3, 4]])\n",
    "B = np.array([[5, 6], [7, 8]])\n",
    "\n",
    "# Compute the dot product of A and B\n",
    "C = np.dot(A, B)\n",
    "\n",
    "print(C)"
   ]
  },
  {
   "cell_type": "markdown",
   "metadata": {
    "id": "JtbVS5P0Jodg"
   },
   "source": [
    "# How can you use the where() function to apply a condition to a NumPy array?"
   ]
  },
  {
   "cell_type": "markdown",
   "metadata": {},
   "source": [
    "### NumPy's where() function can be used to apply a condition to a NumPy array and create a new array by selecting values from two input arrays based on the given condition.\n",
    "\n",
    "### The general syntax for the where() function is:\n",
    "\n",
    "### numpy.where(condition, x, y)\n",
    "\n",
    "### where condition is the boolean condition to be checked, x is the array containing the values to be selected where the condition is True, and y is the array containing the values to be selected where the condition is False.\n",
    "\n",
    "Example:"
   ]
  },
  {
   "cell_type": "code",
   "execution_count": 24,
   "metadata": {},
   "outputs": [
    {
     "name": "stdout",
     "output_type": "stream",
     "text": [
      "[0 2 0 4 0]\n"
     ]
    }
   ],
   "source": [
    "import numpy as np\n",
    "\n",
    "# create a NumPy array\n",
    "arr = np.array([1, 2, 3, 4, 5])\n",
    "\n",
    "# create a new array by selecting only even values from arr\n",
    "new_arr = np.where(arr % 2 == 0, arr, 0)\n",
    "\n",
    "print(new_arr)  "
   ]
  },
  {
   "cell_type": "markdown",
   "metadata": {
    "id": "UkJ-LQlhJrMA"
   },
   "source": [
    "# What is the difference between the flatten() and ravel() functions in NumPy?"
   ]
  },
  {
   "cell_type": "markdown",
   "metadata": {},
   "source": [
    "### Both flatten() and ravel() are NumPy functions used to convert multi-dimensional arrays into one-dimensional arrays, but there is a subtle difference between them.\n",
    "\n",
    "### flatten() creates a copy of the original array, while ravel() returns a view of the original array whenever possible. A view is a reference to the same memory location as the original array, whereas a copy creates a new memory location with the same data.\n",
    "\n",
    "### Here are some examples to illustrate the difference:"
   ]
  },
  {
   "cell_type": "code",
   "execution_count": 14,
   "metadata": {},
   "outputs": [
    {
     "name": "stdout",
     "output_type": "stream",
     "text": [
      "[1 2 3 4 5 6]\n",
      "[[1 2 3]\n",
      " [4 5 6]]\n",
      "[1 2 3 4 5 6]\n",
      "[[7 2 3]\n",
      " [4 5 6]]\n"
     ]
    }
   ],
   "source": [
    "import numpy as np\n",
    "\n",
    "# Create a 2D array\n",
    "arr_2d = np.array([[1, 2, 3], [4, 5, 6]])\n",
    "\n",
    "# Use flatten()\n",
    "arr_flatten = arr_2d.flatten()\n",
    "print(arr_flatten)\n",
    "\n",
    "# Modify the flattened array\n",
    "arr_flatten[0] = 7\n",
    "\n",
    "# Verify that the original array is unchanged\n",
    "print(arr_2d)\n",
    "\n",
    "# Use ravel()\n",
    "arr_ravel = arr_2d.ravel()\n",
    "print(arr_ravel)\n",
    "\n",
    "# Modify the raveled array\n",
    "arr_ravel[0] = 7\n",
    "\n",
    "# Verify that the original array is also modified\n",
    "print(arr_2d)"
   ]
  },
  {
   "cell_type": "markdown",
   "metadata": {},
   "source": [
    "### In the example above, flatten() creates a new array arr_flatten with the same data as the original array arr_2d. When we modify arr_flatten, the original array arr_2d is unchanged.\n",
    "\n",
    "### On the other hand, ravel() returns a view of the original array arr_2d as a one-dimensional array arr_ravel. When we modify arr_ravel, the original array arr_2d is also modified, since they reference the same memory location.\n",
    "\n",
    "### In summary, use flatten() if you want to ensure that the original array remains unchanged, and use ravel() if you want to modify the original array."
   ]
  },
  {
   "cell_type": "markdown",
   "metadata": {
    "id": "5cf9aukfJsaB"
   },
   "source": [
    "# How do you use NumPy's advanced indexing capabilities to select specific elements from an array?"
   ]
  },
  {
   "cell_type": "markdown",
   "metadata": {},
   "source": [
    "### NumPy's advanced indexing allows you to select specific elements from an array based on a set of indices or a Boolean mask. Here are some examples of how to use advanced indexing to select elements from an array:"
   ]
  },
  {
   "cell_type": "markdown",
   "metadata": {},
   "source": [
    "### 1. Indexing with integers: You can use an array of integers to select specific elements from another array. For example:"
   ]
  },
  {
   "cell_type": "code",
   "execution_count": 26,
   "metadata": {},
   "outputs": [
    {
     "name": "stdout",
     "output_type": "stream",
     "text": [
      "[1 3 5]\n"
     ]
    }
   ],
   "source": [
    "import numpy as np\n",
    "\n",
    "arr = np.array([1, 2, 3, 4, 5])\n",
    "indices = np.array([0, 2, 4])\n",
    "\n",
    "selected_elements = arr[indices]\n",
    "\n",
    "print(selected_elements) "
   ]
  },
  {
   "cell_type": "markdown",
   "metadata": {},
   "source": [
    "### 2. Indexing with Booleans: You can also use a Boolean mask to select elements from an array. The mask should have the same shape as the array and its values should be True or False. Only the elements with True values will be selected. For example:"
   ]
  },
  {
   "cell_type": "code",
   "execution_count": 15,
   "metadata": {},
   "outputs": [
    {
     "name": "stdout",
     "output_type": "stream",
     "text": [
      "[1 3 5]\n"
     ]
    }
   ],
   "source": [
    "import numpy as np\n",
    "\n",
    "arr = np.array([1, 2, 3, 4, 5])\n",
    "mask = np.array([True, False, True, False, True])\n",
    "\n",
    "selected_elements = arr[mask]\n",
    "\n",
    "print(selected_elements) "
   ]
  },
  {
   "cell_type": "markdown",
   "metadata": {},
   "source": [
    "### 3.Indexing with arrays of integers and Booleans: You can combine arrays of integers and Booleans to select elements from an array. In this case, the integers are used as indices to select elements from the array, and the Booleans are used as a mask to select elements from the resulting array. For example:"
   ]
  },
  {
   "cell_type": "code",
   "execution_count": 28,
   "metadata": {},
   "outputs": [
    {
     "name": "stdout",
     "output_type": "stream",
     "text": [
      "[1 3 5]\n"
     ]
    }
   ],
   "source": [
    "import numpy as np\n",
    "\n",
    "# create an array\n",
    "a = np.array([1, 2, 3, 4, 5])\n",
    "\n",
    "# create an array of integers\n",
    "indices = np.array([0, 2, 4])\n",
    "\n",
    "# use the integers as indices to select elements\n",
    "b = a[indices]  # returns [1, 3, 5]\n",
    "\n",
    "# create an array of Booleans\n",
    "mask = np.array([True, False, True, False, True])\n",
    "\n",
    "# use the Boolean mask to select elements\n",
    "c = a[mask]  \n",
    "print(c)"
   ]
  },
  {
   "cell_type": "markdown",
   "metadata": {
    "id": "b2NpOnu2JxMp"
   },
   "source": [
    "# How can you use NumPy's broadcasting rules to perform operations on arrays with different shapes?"
   ]
  },
  {
   "cell_type": "markdown",
   "metadata": {},
   "source": [
    "#### NumPy's broadcasting rules allow for arithmetic operations to be performed on arrays with different shapes. The idea behind broadcasting is to stretch (or duplicate) arrays with smaller shape to match the shape of the larger arrays in a way that allows element-wise operations to be performed.\n",
    "\n",
    "#### The broadcasting rules work as follows:\n",
    "\n",
    "#### 1. If two arrays have different numbers of dimensions, the smaller array is padded with ones on its left side until it has the same number of dimensions as the larger array.\n",
    "\n",
    "#### 2. If the shape of two arrays does not match along any dimension, the array with shape equal to 1 along that dimension is stretched to match the shape of the other array.\n",
    "\n",
    "#### 3. If neither array has shape equal to 1 along a dimension, a \"broadcast error\" is raised.\n",
    "\n",
    "#### For example, consider the following two arrays:\n"
   ]
  },
  {
   "cell_type": "code",
   "execution_count": 29,
   "metadata": {},
   "outputs": [
    {
     "name": "stdout",
     "output_type": "stream",
     "text": [
      "[[5 6 7]\n",
      " [6 7 8]\n",
      " [7 8 9]]\n"
     ]
    }
   ],
   "source": [
    "a = np.array([1, 2, 3])\n",
    "b = np.array([[4], [5], [6]])\n",
    "\n",
    "# The shapes of these arrays are (3,) and (3, 1), respectively. \n",
    "# Since b has an additional dimension with length 1, it is broadcasted to match the shape of a, resulting in the following broadcasted arrays:\n",
    "\n",
    "a = np.array([[1, 2, 3], [1, 2, 3], [1, 2, 3]])\n",
    "b = np.array([[4, 4, 4], [5, 5, 5], [6, 6, 6]])\n",
    "\n",
    "# Now, we can perform arithmetic operations on these broadcasted arrays as if they had the same shape. For example:\n",
    "\n",
    "c = a + b\n",
    "\n",
    "print(c)"
   ]
  },
  {
   "cell_type": "markdown",
   "metadata": {
    "id": "vS-gg1ZrJ8s6"
   },
   "source": [
    "# How do you perform element-wise division of two NumPy arrays while ignoring divide-by-zero errors?"
   ]
  },
  {
   "cell_type": "markdown",
   "metadata": {},
   "source": [
    "#### To perform element-wise division of two NumPy arrays while ignoring divide-by-zero errors, you can use the numpy.divide() function along with the numpy.seterr() function to suppress the divide-by-zero warning.\n",
    "\n",
    "#### Here's an example:"
   ]
  },
  {
   "cell_type": "code",
   "execution_count": 16,
   "metadata": {},
   "outputs": [
    {
     "name": "stdout",
     "output_type": "stream",
     "text": [
      "[inf  1. inf  1.]\n"
     ]
    }
   ],
   "source": [
    "import numpy as np\n",
    "\n",
    "# Create two arrays\n",
    "a = np.array([1, 2, 3, 4])\n",
    "b = np.array([0, 2, 0, 4])\n",
    "\n",
    "# Suppress divide-by-zero warning\n",
    "np.seterr(divide='ignore', invalid='ignore')\n",
    "\n",
    "# Perform element-wise division while ignoring divide-by-zero errors\n",
    "c = np.divide(a, b)\n",
    "\n",
    "print(c)"
   ]
  },
  {
   "attachments": {},
   "cell_type": "markdown",
   "metadata": {},
   "source": [
    "In this example, the numpy.seterr() function is used to suppress the divide-by-zero warning.\n",
    "The divide argument specifies how to handle divide-by-zero errors, and the ignore value tells NumPy to ignore these errors. \n",
    "The invalid argument specifies how to handle invalid floating-point results (such as NaN or infinity), and the ignore value tells NumPy to ignore these as well.\n",
    "\n",
    "The output above contains inf (infinity) values, which indicate that division by zero occurred. \n",
    "In this example, the first and third elements of the resulting array c are infinity because division by zero occurred in those positions. \n",
    "The second and fourth elements are 1.0 because there was no division by zero in those positions."
   ]
  },
  {
   "cell_type": "markdown",
   "metadata": {
    "id": "XgeHrSj7KzTj"
   },
   "source": [
    "### Project: Array Statistics Calculator\n",
    "**Description:**\n",
    "\n",
    "In this project, you will create a program that allows a user to enter a list of numbers, and then calculates and displays various statistics about those numbers using NumPy.\n",
    "\n",
    "**Requirements:**\n",
    "\n",
    "- The program should prompt the user to enter a list of numbers separated by commas.\n",
    "- The program should use NumPy to convert the input into a 1D NumPy array.\n",
    "- The program should calculate and display the following statistics:\n",
    "- The mean of the numbers\n",
    "- The median of the numbers\n",
    "- The standard deviation of the numbers\n",
    "- The maximum and minimum values of the numbers\n",
    "- The program should use appropriate NumPy functions to calculate the statistics.\n",
    "- The program should display the statistics with appropriate labels.\n",
    "\n",
    "### Sample Output\n",
    "```\n",
    "Enter a list of numbers separated by commas: 2, 5, 7, 3, 1, 9\n",
    "Statistics for the input array:\n",
    "Mean: 4.5\n",
    "Median: 4.0\n",
    "Standard Deviation: 2.9154759474226504\n",
    "Maximum: 9\n",
    "Minimum: 1\n",
    "```"
   ]
  },
  {
   "cell_type": "code",
   "execution_count": 18,
   "metadata": {
    "id": "xQU4w-RxLgWZ"
   },
   "outputs": [
    {
     "name": "stdout",
     "output_type": "stream",
     "text": [
      "Mean: 4.75\n",
      "Median: 5.0\n",
      "Standard deviation: 1.0897247358851685\n",
      "Maximum value: 6.0\n",
      "Minimum value: 3.0\n"
     ]
    }
   ],
   "source": [
    "import numpy as np\n",
    "\n",
    "# Prompt user to enter list of numbers\n",
    "num_list = input(\"Enter a list of numbers separated by commas: \")\n",
    "\n",
    "# Convert input to NumPy array\n",
    "num_array = np.array(num_list.split(','), dtype=float)\n",
    "\n",
    "# Calculate statistics\n",
    "mean = np.mean(num_array)\n",
    "median = np.median(num_array)\n",
    "std_dev = np.std(num_array)\n",
    "max_val = np.max(num_array)\n",
    "min_val = np.min(num_array)\n",
    "\n",
    "# Display statistics\n",
    "print(\"Mean:\", mean)\n",
    "print(\"Median:\", median)\n",
    "print(\"Standard deviation:\", std_dev)\n",
    "print(\"Maximum value:\", max_val)\n",
    "print(\"Minimum value:\", min_val)\n"
   ]
  }
 ],
 "metadata": {
  "colab": {
   "provenance": []
  },
  "kernelspec": {
   "display_name": "Python 3 (ipykernel)",
   "language": "python",
   "name": "python3"
  },
  "language_info": {
   "codemirror_mode": {
    "name": "ipython",
    "version": 3
   },
   "file_extension": ".py",
   "mimetype": "text/x-python",
   "name": "python",
   "nbconvert_exporter": "python",
   "pygments_lexer": "ipython3",
   "version": "3.11.2"
  }
 },
 "nbformat": 4,
 "nbformat_minor": 1
}
