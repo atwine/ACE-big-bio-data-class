{
  "cells": [
    {
      "attachments": {},
      "cell_type": "markdown",
      "metadata": {
        "id": "aTz0cvx7Iex3"
      },
      "source": [
        "## Numpy Assignment\n",
        "Student Name: NUWASIIMA DORECK\n",
        "Reg no. 2022/HD07/1970U\n",
        "Stud no. 2200701970\n",
        "\n",
        "## Instructions:\n",
        "- Please complete the questions below.\n",
        "- Please comment your code indicating how you approached the problem"
      ]
    },
    {
      "attachments": {},
      "cell_type": "markdown",
      "metadata": {
        "id": "NwKEk4skG5c2"
      },
      "source": [
        "### What is NumPy, and what are some of its key features?\n",
        "\n",
        "NumPy is a Python library that provides support for working with multidimensional arrays and matrices. \n",
        "It is a fundamental package for scientific computing with Python, as it provides efficient numerical \n",
        "operations on arrays and matrices, including mathematical, logical, shape manipulation, sorting, selecting, and statistical operations.\n",
        "\n",
        "Features \n",
        "- Multidimensional arrays\n",
        "- Mathematical functions\n",
        "- Broadcasting\n",
        "- Efficient memory use\n",
        "- Integration with other libraries:\n"
      ]
    },
    {
      "attachments": {},
      "cell_type": "markdown",
      "metadata": {
        "id": "OMqoIR7oJD0i"
      },
      "source": [
        "### How do you create a NumPy array using Python's built-in range() function?\n",
        "We can do so by using the numpy.array() function and pass in the range object as an argument. For Example;"
      ]
    },
    {
      "cell_type": "code",
      "execution_count": null,
      "metadata": {},
      "outputs": [],
      "source": [
        "import numpy as np #import Numpy \n",
        "# Create a NumPy array from a range of integers\n",
        "w = np.array(range(7)) # use the used the np.array() function to create a NumPy array from the range object range(7)\n",
        "print(w)\n"
      ]
    },
    {
      "attachments": {},
      "cell_type": "markdown",
      "metadata": {
        "id": "DRVy8tPoJHQr"
      },
      "source": [
        "### What is the difference between a scalar value and a vector in NumPy?\n",
        "In NumPy, a scalar value is a single value, such as an integer or a floating-point number, that represents a single quantity.\n",
        "A vector, on the other hand, is a one-dimensional array that contains a sequence of values. \n",
        "Thus a scalar has zero dimensions, while a vector has one dimension. For Example;"
      ]
    },
    {
      "cell_type": "code",
      "execution_count": null,
      "metadata": {},
      "outputs": [],
      "source": [
        "import numpy as np\n",
        "# Create a scalar value\n",
        "y = np.array(5)\n",
        "print(y)\n",
        "# Create a vector\n",
        "d_vec = np.array([1, 2, 3, 4, 5])\n",
        "print(d_vec)\n"
      ]
    },
    {
      "attachments": {},
      "cell_type": "markdown",
      "metadata": {
        "id": "lHa-pHerJKd0"
      },
      "source": [
        "### How do you calculate the mean of a NumPy array using the mean() function?\n",
        "Here we call the mean() function on the NumPy array object. For Example;\n"
      ]
    },
    {
      "cell_type": "code",
      "execution_count": null,
      "metadata": {},
      "outputs": [],
      "source": [
        "import numpy as np\n",
        "# Create a NumPy array\n",
        "my_line = np.array([1, 2, 3, 4, 5])\n",
        "# Calculate the mean of the array\n",
        "mean = my_line.mean()\n",
        "print(my_line)\n"
      ]
    },
    {
      "attachments": {},
      "cell_type": "markdown",
      "metadata": {
        "id": "EqpLGTh8JON9"
      },
      "source": [
        "### What is broadcasting in NumPy, and how can it be useful?\n",
        "This is a mechanism in NumPy that allows arrays with different shapes to be used in arithmetic operations without explicitly reshaping them.\n",
        "When performing operations between arrays of different shapes, NumPy will automatically broadcast the arrays to a common shape by replicating the values along the necessary dimensions. For Example for the 2 x 2 matrix ;\n"
      ]
    },
    {
      "cell_type": "code",
      "execution_count": null,
      "metadata": {},
      "outputs": [],
      "source": [
        "import numpy as np\n",
        "# Create a 2x2 array\n",
        "my_arr = np.array([[1, 2], [3, 4]])\n",
        "# Add a scalar value to the array using broadcasting\n",
        "answer = my_arr + 1\n",
        "print(answer)\n"
      ]
    },
    {
      "attachments": {},
      "cell_type": "markdown",
      "metadata": {
        "id": "h0cD5yNcJQkm"
      },
      "source": [
        "### How do you create a 2D array in NumPy using Python's built-in list of lists?\n",
        "By first importing the NumPy library, and then passing the list of lists to the NumPy array() function. For Example;"
      ]
    },
    {
      "cell_type": "code",
      "execution_count": null,
      "metadata": {},
      "outputs": [],
      "source": [
        "import numpy as np\n",
        "arr = np.array([[1,2,3],[4,5,6]])\n",
        "print(arr)\n"
      ]
    },
    {
      "attachments": {},
      "cell_type": "markdown",
      "metadata": {},
      "source": [
        "### How can you slice a numpy Array to extract a subarray;\n",
        "You can slice a NumPy array to extract a subarray by specifying the indices of the elements you want to extract. The syntax for slicing a NumPy array is array[start:stop:step], where start is the index of the first element, stop is the index of the last element (exclusive), and step is the step size.\n"
      ]
    },
    {
      "cell_type": "code",
      "execution_count": null,
      "metadata": {},
      "outputs": [],
      "source": [
        "import numpy as np\n",
        "my_arr = np.array([[1, 2, 3], [4, 5, 6], [7, 8, 9]])\n",
        "# extract a sub array consisting of the first two rows and the first two columns\n",
        "array2 = my_arr[:2, :2]\n",
        "print(array2)\n"
      ]
    },
    {
      "attachments": {},
      "cell_type": "markdown",
      "metadata": {
        "id": "c1jTMq5AJbS2"
      },
      "source": [
        "### What are some of the available functions for performing element-wise operations on NumPy arrays?\n",
        "- np.add(): Adds two arrays element-wise.\n",
        "- np.multiply(): Multiplies two arrays element-wise.\n",
        "- np.divide(): Divides two arrays element-wise.\n",
        "- numpy.subtract():  Subtracts corresponding elements in two arrays.\n",
        "- numpy.exp():  Computes the exponential of each element in an array.\n",
        "- np.sin(): Calculates the sine of an array element-wise.\n",
        "- np.cos(): Calculates the cosine of an array element-wise.\n",
        "- np.tan(): Calculates the tangent of an array element-wise.\n",
        "- np.arcsin(): Calculates the inverse sine of an array element-wise.\n"
      ]
    },
    {
      "attachments": {},
      "cell_type": "markdown",
      "metadata": {
        "id": "dPgmCPERJe_2"
      },
      "source": [
        "### How do you reshape a NumPy array to have a different shape?\n",
        "You can reshape a NumPy array to have a different shape using the reshape() function. \n",
        "The reshape() function returns a new array that has the same data as the original array, but with a different shape. \n",
        "The new shape must be compatible with the size of the original array.\n"
      ]
    },
    {
      "cell_type": "code",
      "execution_count": null,
      "metadata": {},
      "outputs": [],
      "source": [
        "import numpy as np\n",
        "# create a 1D array with 12 elements\n",
        "arr1dd = np.array([0, 1, 2, 3, 4, 5, 6, 7, 8, 9, 10, 11])\n",
        "# reshape the array into a 2D array with 4 rows and 3 columns\n",
        "arr2d = arr1dd.reshape((4, 3))\n",
        "print(arr2d)"
      ]
    },
    {
      "attachments": {},
      "cell_type": "markdown",
      "metadata": {
        "id": "oon90JvgJhvv"
      },
      "source": [
        "### How do you perform matrix multiplication on two NumPy arrays using the dot() function?\n",
        "The dot() function computes the dot product of two arrays, which is the matrix multiplication of the two arrays if they are 2D arrays.\n",
        "For Example;"
      ]
    },
    {
      "cell_type": "code",
      "execution_count": null,
      "metadata": {},
      "outputs": [],
      "source": [
        "import numpy as np\n",
        "# create two 2D arrays\n",
        "A = np.array([[1, 2], [3, 4]])\n",
        "B = np.array([[5, 6], [7, 8]])\n",
        "# perform matrix multiplication using dot() function\n",
        "C = np.dot(A, B)\n",
        "print(C)"
      ]
    },
    {
      "attachments": {},
      "cell_type": "markdown",
      "metadata": {
        "id": "JtbVS5P0Jodg"
      },
      "source": [
        "### How can you use the where() function to apply a condition to a NumPy array?\n",
        "You can use the where() function in NumPy to apply a condition to an array and return a new array with elements that satisfy the condition.\n",
        "where() function returns a new array with the same shape as the input array, where elements that satisfy the condition are replaced by the corresponding elements from the input array, and elements that do not satisfy the condition are replaced by the value provided as the third argument"
      ]
    },
    {
      "cell_type": "code",
      "execution_count": null,
      "metadata": {},
      "outputs": [],
      "source": [
        "import numpy as np\n",
        "# create a 1D array with 5 elements\n",
        "arry = np.array([1, 2, 3, 4, 5])\n",
        "# create a new array with elements from arr that are greater than 3\n",
        "new_arr = np.where(arry > 3, arry, 0)\n",
        "print(new_arr)\n"
      ]
    },
    {
      "attachments": {},
      "cell_type": "markdown",
      "metadata": {
        "id": "UkJ-LQlhJrMA"
      },
      "source": [
        "### What is the difference between the flatten() and ravel() functions in NumPy?\n",
        "In NumPy, both the flatten() and ravel() functions are used to convert a multidimensional array into a one-dimensional array. However, there is a subtle difference between the two functions;\n",
        "The flatten() function always returns a copy of the array, whereas the ravel() function returns a view of the original array whenever possible, and only creates a copy if necessary.\n",
        "The flatten() function returns a new copy of the original array, so modifying the original array has no effect on the flattened array. On the other hand, the ravel() function returns a view of the original array whenever possible, so modifying the original array also affects the flattened array.\n",
        "\n"
      ]
    },
    {
      "cell_type": "code",
      "execution_count": null,
      "metadata": {},
      "outputs": [],
      "source": [
        "import numpy as np\n",
        "# create a 2D array\n",
        "arr = np.array([[1, 2], [3, 4]])\n",
        "# use flatten() function to create a new flattened array\n",
        "arr_flattened = arr.flatten()\n",
        "# use ravel() function to create a new flattened array\n",
        "arr_raveled = arr.ravel()\n",
        "# modify original array\n",
        "arr[0, 0] = 5\n",
        "print(arr_flattened)\n",
        "print(arr_raveled)"
      ]
    },
    {
      "attachments": {},
      "cell_type": "markdown",
      "metadata": {
        "id": "5cf9aukfJsaB"
      },
      "source": [
        "### How do you use NumPy's advanced indexing capabilities to select specific elements from an array?\n",
        "NumPy's advanced indexing capabilities allow you to select specific elements from an array based on conditions or specific indices. \n",
        "For Example;"
      ]
    },
    {
      "cell_type": "code",
      "execution_count": null,
      "metadata": {},
      "outputs": [],
      "source": [
        "import numpy as np\n",
        "# create a 2D array\n",
        "arr = np.array([[1, 2], [3, 4], [5, 6]])\n",
        "# create an array of row indices\n",
        "row_indices = np.array([0, 2])\n",
        "# create an array of column indices\n",
        "col_indices = np.array([1, 0])\n",
        "# use advanced indexing to select specific elements\n",
        "selected_elements = arr[row_indices, col_indices]\n",
        "print(selected_elements)"
      ]
    },
    {
      "attachments": {},
      "cell_type": "markdown",
      "metadata": {
        "id": "b2NpOnu2JxMp"
      },
      "source": [
        "### How can you use NumPy's broadcasting rules to perform operations on arrays with different shapes?\n",
        "NumPy's broadcasting rules allow you to perform operations on arrays with different shapes. Broadcasting is a powerful tool that allows NumPy to work with arrays of different shapes and sizes. It enables you to perform operations on arrays without explicitly creating copies of the data.\n",
        "\n",
        "The basic idea behind broadcasting is that if two arrays have different shapes, but their dimensions match in some way, you can use them together in an operation. When performing an operation on two arrays, NumPy compares their shapes element-wise. If the dimensions of the arrays are not the same, but they are compatible according to the broadcasting rules, NumPy will broadcast one or both of the arrays to match the dimensions of the other."
      ]
    },
    {
      "cell_type": "code",
      "execution_count": null,
      "metadata": {},
      "outputs": [],
      "source": [
        "import numpy as np\n",
        "\n",
        "# Create two arrays\n",
        "a = np.array([1, 2, 3])\n",
        "b = np.array([[4], [5], [6]])\n",
        "\n",
        "# Print the shape of the arrays\n",
        "print(\"Shape of a:\", a.shape)\n",
        "print(\"Shape of b:\", b.shape)\n",
        "\n",
        "# Perform an operation on the arrays\n",
        "c = a + b\n",
        "\n",
        "# Print the result\n",
        "print(\"Result of the operation:\", c)"
      ]
    },
    {
      "attachments": {},
      "cell_type": "markdown",
      "metadata": {
        "id": "vS-gg1ZrJ8s6"
      },
      "source": [
        "### How do you perform element-wise division of two NumPy arrays while ignoring divide-by-zero errors?\n",
        "To perform element-wise division of two NumPy arrays while ignoring divide-by-zero errors, you can use the numpy.divide() function along with the numpy.errstate()"
      ]
    },
    {
      "cell_type": "code",
      "execution_count": null,
      "metadata": {},
      "outputs": [],
      "source": [
        "import numpy as np\n",
        "a = np.array([1, 2, 3, 0, 5])\n",
        "b = np.array([0, 1, 2, 3, 0])\n",
        "# temporarily sets the behavior of NumPy's error handling system for the division operation to \"ignore\" any divide-by-zero\n",
        "with np.errstate(divide='ignore', invalid='ignore'):\n",
        "    c = np.divide(a, b)\n",
        "print(c)"
      ]
    },
    {
      "cell_type": "markdown",
      "metadata": {
        "id": "XgeHrSj7KzTj"
      },
      "source": [
        "### Project: Array Statistics Calculator\n",
        "**Description:**\n",
        "\n",
        "In this project, you will create a program that allows a user to enter a list of numbers, and then calculates and displays various statistics about those numbers using NumPy.\n",
        "\n",
        "**Requirements:**\n",
        "\n",
        "- The program should prompt the user to enter a list of numbers separated by commas.\n",
        "- The program should use NumPy to convert the input into a 1D NumPy array.\n",
        "- The program should calculate and display the following statistics:\n",
        "- The mean of the numbers\n",
        "- The median of the numbers\n",
        "- The standard deviation of the numbers\n",
        "- The maximum and minimum values of the numbers\n",
        "- The program should use appropriate NumPy functions to calculate the statistics.\n",
        "- The program should display the statistics with appropriate labels.\n",
        "\n",
        "### Sample Output\n",
        "```\n",
        "Enter a list of numbers separated by commas: 2, 5, 7, 3, 1, 9\n",
        "Statistics for the input array:\n",
        "Mean: 4.5\n",
        "Median: 4.0\n",
        "Standard Deviation: 2.9154759474226504\n",
        "Maximum: 9\n",
        "Minimum: 1\n",
        "```"
      ]
    },
    {
      "cell_type": "code",
      "execution_count": 1,
      "metadata": {},
      "outputs": [
        {
          "name": "stdout",
          "output_type": "stream",
          "text": [
            "Mean:  3.0\n",
            "Median:  3.0\n",
            "Standard Deviation:  1.4142135623730951\n",
            "Maximum value:  5\n",
            "Minimum value:  1\n"
          ]
        }
      ],
      "source": [
        "import numpy as np\n",
        "# Prompt the user to enter a list of numbers separated by commas\n",
        "input_str = input(\"Enter a list of numbers separated by commas: \")\n",
        "# Convert the input into a 1D NumPy array\n",
        "nums = np.fromstring(input_str, dtype=int, sep=',')\n",
        "# Calculate the mean of the numbers\n",
        "mean = np.mean(nums)\n",
        "# Calculate the median of the numbers\n",
        "median = np.median(nums)\n",
        "# Calculate the standard deviation of the numbers\n",
        "std = np.std(nums)\n",
        "# Calculate the maximum value of the numbers\n",
        "max_val = np.max(nums)\n",
        "# Calculate the minimum value of the numbers\n",
        "min_val = np.min(nums)\n",
        "# Display the statistics with appropriate labels\n",
        "print(\"Mean: \", mean)\n",
        "print(\"Median: \", median)\n",
        "print(\"Standard Deviation: \", std)\n",
        "print(\"Maximum value: \", max_val)\n",
        "print(\"Minimum value: \", min_val)"
      ]
    }
  ],
  "metadata": {
    "colab": {
      "provenance": []
    },
    "kernelspec": {
      "display_name": "Python 3",
      "name": "python3"
    },
    "language_info": {
      "codemirror_mode": {
        "name": "ipython",
        "version": 3
      },
      "file_extension": ".py",
      "mimetype": "text/x-python",
      "name": "python",
      "nbconvert_exporter": "python",
      "pygments_lexer": "ipython3",
      "version": "3.11.2"
    }
  },
  "nbformat": 4,
  "nbformat_minor": 0
}
