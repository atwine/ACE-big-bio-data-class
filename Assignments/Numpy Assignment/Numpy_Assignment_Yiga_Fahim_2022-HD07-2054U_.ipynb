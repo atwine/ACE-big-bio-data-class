{
 "cells": [
  {
   "attachments": {},
   "cell_type": "markdown",
   "metadata": {},
   "source": [
    "# MSB7211 Big Bio-data analysis assignment\n",
    "#### Student name: Yiga Fahim\n",
    "#### Reg No: 2022/HD07/2054U\n",
    "#### Date: 29-MAR-2023\n",
    "\n",
    "\n"
   ]
  },
  {
   "attachments": {},
   "cell_type": "markdown",
   "metadata": {},
   "source": [
    "\n",
    "\n",
    "\n",
    "### **Qn1**. What is NumPy, and what are some of its key features?\n",
    "\n",
    "### **Ans.** \n",
    "NumPy (Numerical Python) is a popular Python library that provides support for numerical operations on multi-dimensional arrays and matrices. It is used for scientific computing, data analysis, and machine learning applications.\n",
    "\n",
    "### Key features\n",
    "1. Multi-dimensional arrays: NumPy provides a powerful and efficient array object, called ndarray, which can be used to store and manipulate multi-dimensional data. Ndarrays can be used to represent vectors, matrices, and tensors of various dimensions.\n",
    "\n",
    "2. Broadcasting: NumPy allows for element-wise operations between arrays of different shapes and sizes, by automatically broadcasting the smaller array to match the shape of the larger array.\n",
    "\n",
    "3. Vectorized operations: NumPy provides a set of functions that can be applied to entire arrays or selected elements, without the need for explicit looping.\n",
    "\n",
    "4. Mathematical functions: NumPy includes a wide range of mathematical functions, including trigonometric, logarithmic, and exponential functions, as well as functions for linear algebra and Fourier analysis.\n",
    "\n",
    "5. Performance: NumPy is optimized for performance, with most of its functions implemented in C or Fortran, which allows for efficient processing of large amounts of data.\n",
    "\n",
    "6. Integration with other libraries: NumPy can be easily integrated with other Python libraries, such as Pandas, Matplotlib, and Scikit-learn, which makes it a powerful tool for data analysis and machine learning applications."
   ]
  },
  {
   "attachments": {},
   "cell_type": "markdown",
   "metadata": {},
   "source": [
    "### **Qn2**. How do you create a NumPy array using Python's built-in range() function?\n",
    "### **Ans**."
   ]
  },
  {
   "cell_type": "code",
   "execution_count": 3,
   "metadata": {},
   "outputs": [
    {
     "name": "stdout",
     "output_type": "stream",
     "text": [
      "[0 1 2 3 4 5 6 7 8 9]\n"
     ]
    }
   ],
   "source": [
    "#loading the package\n",
    "import numpy as np\n",
    "\n",
    "# create a range object\n",
    "my_range = range(10)\n",
    "\n",
    "# convert the range object to a NumPy array\n",
    "my_array = np.array(my_range)\n",
    "\n",
    "# print the NumPy array\n",
    "print(my_array)"
   ]
  },
  {
   "attachments": {},
   "cell_type": "markdown",
   "metadata": {},
   "source": [
    "### **Qn3**. What is the difference between a scalar value and a vector in NumPy?\n",
    "### **Ans**.\n",
    "A scalar value is a single numerical value, such as an integer or a floating-point number, that is represented as a 0-dimensional NumPy array. A scalar value can be created using the np.array() function and passing in a single numerical value while a vector is a 1-dimensional array that represents a list of numerical values. A vector can be created using the np.array() function and passing in a list or tuple of numerical values. The main difference between a scalar value and a vector in NumPy is that a scalar is a 0-dimensional array that represents a single numerical value, while a vector is a 1-dimensional array that represents a list of numerical values."
   ]
  },
  {
   "attachments": {},
   "cell_type": "markdown",
   "metadata": {},
   "source": [
    "#### Scalar value"
   ]
  },
  {
   "cell_type": "code",
   "execution_count": 32,
   "metadata": {},
   "outputs": [
    {
     "name": "stdout",
     "output_type": "stream",
     "text": [
      "5\n",
      "()\n"
     ]
    }
   ],
   "source": [
    "# create a scalar value\n",
    "my_scalar = np.array(5)\n",
    "\n",
    "# print the scalar value and its shape\n",
    "print(my_scalar)\n",
    "print(my_scalar.shape)"
   ]
  },
  {
   "attachments": {},
   "cell_type": "markdown",
   "metadata": {},
   "source": [
    "#### Vector"
   ]
  },
  {
   "cell_type": "code",
   "execution_count": 33,
   "metadata": {},
   "outputs": [
    {
     "name": "stdout",
     "output_type": "stream",
     "text": [
      "[1 2 3]\n",
      "(3,)\n"
     ]
    }
   ],
   "source": [
    "# create a vector\n",
    "my_vector = np.array([1, 2, 3])\n",
    "\n",
    "# print the vector and its shape\n",
    "print(my_vector)\n",
    "print(my_vector.shape)"
   ]
  },
  {
   "attachments": {},
   "cell_type": "markdown",
   "metadata": {},
   "source": [
    "### **Qn4**. How do you calculate the mean of a NumPy array using the mean() function?\n",
    "### **Ans**."
   ]
  },
  {
   "cell_type": "code",
   "execution_count": 34,
   "metadata": {},
   "outputs": [
    {
     "name": "stdout",
     "output_type": "stream",
     "text": [
      "3.0\n"
     ]
    }
   ],
   "source": [
    "# create a NumPy array\n",
    "my_array = np.array([1, 2, 3, 4, 5])\n",
    "\n",
    "# To calculate the mean of the array\n",
    "my_mean = np.mean(my_array)\n",
    "\n",
    "# print the mean\n",
    "print(my_mean)"
   ]
  },
  {
   "attachments": {},
   "cell_type": "markdown",
   "metadata": {},
   "source": [
    "### **Qn5**. What is broadcasting in NumPy, and how can it be useful?\n",
    "### **Ans**.\n",
    "Broadcasting is a powerful feature in NumPy that allows you to perform operations on arrays with different shapes and sizes. Broadcasting allows NumPy to perform element-wise operations on arrays of different shapes by extending or \"broadcasting\" one or more of the arrays to match the shape of the other array(s) involved in the operation. This means that you can perform arithmetic, logical, and other operations on arrays of different shapes and sizes, without having to manually reshape or duplicate arrays.\n",
    "\n",
    "Broadcasting follow these basic rules; If the arrays have different numbers of dimensions, the smaller array is broadcasted to the shape of the larger array by adding dimensions of size 1 at the beginning or end of the smaller array, If the arrays have the same number of dimensions, but their sizes do not match along a particular dimension, the array with size 1 is broadcasted along that dimension to match the size of the other array, If the first 2 two rules cant apply, a ValueError is raised.\n",
    "\n",
    "Broadcasting can be useful in, performing element-wise operations on arrays with different shapes and sizes, adding a scalar value to an array, acaling an array by a scalar value, applying a function to an array element-wise, where the function takes a scalar argument.\n"
   ]
  },
  {
   "attachments": {},
   "cell_type": "markdown",
   "metadata": {},
   "source": [
    "##### foreaxmple"
   ]
  },
  {
   "cell_type": "code",
   "execution_count": 35,
   "metadata": {},
   "outputs": [
    {
     "name": "stdout",
     "output_type": "stream",
     "text": [
      "[[11 22 33]\n",
      " [14 25 36]]\n"
     ]
    }
   ],
   "source": [
    "# create two arrays with different shapes\n",
    "x = np.array([[1, 2, 3], [4, 5, 6]])\n",
    "y = np.array([10, 20, 30])\n",
    "\n",
    "# add the arrays using broadcasting\n",
    "z = x + y\n",
    "\n",
    "# print the result\n",
    "print(z)"
   ]
  },
  {
   "attachments": {},
   "cell_type": "markdown",
   "metadata": {},
   "source": [
    "Here allows us to perform the element-wise addition of x and y, even though they have different shapes. Broadcasting makes it possible to write more concise and readable code, without having to manually reshape or duplicate arrays."
   ]
  },
  {
   "attachments": {},
   "cell_type": "markdown",
   "metadata": {},
   "source": [
    "### **Qn6**. How do you create a 2D array in NumPy using Python's built-in list of lists?\n",
    "### **Ans**. \n",
    "Using the **np.array() ** function"
   ]
  },
  {
   "cell_type": "code",
   "execution_count": 36,
   "metadata": {},
   "outputs": [
    {
     "name": "stdout",
     "output_type": "stream",
     "text": [
      "[[1 2 3]\n",
      " [4 5 6]\n",
      " [7 8 9]]\n"
     ]
    }
   ],
   "source": [
    "# create a list of lists\n",
    "my_list = [[1, 2, 3], [4, 5, 6], [7, 8, 9]]\n",
    "\n",
    "# create a 2D array from the list of lists\n",
    "my_array = np.array(my_list)\n",
    "\n",
    "# print the array\n",
    "print(my_array)"
   ]
  },
  {
   "attachments": {},
   "cell_type": "markdown",
   "metadata": {},
   "source": [
    "#### Or"
   ]
  },
  {
   "cell_type": "code",
   "execution_count": 39,
   "metadata": {},
   "outputs": [
    {
     "name": "stdout",
     "output_type": "stream",
     "text": [
      "[[1 2 3]\n",
      " [4 5 6]\n",
      " [7 8 9]]\n"
     ]
    }
   ],
   "source": [
    "my_array = np.array([[1, 2, 3], [4, 5, 6], [7, 8, 9]])\n",
    "print(my_array)"
   ]
  },
  {
   "attachments": {},
   "cell_type": "markdown",
   "metadata": {},
   "source": [
    "### **Qn7**. How can you slice a NumPy array to extract a subarray?\n",
    "### **Ans**. \n",
    "You can slice a NumPy array to extract a subarray using the indexing notation array[start:stop:step], where start is the index of the first element of the subarray, stop is the index of the last element plus one, and step is the stride between the elements. If any of these values are not specified, they default to the following:\n",
    "\n",
    "--'start': 0\n",
    "\n",
    "--'stop': size of the corresponding dimension\n",
    "\n",
    "--'step': 1"
   ]
  },
  {
   "attachments": {},
   "cell_type": "markdown",
   "metadata": {},
   "source": [
    "##### foreaxmple"
   ]
  },
  {
   "cell_type": "code",
   "execution_count": 41,
   "metadata": {},
   "outputs": [
    {
     "name": "stdout",
     "output_type": "stream",
     "text": [
      "[[2 3]\n",
      " [5 6]]\n"
     ]
    }
   ],
   "source": [
    "#create a 2D array\n",
    "my_array = np.array([[1, 2, 3], [4, 5, 6], [7, 8, 9]])\n",
    "\n",
    "# extract a subarray using slicing\n",
    "sub_array = my_array[0:2, 1:3]\n",
    "\n",
    "# print the subarray\n",
    "print(sub_array)"
   ]
  },
  {
   "attachments": {},
   "cell_type": "markdown",
   "metadata": {},
   "source": [
    "### **Qn8**. What are some of the available functions for performing element-wise operations on NumPy arrays?\n",
    "### **Ans**. \n",
    "\n",
    "--'np.add()': element-wise addition of two arrays.\n",
    "\n",
    "--'np.subtract()': element-wise subtraction of two arrays.\n",
    "\n",
    "--'np.multiply()': element-wise multiplication of two arrays.\n",
    "\n",
    "--'np.divide()': element-wise division of two arrays.\n",
    "\n",
    "--'np.power()': element-wise exponentiation of an array to a given power.\n",
    "\n",
    "--'np.sqrt()': element-wise square root of an array.\n",
    "\n",
    "--'np.exp()': element-wise exponential function of an array.\n",
    "\n",
    "--'np.log()': element-wise natural logarithm of an array.\n",
    "\n",
    "--'np.abs()': element-wise absolute value of an array.\n",
    "\n",
    "--'np.sin()': element-wise sine of an array."
   ]
  },
  {
   "attachments": {},
   "cell_type": "markdown",
   "metadata": {},
   "source": [
    "### **Qn9**. How do you reshape a NumPy array to have a different shape?\n",
    "### **Ans**. \n",
    "You can reshape a NumPy array to have a different shape using the 'reshape()' function. \n",
    "\n",
    "**Syntax-** new_array = old_array.reshape(new_shape)"
   ]
  },
  {
   "attachments": {},
   "cell_type": "markdown",
   "metadata": {},
   "source": [
    "##### foreaxmple"
   ]
  },
  {
   "cell_type": "code",
   "execution_count": 43,
   "metadata": {},
   "outputs": [
    {
     "name": "stdout",
     "output_type": "stream",
     "text": [
      "[[1 2 3]\n",
      " [4 5 6]]\n"
     ]
    }
   ],
   "source": [
    "my_array = np.array([[1, 2, 3], [4, 5, 6]])\n",
    "print(my_array)"
   ]
  },
  {
   "cell_type": "code",
   "execution_count": 44,
   "metadata": {},
   "outputs": [
    {
     "name": "stdout",
     "output_type": "stream",
     "text": [
      "[[1 2]\n",
      " [3 4]\n",
      " [5 6]]\n"
     ]
    }
   ],
   "source": [
    "new_array = my_array.reshape((3, 2))\n",
    "print(new_array)"
   ]
  },
  {
   "attachments": {},
   "cell_type": "markdown",
   "metadata": {},
   "source": [
    "### **Qn10**. How do you perform matrix multiplication on two NumPy arrays using the dot() function?\n",
    "### **Ans**. \n",
    "**Syntax**- result = np.dot(array1, array2)"
   ]
  },
  {
   "attachments": {},
   "cell_type": "markdown",
   "metadata": {},
   "source": [
    "##### for example"
   ]
  },
  {
   "cell_type": "code",
   "execution_count": 48,
   "metadata": {},
   "outputs": [
    {
     "name": "stdout",
     "output_type": "stream",
     "text": [
      "[[ 25  28]\n",
      " [ 57  64]\n",
      " [ 89 100]]\n"
     ]
    }
   ],
   "source": [
    "array1 = np.array([[1, 2], [3, 4], [5, 6]])\n",
    "array2 = np.array([[7, 8], [9, 10]])\n",
    "result = np.dot(array1, array2)\n",
    "print(result)"
   ]
  },
  {
   "attachments": {},
   "cell_type": "markdown",
   "metadata": {},
   "source": [
    "### **Qn11**. How can you use the where() function to apply a condition to a NumPy array?\n",
    "### **Ans**. \n",
    "**Syntax**- result = np.where(condition, x, y)"
   ]
  },
  {
   "attachments": {},
   "cell_type": "markdown",
   "metadata": {},
   "source": [
    "##### forexample"
   ]
  },
  {
   "cell_type": "code",
   "execution_count": 50,
   "metadata": {},
   "outputs": [
    {
     "name": "stdout",
     "output_type": "stream",
     "text": [
      "[-1  2 -1  4 -1]\n"
     ]
    }
   ],
   "source": [
    "my_array = np.array([1, 2, 3, 4, 5])\n",
    "result = np.where(my_array % 2 == 0, my_array, -1)\n",
    "print(result)"
   ]
  },
  {
   "attachments": {},
   "cell_type": "markdown",
   "metadata": {},
   "source": [
    "Here We create a new array that contains only the even numbers in 'my_array', and replace the odd numbers with -1\n",
    "The condition is 'my_array % 2 == 0', which returns a boolean array with 'True' where the corresponding element in 'my_array' is even, and 'False' where it is odd. 'x is my_array', which means that if condition is 'True', the corresponding element in the result will be the corresponding element in 'my_array'. 'y' is '-1', which means that if condition is 'False', the corresponding element in the result will be '-1'."
   ]
  },
  {
   "attachments": {},
   "cell_type": "markdown",
   "metadata": {},
   "source": [
    "### **Qn12**. What is the difference between the flatten() and ravel() functions in NumPy?\n",
    "### **Ans**. \n",
    "Both flatten() and ravel() functions in NumPy are used to convert a multidimensional array into a one-dimensional array exept the ravel() function returns a flattened array that shares the same memory as the original array. That is, if you modify the values of the flattened array, it will also modify the original array. On the other hand, the flatten() function always returns a new copy of the array, even if the original array was already one-dimensional.\n",
    "\n",
    "**syntax for ravel() function**- flattened_array = np.ravel(original_array)\n",
    "**syntax for flatten() function**- flattened_array = original_array.flatten()"
   ]
  },
  {
   "attachments": {},
   "cell_type": "markdown",
   "metadata": {},
   "source": [
    "##### for example"
   ]
  },
  {
   "cell_type": "code",
   "execution_count": 51,
   "metadata": {},
   "outputs": [
    {
     "name": "stdout",
     "output_type": "stream",
     "text": [
      "[[5 2]\n",
      " [3 4]]\n",
      "[5 2 3 4]\n",
      "[5 6 3 4]\n"
     ]
    }
   ],
   "source": [
    "# Create a 2D array\n",
    "original_array = np.array([[1, 2], [3, 4]])\n",
    "\n",
    "# Use ravel()\n",
    "flattened_array_ravel = np.ravel(original_array)\n",
    "flattened_array_ravel[0] = 5\n",
    "\n",
    "# Use flatten()\n",
    "flattened_array_flatten = original_array.flatten()\n",
    "flattened_array_flatten[1] = 6\n",
    "\n",
    "print(original_array)\n",
    "print(flattened_array_ravel)\n",
    "print(flattened_array_flatten)"
   ]
  },
  {
   "attachments": {},
   "cell_type": "markdown",
   "metadata": {},
   "source": [
    "### **Qn13**. How do you use NumPy's advanced indexing capabilities to select specific elements from an array?\n",
    "### **Ans**. "
   ]
  },
  {
   "attachments": {},
   "cell_type": "markdown",
   "metadata": {},
   "source": [
    "##### for example"
   ]
  },
  {
   "attachments": {},
   "cell_type": "markdown",
   "metadata": {},
   "source": [
    "1. Selecting elements with a list of indices:"
   ]
  },
  {
   "cell_type": "code",
   "execution_count": 53,
   "metadata": {},
   "outputs": [
    {
     "name": "stdout",
     "output_type": "stream",
     "text": [
      "[2 4]\n"
     ]
    }
   ],
   "source": [
    "# Create an array\n",
    "arr = np.array([1, 2, 3, 4, 5])\n",
    "\n",
    "# Select elements with indices 1 and 3\n",
    "selected = arr[[1, 3]]\n",
    "\n",
    "print(selected)"
   ]
  },
  {
   "attachments": {},
   "cell_type": "markdown",
   "metadata": {},
   "source": [
    "2. Selecting elements based on a Boolean mask:"
   ]
  },
  {
   "cell_type": "code",
   "execution_count": 54,
   "metadata": {},
   "outputs": [
    {
     "name": "stdout",
     "output_type": "stream",
     "text": [
      "[1 3 5]\n"
     ]
    }
   ],
   "source": [
    "# Create an array\n",
    "arr = np.array([1, 2, 3, 4, 5])\n",
    "\n",
    "# Create a Boolean mask\n",
    "mask = np.array([True, False, True, False, True])\n",
    "\n",
    "# Select elements based on the mask\n",
    "selected = arr[mask]\n",
    "\n",
    "print(selected)"
   ]
  },
  {
   "attachments": {},
   "cell_type": "markdown",
   "metadata": {},
   "source": [
    "3. Selecting elements from a 2D array using an index array for each dimension"
   ]
  },
  {
   "cell_type": "code",
   "execution_count": 55,
   "metadata": {},
   "outputs": [
    {
     "name": "stdout",
     "output_type": "stream",
     "text": [
      "[2 9]\n"
     ]
    }
   ],
   "source": [
    "# Create a 2D array\n",
    "arr = np.array([[1, 2, 3], [4, 5, 6], [7, 8, 9]])\n",
    "\n",
    "# Create index arrays for each dimension\n",
    "row_indices = np.array([0, 2])\n",
    "col_indices = np.array([1, 2])\n",
    "\n",
    "# Select elements based on the index arrays\n",
    "selected = arr[row_indices, col_indices]\n",
    "\n",
    "print(selected)"
   ]
  },
  {
   "attachments": {},
   "cell_type": "markdown",
   "metadata": {},
   "source": [
    "### **Qn14**. How can you use NumPy's broadcasting rules to perform operations on arrays with different shapes?\n",
    "### **Ans**. \n",
    "NumPy's broadcasting rules allow you to perform operations on arrays with different shapes. Broadcasting is a set of rules that describes how arrays with different shapes can be used in arithmetic operations. The rules allow NumPy to perform element-wise operations on arrays with different shapes by implicitly expanding the smaller array to match the shape of the larger array.\n",
    "\n",
    "**Examples of how to use broadcasting in NumPy:**"
   ]
  },
  {
   "attachments": {},
   "cell_type": "markdown",
   "metadata": {},
   "source": [
    "1. **Broadcasting a scalar value to an array**: The scalar value 2 will be broadcasted to match the shape of arr1, which has 3 elements."
   ]
  },
  {
   "cell_type": "code",
   "execution_count": 56,
   "metadata": {},
   "outputs": [
    {
     "name": "stdout",
     "output_type": "stream",
     "text": [
      "[2 4 6]\n"
     ]
    }
   ],
   "source": [
    "# Create a 1D array\n",
    "arr1 = np.array([1, 2, 3])\n",
    "\n",
    "# Multiply each element of arr1 by 2\n",
    "result = arr1 * 2\n",
    "\n",
    "print(result)"
   ]
  },
  {
   "attachments": {},
   "cell_type": "markdown",
   "metadata": {},
   "source": [
    "2. **Broadcasting a smaller array to a larger array**: arr2 will be broadcasted to match the shape of arr1. arr2 is treated as if it were reshaped to [[10, 20], [10, 20], [10, 20]]."
   ]
  },
  {
   "cell_type": "code",
   "execution_count": 4,
   "metadata": {},
   "outputs": [
    {
     "name": "stdout",
     "output_type": "stream",
     "text": [
      "[[11 22]\n",
      " [13 24]\n",
      " [15 26]]\n"
     ]
    }
   ],
   "source": [
    "# Create a 2D array\n",
    "arr1 = np.array([[1, 2], [3, 4], [5, 6]])\n",
    "arr2 = np.array([10, 20])\n",
    "\n",
    "# Add arr2 to each row of arr1\n",
    "result = arr1 + arr2\n",
    "\n",
    "print(result)"
   ]
  },
  {
   "attachments": {},
   "cell_type": "markdown",
   "metadata": {},
   "source": [
    "3. **Broadcasting two arrays with different shapes**: I will add arr2 to each column of arr1. I will use the np.newaxis to add a new axis to arr2, so that it could be broadcasted to match the shape of arr1"
   ]
  },
  {
   "cell_type": "code",
   "execution_count": 5,
   "metadata": {},
   "outputs": [
    {
     "name": "stdout",
     "output_type": "stream",
     "text": [
      "[[11 12 13]\n",
      " [24 25 26]\n",
      " [37 38 39]]\n"
     ]
    }
   ],
   "source": [
    "# Create a 2D array\n",
    "arr1 = np.array([[1, 2, 3], [4, 5, 6], [7, 8, 9]])\n",
    "arr2 = np.array([10, 20, 30])\n",
    "\n",
    "# Add arr2 to each column of arr1\n",
    "result = arr1 + arr2[:, np.newaxis]\n",
    "\n",
    "print(result)"
   ]
  },
  {
   "attachments": {},
   "cell_type": "markdown",
   "metadata": {},
   "source": [
    "### **Qn15**. How do you perform element-wise division of two NumPy arrays while ignoring divide-by-zero errors?\n",
    "### **Ans**\n",
    "To perform element-wise division of two NumPy arrays while ignoring divide-by-zero errors, you can use the numpy.errstate context manager to temporarily ignore divide-by-zero errors, and then use the division operator / or the numpy.divide function."
   ]
  },
  {
   "attachments": {},
   "cell_type": "markdown",
   "metadata": {},
   "source": [
    "##### for example"
   ]
  },
  {
   "cell_type": "code",
   "execution_count": 6,
   "metadata": {},
   "outputs": [
    {
     "name": "stdout",
     "output_type": "stream",
     "text": [
      "[inf 2.  1.5 0.  inf]\n"
     ]
    }
   ],
   "source": [
    "# Create two arrays\n",
    "a = np.array([1, 2, 3, 0, 5])\n",
    "b = np.array([0, 1, 2, 3, 0])\n",
    "\n",
    "# Use errstate to ignore divide-by-zero errors\n",
    "with np.errstate(divide='ignore', invalid='ignore'):\n",
    "    c = np.divide(a, b)\n",
    "\n",
    "print(c)"
   ]
  },
  {
   "attachments": {},
   "cell_type": "markdown",
   "metadata": {},
   "source": [
    "In this example, I have created two arrays a and b, and then used the numpy.divide function to divide a by b. However, since b contains some zero values, this would normally result in divide-by-zero errors.\n",
    "To avoid these errors, I have used the numpy.errstate context manager to temporarily ignore divide-by-zero errors. Inside the with block, I have used np.divide(a, b) to perform the element-wise division of a by b. The resulting array c contains the result of the division, with inf values in the positions where division by zero occurred."
   ]
  },
  {
   "attachments": {},
   "cell_type": "markdown",
   "metadata": {},
   "source": [
    "## Project: Array Statistics Calculator\n",
    "#### Description:\n",
    "\n",
    "In this project, you will create a program that allows a user to enter a list of numbers, and then calculates and displays various statistics about those numbers using NumPy.\n",
    "\n",
    "#### Requirements:\n",
    "\n",
    "The program should prompt the user to enter a list of numbers separated by commas.\n",
    "\n",
    "The program should use NumPy to convert the input into a 1D NumPy array.\n",
    "\n",
    "The program should calculate and display the following statistics:\n",
    "\n",
    "The mean of the numbers\n",
    "\n",
    "The median of the numbers\n",
    "\n",
    "The standard deviation of the numbers\n",
    "\n",
    "The maximum and minimum values of the numbers\n",
    "\n",
    "The program should use appropriate NumPy functions to calculate the statistics.\n",
    "\n",
    "The program should display the statistics with appropriate labels.\n",
    "\n",
    "#### Sample Output\n",
    "\n",
    "Enter a list of numbers separated by commas: 2, 5, 7, 3, 1, 9\n",
    "\n",
    "Statistics for the input array:\n",
    "\n",
    "Mean: 4.5\n",
    "\n",
    "Median: 4.0\n",
    "\n",
    "Standard Deviation: 2.9154759474226504\n",
    "\n",
    "Maximum: 9\n",
    "\n",
    "Minimum: 1"
   ]
  },
  {
   "attachments": {},
   "cell_type": "markdown",
   "metadata": {},
   "source": [
    "## Ans."
   ]
  },
  {
   "cell_type": "code",
   "execution_count": 7,
   "metadata": {},
   "outputs": [
    {
     "name": "stdout",
     "output_type": "stream",
     "text": [
      "Mean: 2.50\n",
      "Median: 2.50\n",
      "Standard deviation: 1.12\n",
      "Maximum value: 4.00\n",
      "Minimum value: 1.00\n"
     ]
    }
   ],
   "source": [
    "import numpy as np\n",
    "\n",
    "# Prompt the user to enter a list of numbers\n",
    "nums_str = input(\"Enter a list of numbers separated by commas: \")\n",
    "\n",
    "# Convert the input into a 1D NumPy array\n",
    "nums = np.array(nums_str.split(','), dtype=float)\n",
    "\n",
    "# Calculate and display the statistics\n",
    "mean = np.mean(nums)\n",
    "median = np.median(nums)\n",
    "std_dev = np.std(nums)\n",
    "max_val = np.max(nums)\n",
    "min_val = np.min(nums)\n",
    "\n",
    "print(f\"Mean: {mean:.2f}\")\n",
    "print(f\"Median: {median:.2f}\")\n",
    "print(f\"Standard deviation: {std_dev:.2f}\")\n",
    "print(f\"Maximum value: {max_val:.2f}\")\n",
    "print(f\"Minimum value: {min_val:.2f}\")"
   ]
  }
 ],
 "metadata": {
  "kernelspec": {
   "display_name": "Python 3",
   "language": "python",
   "name": "python3"
  },
  "language_info": {
   "codemirror_mode": {
    "name": "ipython",
    "version": 3
   },
   "file_extension": ".py",
   "mimetype": "text/x-python",
   "name": "python",
   "nbconvert_exporter": "python",
   "pygments_lexer": "ipython3",
   "version": "3.11.2"
  },
  "orig_nbformat": 4
 },
 "nbformat": 4,
 "nbformat_minor": 2
}
