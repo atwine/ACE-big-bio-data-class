{
  "cells": [
    {
      "cell_type": "markdown",
      "metadata": {
        "id": "aTz0cvx7Iex3"
      },
      "source": [
        "## Numpy Assignment\n",
        "Student Name:\n",
        "\n",
        "Reg No:\n",
        "\n",
        "## Instructions:\n",
        "- Please complete the questions below.\n",
        "- Please comment your code indicating how you approached the problem"
      ]
    },
    {
      "attachments": {},
      "cell_type": "markdown",
      "metadata": {
        "id": "NwKEk4skG5c2"
      },
      "source": [
        "# What is NumPy, and what are some of its key features?"
      ]
    },
    {
      "attachments": {},
      "cell_type": "markdown",
      "metadata": {},
      "source": [
        "### NumPy is a Python library that provides support for multidimensional arrays and matrices along with a vast collection of mathematical functions to operate on them. Here are some key features of NumPy:\n"
      ]
    },
    {
      "cell_type": "markdown",
      "metadata": {},
      "source": []
    },
    {
      "cell_type": "code",
      "execution_count": null,
      "metadata": {},
      "outputs": [],
      "source": []
    },
    {
      "attachments": {},
      "cell_type": "markdown",
      "metadata": {},
      "source": [
        "#### 1. Multidimensional Arrays: NumPy arrays are homogeneous arrays, which means they can only contain elements of the same data type. They can have multiple dimensions, making them ideal for working with large datasets.\n",
        "Example:"
      ]
    },
    {
      "cell_type": "code",
      "execution_count": null,
      "metadata": {},
      "outputs": [],
      "source": [
        "import numpy as np\n",
        "\n",
        "# Create a 2D array\n",
        "arr_2d = np.array([[1, 2, 3], [4, 5, 6]])\n",
        "print(arr_2d)\n",
        "# Create a 3D array\n",
        "arr_3d = np.array([[[1, 2], [3, 4]], [[5, 6], [7, 8]]])\n",
        "print(arr_3d)\n",
        "\n"
      ]
    },
    {
      "cell_type": "code",
      "execution_count": null,
      "metadata": {},
      "outputs": [],
      "source": []
    },
    {
      "cell_type": "code",
      "execution_count": null,
      "metadata": {
        "id": "OMqoIR7oJD0i"
      },
      "outputs": [],
      "source": [
        "### How do you create a NumPy array using Python's built-in range() function?"
      ]
    },
    {
      "cell_type": "code",
      "execution_count": null,
      "metadata": {},
      "outputs": [],
      "source": []
    },
    {
      "cell_type": "code",
      "execution_count": null,
      "metadata": {
        "id": "DRVy8tPoJHQr"
      },
      "outputs": [],
      "source": [
        "#What is the difference between a scalar value and a vector in NumPy?"
      ]
    },
    {
      "cell_type": "code",
      "execution_count": null,
      "metadata": {
        "id": "lHa-pHerJKd0"
      },
      "outputs": [],
      "source": [
        "#How do you calculate the mean of a NumPy array using the mean() function?"
      ]
    },
    {
      "cell_type": "code",
      "execution_count": null,
      "metadata": {
        "id": "EqpLGTh8JON9"
      },
      "outputs": [],
      "source": [
        "#What is broadcasting in NumPy, and how can it be useful?"
      ]
    },
    {
      "cell_type": "code",
      "execution_count": null,
      "metadata": {
        "id": "h0cD5yNcJQkm"
      },
      "outputs": [],
      "source": [
        "#How do you create a 2D array in NumPy using Python's built-in list of lists?"
      ]
    },
    {
      "cell_type": "code",
      "execution_count": null,
      "metadata": {
        "id": "bbLfBXwCJVwX"
      },
      "outputs": [],
      "source": [
        "#How can you slice a NumPy array to extract a subarray?"
      ]
    },
    {
      "cell_type": "code",
      "execution_count": null,
      "metadata": {
        "id": "c1jTMq5AJbS2"
      },
      "outputs": [],
      "source": [
        "#What are some of the available functions for performing element-wise operations on NumPy arrays?"
      ]
    },
    {
      "cell_type": "code",
      "execution_count": null,
      "metadata": {
        "id": "dPgmCPERJe_2"
      },
      "outputs": [],
      "source": [
        "#How do you reshape a NumPy array to have a different shape?"
      ]
    },
    {
      "cell_type": "code",
      "execution_count": null,
      "metadata": {
        "id": "oon90JvgJhvv"
      },
      "outputs": [],
      "source": [
        "#How do you perform matrix multiplication on two NumPy arrays using the dot() function?"
      ]
    },
    {
      "cell_type": "code",
      "execution_count": null,
      "metadata": {
        "id": "JtbVS5P0Jodg"
      },
      "outputs": [],
      "source": [
        "#How can you use the where() function to apply a condition to a NumPy array?"
      ]
    },
    {
      "cell_type": "code",
      "execution_count": null,
      "metadata": {
        "id": "UkJ-LQlhJrMA"
      },
      "outputs": [],
      "source": [
        "#What is the difference between the flatten() and ravel() functions in NumPy?"
      ]
    },
    {
      "cell_type": "code",
      "execution_count": null,
      "metadata": {
        "id": "5cf9aukfJsaB"
      },
      "outputs": [],
      "source": [
        "#How do you use NumPy's advanced indexing capabilities to select specific elements from an array?"
      ]
    },
    {
      "cell_type": "code",
      "execution_count": null,
      "metadata": {
        "id": "b2NpOnu2JxMp"
      },
      "outputs": [],
      "source": [
        "#How can you use NumPy's broadcasting rules to perform operations on arrays with different shapes?"
      ]
    },
    {
      "cell_type": "code",
      "execution_count": null,
      "metadata": {
        "id": "vS-gg1ZrJ8s6"
      },
      "outputs": [],
      "source": [
        "#How do you perform element-wise division of two NumPy arrays while ignoring divide-by-zero errors?"
      ]
    },
    {
      "cell_type": "markdown",
      "metadata": {
        "id": "XgeHrSj7KzTj"
      },
      "source": [
        "### Project: Array Statistics Calculator\n",
        "**Description:**\n",
        "\n",
        "In this project, you will create a program that allows a user to enter a list of numbers, and then calculates and displays various statistics about those numbers using NumPy.\n",
        "\n",
        "**Requirements:**\n",
        "\n",
        "- The program should prompt the user to enter a list of numbers separated by commas.\n",
        "- The program should use NumPy to convert the input into a 1D NumPy array.\n",
        "- The program should calculate and display the following statistics:\n",
        "- The mean of the numbers\n",
        "- The median of the numbers\n",
        "- The standard deviation of the numbers\n",
        "- The maximum and minimum values of the numbers\n",
        "- The program should use appropriate NumPy functions to calculate the statistics.\n",
        "- The program should display the statistics with appropriate labels.\n",
        "\n",
        "### Sample Output\n",
        "```\n",
        "Enter a list of numbers separated by commas: 2, 5, 7, 3, 1, 9\n",
        "Statistics for the input array:\n",
        "Mean: 4.5\n",
        "Median: 4.0\n",
        "Standard Deviation: 2.9154759474226504\n",
        "Maximum: 9\n",
        "Minimum: 1\n",
        "```"
      ]
    },
    {
      "cell_type": "code",
      "execution_count": null,
      "metadata": {
        "id": "xQU4w-RxLgWZ"
      },
      "outputs": [],
      "source": []
    }
  ],
  "metadata": {
    "colab": {
      "provenance": []
    },
    "kernelspec": {
      "display_name": "Python 3",
      "name": "python3"
    },
    "language_info": {
      "name": "python",
      "version": "3.10.6"
    }
  },
  "nbformat": 4,
  "nbformat_minor": 0
}
